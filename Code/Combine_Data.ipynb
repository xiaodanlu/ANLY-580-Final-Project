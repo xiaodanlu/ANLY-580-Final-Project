{
 "cells": [
  {
   "cell_type": "code",
   "execution_count": 8,
   "metadata": {},
   "outputs": [
    {
     "name": "stdout",
     "output_type": "stream",
     "text": [
      "     date                                  Tweets_clean_more  polarity  \\\n",
      "0  1/1/12  on lighter note rhcp f awesom no better way br...  0.232284   \n",
      "1  1/1/16  falcon back hangar cape canaver no damag found...  0.000000   \n",
      "2  1/1/19                          congratul team thank haha  0.200000   \n",
      "3  1/1/20  congratul tesla amp spacex great you rock look...  0.450000   \n",
      "4  1/1/21  dojo need make selfdriv better it enough safer...  0.125000   \n",
      "\n",
      "   subjectivity sentiment  \n",
      "0      0.423427  positive  \n",
      "1      0.000000   neutral  \n",
      "2      0.300000  positive  \n",
      "3      0.575000  positive  \n",
      "4      0.300000  positive  \n",
      "         Date      Open      High       Low     Close  Adj Close    Volume  \\\n",
      "0  2011-12-01  2.171333  2.266000  2.132000  2.173333   2.173333  15453000   \n",
      "1  2011-12-02  2.188667  2.246000  2.160000  2.220000   2.220000  12042000   \n",
      "2  2011-12-05  2.235333  2.333333  2.228667  2.294667   2.294667  17401500   \n",
      "3  2011-12-06  2.280000  2.332000  2.268667  2.324667   2.324667  14277000   \n",
      "4  2011-12-07  2.308667  2.326000  2.253333  2.279333   2.279333  10114500   \n",
      "\n",
      "      Label  \n",
      "0  Increase  \n",
      "1  Increase  \n",
      "2  Increase  \n",
      "3  Increase  \n",
      "4  Decrease  \n"
     ]
    }
   ],
   "source": [
    "import pandas as pd\n",
    "\n",
    "# Read in the data\n",
    "tweets = pd.read_csv(\"../Data/TweetsElonMusk_clean.csv\")\n",
    "tesla = pd.read_csv(\"../Data/TSLA_labeled.csv\")\n",
    "print(tweets.head())\n",
    "print(tesla.head())"
   ]
  },
  {
   "cell_type": "code",
   "execution_count": 9,
   "metadata": {},
   "outputs": [
    {
     "data": {
      "text/plain": [
       "\"\\nUse Loop to combine the data\\n\\nlabel = []\\nfor i in range(len(tweets)):\\n    date_tweet = tweets['date'][i].split('/')\\n    if len(date_tweet[0]) == 1:\\n        date_tweet[0] = '0' + date_tweet[0]\\n    if len(date_tweet[1]) == 1:\\n        date_tweet[1] = '0' + date_tweet[1]\\n    for j in range(len(tesla)):\\n        date_tesla = tesla['Date'][j].split('-')\\n        if date_tweet[0] == date_tesla[1] and date_tweet[1] == date_tesla[2] and date_tweet[2] == date_tesla[0][2:]:\\n            label.append(tesla['Label'][j]) \\n            break\\n\""
      ]
     },
     "execution_count": 9,
     "metadata": {},
     "output_type": "execute_result"
    }
   ],
   "source": [
    "\"\"\"\n",
    "Use Loop to combine the data\n",
    "\n",
    "label = []\n",
    "for i in range(len(tweets)):\n",
    "    date_tweet = tweets['date'][i].split('/')\n",
    "    if len(date_tweet[0]) == 1:\n",
    "        date_tweet[0] = '0' + date_tweet[0]\n",
    "    if len(date_tweet[1]) == 1:\n",
    "        date_tweet[1] = '0' + date_tweet[1]\n",
    "    for j in range(len(tesla)):\n",
    "        date_tesla = tesla['Date'][j].split('-')\n",
    "        if date_tweet[0] == date_tesla[1] and date_tweet[1] == date_tesla[2] and date_tweet[2] == date_tesla[0][2:]:\n",
    "            label.append(tesla['Label'][j]) \n",
    "            break\n",
    "\"\"\""
   ]
  },
  {
   "cell_type": "code",
   "execution_count": 10,
   "metadata": {},
   "outputs": [
    {
     "data": {
      "text/plain": [
       "\"\\nAnother way to combine the data\\n\\nfor i in range(len(tweets['date'])):\\n    date = tweets['date'][i].split('/')\\n    if len(date[0]) == 1:\\n        date[0] = '0' + date[0]\\n    if len(date[1]) == 1:\\n        date[1] = '0' + date[1]\\n    tweets['date'][i] = '20'+date[2] + '-' + date[0] + '-' + date[1]\\ntweets.rename(columns={'date': 'Date'}, inplace=True)\\n\\nfor i in range(len(tesla['Date'])):\\n    date = tesla['Date'][i].split('-')\\n    tesla['Date'][i] = date[0] + '-' + date[1] + '-' + date[2]\\n\\ntesla_tweets = pd.merge(tweets, tesla, on='Date', how='left')\\nprint(tesla_tweets.head())\\n\""
      ]
     },
     "execution_count": 10,
     "metadata": {},
     "output_type": "execute_result"
    }
   ],
   "source": [
    "\"\"\"\n",
    "Another way to combine the data\n",
    "\n",
    "for i in range(len(tweets['date'])):\n",
    "    date = tweets['date'][i].split('/')\n",
    "    if len(date[0]) == 1:\n",
    "        date[0] = '0' + date[0]\n",
    "    if len(date[1]) == 1:\n",
    "        date[1] = '0' + date[1]\n",
    "    tweets['date'][i] = '20'+date[2] + '-' + date[0] + '-' + date[1]\n",
    "tweets.rename(columns={'date': 'Date'}, inplace=True)\n",
    "\n",
    "for i in range(len(tesla['Date'])):\n",
    "    date = tesla['Date'][i].split('-')\n",
    "    tesla['Date'][i] = date[0] + '-' + date[1] + '-' + date[2]\n",
    "\n",
    "tesla_tweets = pd.merge(tweets, tesla, on='Date', how='left')\n",
    "print(tesla_tweets.head())\n",
    "\"\"\""
   ]
  },
  {
   "cell_type": "code",
   "execution_count": 11,
   "metadata": {},
   "outputs": [
    {
     "data": {
      "text/plain": [
       "\"\\nAnother way to combine the data\\n\\nlabel =[]\\nfor i in range(len(tweets)):\\n    for j in range(len(tesla)):\\n        if tweets['Date'][i].day == tesla['Date'][j].day and tweets['Date'][i].month == tesla['Date'][j].month and tweets['Date'][i].year == tesla['Date'][j].year:\\n            label.append(tesla['Label'][j])\\n            break\\n\\n\""
      ]
     },
     "execution_count": 11,
     "metadata": {},
     "output_type": "execute_result"
    }
   ],
   "source": [
    "\n",
    "\"\"\"\n",
    "Another way to combine the data\n",
    "\n",
    "label =[]\n",
    "for i in range(len(tweets)):\n",
    "    for j in range(len(tesla)):\n",
    "        if tweets['Date'][i].day == tesla['Date'][j].day and tweets['Date'][i].month == tesla['Date'][j].month and tweets['Date'][i].year == tesla['Date'][j].year:\n",
    "            label.append(tesla['Label'][j])\n",
    "            break\n",
    "\n",
    "\"\"\""
   ]
  },
  {
   "cell_type": "code",
   "execution_count": 12,
   "metadata": {},
   "outputs": [
    {
     "name": "stdout",
     "output_type": "stream",
     "text": [
      "        Date      Open      High       Low     Close  Adj Close    Volume  \\\n",
      "0 2011-12-01  2.171333  2.266000  2.132000  2.173333   2.173333  15453000   \n",
      "1 2011-12-02  2.188667  2.246000  2.160000  2.220000   2.220000  12042000   \n",
      "2 2011-12-05  2.235333  2.333333  2.228667  2.294667   2.294667  17401500   \n",
      "3 2011-12-06  2.280000  2.332000  2.268667  2.324667   2.324667  14277000   \n",
      "4 2011-12-07  2.308667  2.326000  2.253333  2.279333   2.279333  10114500   \n",
      "\n",
      "      Label  \n",
      "0  Increase  \n",
      "1  Increase  \n",
      "2  Increase  \n",
      "3  Increase  \n",
      "4  Decrease           Date                                  Tweets_clean_more  polarity  \\\n",
      "0 2012-01-01  on lighter note rhcp f awesom no better way br...  0.232284   \n",
      "1 2016-01-01  falcon back hangar cape canaver no damag found...  0.000000   \n",
      "2 2019-01-01                          congratul team thank haha  0.200000   \n",
      "3 2020-01-01  congratul tesla amp spacex great you rock look...  0.450000   \n",
      "4 2021-01-01  dojo need make selfdriv better it enough safer...  0.125000   \n",
      "\n",
      "   subjectivity sentiment  \n",
      "0      0.423427  positive  \n",
      "1      0.000000   neutral  \n",
      "2      0.300000  positive  \n",
      "3      0.575000  positive  \n",
      "4      0.300000  positive  \n"
     ]
    }
   ],
   "source": [
    "# Change Format of Date\n",
    "tweets['date'] = pd.to_datetime(tweets['date'], dayfirst=False)\n",
    "tweets['date'] = pd.to_datetime(tweets['date'], format='%Y-%m-%d')\n",
    "tesla['Date'] = pd.to_datetime(tesla['Date'], format='%Y-%m-%d', yearfirst=True)\n",
    "tweets.rename(columns={'date': 'Date'}, inplace=True)\n",
    "print(tesla.head(), tweets.head())"
   ]
  },
  {
   "cell_type": "code",
   "execution_count": 13,
   "metadata": {},
   "outputs": [
    {
     "name": "stdout",
     "output_type": "stream",
     "text": [
      "<class 'pandas.core.series.Series'> <class 'pandas.core.series.Series'>\n"
     ]
    }
   ],
   "source": [
    "print(type(tesla['Date']),type(tweets['Date']))"
   ]
  },
  {
   "cell_type": "code",
   "execution_count": 14,
   "metadata": {},
   "outputs": [
    {
     "name": "stdout",
     "output_type": "stream",
     "text": [
      "         Date                                  Tweets_clean_more  polarity  \\\n",
      "5  2013-01-10  to super clear i dont wish could i mandat anyt...  0.216667   \n",
      "8  2019-01-10  ye get regulatori pushback may avail region go...  0.123333   \n",
      "9  2020-01-10  dome barrel weld made bar pretti good bar need...  0.411111   \n",
      "11 2012-01-11  the exec conf room tesla use call denali i dec...  0.600000   \n",
      "13 2016-01-11                    sad hear david bowi die he amaz -0.500000   \n",
      "\n",
      "    subjectivity sentiment     Label  \n",
      "5       0.525000  positive  Decrease  \n",
      "8       0.490556  positive  Increase  \n",
      "9       0.570988  positive  Decrease  \n",
      "11      1.000000  positive  Increase  \n",
      "13      1.000000  negative  Decrease  \n"
     ]
    }
   ],
   "source": [
    "# Merge the data\n",
    "tesla_tweets = pd.merge(tweets, tesla, on='Date', how='left')\n",
    "tesla_tweets.drop([\"Open\", \"High\", \"Low\", \"Close\", \"Volume\", \"Adj Close\"], axis=1, inplace=True)\n",
    "tesla_tweets.dropna(axis=0, inplace=True)\n",
    "print(tesla_tweets.head())\n",
    "\n",
    "# Save the data\n",
    "tesla_tweets.to_csv(\"../Data/Combined.csv\", index=False)"
   ]
  }
 ],
 "metadata": {
  "kernelspec": {
   "display_name": "Python 3.10.4 ('anly-580')",
   "language": "python",
   "name": "python3"
  },
  "language_info": {
   "codemirror_mode": {
    "name": "ipython",
    "version": 3
   },
   "file_extension": ".py",
   "mimetype": "text/x-python",
   "name": "python",
   "nbconvert_exporter": "python",
   "pygments_lexer": "ipython3",
   "version": "3.10.4"
  },
  "orig_nbformat": 4,
  "vscode": {
   "interpreter": {
    "hash": "632cdf940b59264b613ce36e6ff44b18344167f8957438a92a721914f37336e1"
   }
  }
 },
 "nbformat": 4,
 "nbformat_minor": 2
}
