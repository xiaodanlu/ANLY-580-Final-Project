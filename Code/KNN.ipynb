{
  "cells": [
    {
      "cell_type": "markdown",
      "metadata": {
        "id": "ooVmypduNuTe"
      },
      "source": [
        "#### K-Nnearest Neighbours (KNN) Model\n",
        "kernel crashed, worked on google colab"
      ]
    },
    {
      "cell_type": "code",
      "execution_count": null,
      "metadata": {
        "id": "l1zNxGcKNuTi"
      },
      "outputs": [],
      "source": [
        "from sklearn.neighbors import KNeighborsClassifier\n",
        "from sklearn.model_selection import train_test_split\n",
        "from sklearn.metrics import confusion_matrix, accuracy_score, classification_report,roc_auc_score,f1_score\n",
        "from sklearn.feature_extraction.text import CountVectorizer\n",
        "from sklearn.preprocessing import LabelBinarizer\n",
        "import pandas as pd\n",
        "import numpy as np\n",
        "import matplotlib.pyplot as plt\n",
        "import seaborn as sns\n",
        "from google.colab import drive,files"
      ]
    },
    {
      "cell_type": "markdown",
      "metadata": {
        "id": "biUf8j8t5EMX"
      },
      "source": [
        "## Load the dataset"
      ]
    },
    {
      "cell_type": "code",
      "execution_count": null,
      "metadata": {
        "colab": {
          "base_uri": "https://localhost:8080/",
          "height": 224
        },
        "id": "AlJwPALqNuTj",
        "outputId": "d3dfef1a-24a7-4b67-8aa8-319c9913b02e"
      },
      "outputs": [
        {
          "output_type": "stream",
          "name": "stdout",
          "text": [
            "Mounted at /content/gdrive\n"
          ]
        },
        {
          "output_type": "execute_result",
          "data": {
            "text/plain": [
              "         Date                                  Tweets_clean_more  polarity  \\\n",
              "0  2013-01-10  to super clear i dont wish could i mandat anyt...  0.216667   \n",
              "1  2019-01-10  ye get regulatori pushback may avail region go...  0.123333   \n",
              "2  2020-01-10  dome barrel weld made bar pretti good bar need...  0.411111   \n",
              "3  2012-01-11  the exec conf room tesla use call denali i dec...  0.600000   \n",
              "4  2016-01-11                    sad hear david bowi die he amaz -0.500000   \n",
              "\n",
              "   subjectivity sentiment Label_delayed_2Days  \n",
              "0      0.525000  positive            Decrease  \n",
              "1      0.490556  positive            Increase  \n",
              "2      0.570988  positive            Decrease  \n",
              "3      1.000000  positive            Decrease  \n",
              "4      1.000000  negative            Increase  "
            ],
            "text/html": [
              "\n",
              "  <div id=\"df-4b155f74-bcda-42ac-8663-57ff822cedb9\">\n",
              "    <div class=\"colab-df-container\">\n",
              "      <div>\n",
              "<style scoped>\n",
              "    .dataframe tbody tr th:only-of-type {\n",
              "        vertical-align: middle;\n",
              "    }\n",
              "\n",
              "    .dataframe tbody tr th {\n",
              "        vertical-align: top;\n",
              "    }\n",
              "\n",
              "    .dataframe thead th {\n",
              "        text-align: right;\n",
              "    }\n",
              "</style>\n",
              "<table border=\"1\" class=\"dataframe\">\n",
              "  <thead>\n",
              "    <tr style=\"text-align: right;\">\n",
              "      <th></th>\n",
              "      <th>Date</th>\n",
              "      <th>Tweets_clean_more</th>\n",
              "      <th>polarity</th>\n",
              "      <th>subjectivity</th>\n",
              "      <th>sentiment</th>\n",
              "      <th>Label_delayed_2Days</th>\n",
              "    </tr>\n",
              "  </thead>\n",
              "  <tbody>\n",
              "    <tr>\n",
              "      <th>0</th>\n",
              "      <td>2013-01-10</td>\n",
              "      <td>to super clear i dont wish could i mandat anyt...</td>\n",
              "      <td>0.216667</td>\n",
              "      <td>0.525000</td>\n",
              "      <td>positive</td>\n",
              "      <td>Decrease</td>\n",
              "    </tr>\n",
              "    <tr>\n",
              "      <th>1</th>\n",
              "      <td>2019-01-10</td>\n",
              "      <td>ye get regulatori pushback may avail region go...</td>\n",
              "      <td>0.123333</td>\n",
              "      <td>0.490556</td>\n",
              "      <td>positive</td>\n",
              "      <td>Increase</td>\n",
              "    </tr>\n",
              "    <tr>\n",
              "      <th>2</th>\n",
              "      <td>2020-01-10</td>\n",
              "      <td>dome barrel weld made bar pretti good bar need...</td>\n",
              "      <td>0.411111</td>\n",
              "      <td>0.570988</td>\n",
              "      <td>positive</td>\n",
              "      <td>Decrease</td>\n",
              "    </tr>\n",
              "    <tr>\n",
              "      <th>3</th>\n",
              "      <td>2012-01-11</td>\n",
              "      <td>the exec conf room tesla use call denali i dec...</td>\n",
              "      <td>0.600000</td>\n",
              "      <td>1.000000</td>\n",
              "      <td>positive</td>\n",
              "      <td>Decrease</td>\n",
              "    </tr>\n",
              "    <tr>\n",
              "      <th>4</th>\n",
              "      <td>2016-01-11</td>\n",
              "      <td>sad hear david bowi die he amaz</td>\n",
              "      <td>-0.500000</td>\n",
              "      <td>1.000000</td>\n",
              "      <td>negative</td>\n",
              "      <td>Increase</td>\n",
              "    </tr>\n",
              "  </tbody>\n",
              "</table>\n",
              "</div>\n",
              "      <button class=\"colab-df-convert\" onclick=\"convertToInteractive('df-4b155f74-bcda-42ac-8663-57ff822cedb9')\"\n",
              "              title=\"Convert this dataframe to an interactive table.\"\n",
              "              style=\"display:none;\">\n",
              "        \n",
              "  <svg xmlns=\"http://www.w3.org/2000/svg\" height=\"24px\"viewBox=\"0 0 24 24\"\n",
              "       width=\"24px\">\n",
              "    <path d=\"M0 0h24v24H0V0z\" fill=\"none\"/>\n",
              "    <path d=\"M18.56 5.44l.94 2.06.94-2.06 2.06-.94-2.06-.94-.94-2.06-.94 2.06-2.06.94zm-11 1L8.5 8.5l.94-2.06 2.06-.94-2.06-.94L8.5 2.5l-.94 2.06-2.06.94zm10 10l.94 2.06.94-2.06 2.06-.94-2.06-.94-.94-2.06-.94 2.06-2.06.94z\"/><path d=\"M17.41 7.96l-1.37-1.37c-.4-.4-.92-.59-1.43-.59-.52 0-1.04.2-1.43.59L10.3 9.45l-7.72 7.72c-.78.78-.78 2.05 0 2.83L4 21.41c.39.39.9.59 1.41.59.51 0 1.02-.2 1.41-.59l7.78-7.78 2.81-2.81c.8-.78.8-2.07 0-2.86zM5.41 20L4 18.59l7.72-7.72 1.47 1.35L5.41 20z\"/>\n",
              "  </svg>\n",
              "      </button>\n",
              "      \n",
              "  <style>\n",
              "    .colab-df-container {\n",
              "      display:flex;\n",
              "      flex-wrap:wrap;\n",
              "      gap: 12px;\n",
              "    }\n",
              "\n",
              "    .colab-df-convert {\n",
              "      background-color: #E8F0FE;\n",
              "      border: none;\n",
              "      border-radius: 50%;\n",
              "      cursor: pointer;\n",
              "      display: none;\n",
              "      fill: #1967D2;\n",
              "      height: 32px;\n",
              "      padding: 0 0 0 0;\n",
              "      width: 32px;\n",
              "    }\n",
              "\n",
              "    .colab-df-convert:hover {\n",
              "      background-color: #E2EBFA;\n",
              "      box-shadow: 0px 1px 2px rgba(60, 64, 67, 0.3), 0px 1px 3px 1px rgba(60, 64, 67, 0.15);\n",
              "      fill: #174EA6;\n",
              "    }\n",
              "\n",
              "    [theme=dark] .colab-df-convert {\n",
              "      background-color: #3B4455;\n",
              "      fill: #D2E3FC;\n",
              "    }\n",
              "\n",
              "    [theme=dark] .colab-df-convert:hover {\n",
              "      background-color: #434B5C;\n",
              "      box-shadow: 0px 1px 3px 1px rgba(0, 0, 0, 0.15);\n",
              "      filter: drop-shadow(0px 1px 2px rgba(0, 0, 0, 0.3));\n",
              "      fill: #FFFFFF;\n",
              "    }\n",
              "  </style>\n",
              "\n",
              "      <script>\n",
              "        const buttonEl =\n",
              "          document.querySelector('#df-4b155f74-bcda-42ac-8663-57ff822cedb9 button.colab-df-convert');\n",
              "        buttonEl.style.display =\n",
              "          google.colab.kernel.accessAllowed ? 'block' : 'none';\n",
              "\n",
              "        async function convertToInteractive(key) {\n",
              "          const element = document.querySelector('#df-4b155f74-bcda-42ac-8663-57ff822cedb9');\n",
              "          const dataTable =\n",
              "            await google.colab.kernel.invokeFunction('convertToInteractive',\n",
              "                                                     [key], {});\n",
              "          if (!dataTable) return;\n",
              "\n",
              "          const docLinkHtml = 'Like what you see? Visit the ' +\n",
              "            '<a target=\"_blank\" href=https://colab.research.google.com/notebooks/data_table.ipynb>data table notebook</a>'\n",
              "            + ' to learn more about interactive tables.';\n",
              "          element.innerHTML = '';\n",
              "          dataTable['output_type'] = 'display_data';\n",
              "          await google.colab.output.renderOutput(dataTable, element);\n",
              "          const docLink = document.createElement('div');\n",
              "          docLink.innerHTML = docLinkHtml;\n",
              "          element.appendChild(docLink);\n",
              "        }\n",
              "      </script>\n",
              "    </div>\n",
              "  </div>\n",
              "  "
            ]
          },
          "metadata": {},
          "execution_count": 2
        }
      ],
      "source": [
        "drive.mount(\"/content/gdrive\")\n",
        "df = pd.read_csv('/content/gdrive/My Drive/580/Combined_Delayed_2Days.csv')\n",
        "df.head()"
      ]
    },
    {
      "cell_type": "code",
      "execution_count": null,
      "metadata": {
        "colab": {
          "base_uri": "https://localhost:8080/",
          "height": 238
        },
        "id": "OR66rA3HNuTk",
        "outputId": "0297bb86-e028-4465-a107-ad472dc17fbd"
      },
      "outputs": [
        {
          "output_type": "execute_result",
          "data": {
            "text/plain": [
              "                                            Tweets_clean_more  \\\n",
              "Date                                                            \n",
              "2013-01-10  to super clear i dont wish could i mandat anyt...   \n",
              "2019-01-10  ye get regulatori pushback may avail region go...   \n",
              "2020-01-10  dome barrel weld made bar pretti good bar need...   \n",
              "2012-01-11  the exec conf room tesla use call denali i dec...   \n",
              "2016-01-11                    sad hear david bowi die he amaz   \n",
              "\n",
              "           Label_delayed_2Days  \n",
              "Date                            \n",
              "2013-01-10            Decrease  \n",
              "2019-01-10            Increase  \n",
              "2020-01-10            Decrease  \n",
              "2012-01-11            Decrease  \n",
              "2016-01-11            Increase  "
            ],
            "text/html": [
              "\n",
              "  <div id=\"df-25b8060d-00a3-4038-82f8-5609dc6895c0\">\n",
              "    <div class=\"colab-df-container\">\n",
              "      <div>\n",
              "<style scoped>\n",
              "    .dataframe tbody tr th:only-of-type {\n",
              "        vertical-align: middle;\n",
              "    }\n",
              "\n",
              "    .dataframe tbody tr th {\n",
              "        vertical-align: top;\n",
              "    }\n",
              "\n",
              "    .dataframe thead th {\n",
              "        text-align: right;\n",
              "    }\n",
              "</style>\n",
              "<table border=\"1\" class=\"dataframe\">\n",
              "  <thead>\n",
              "    <tr style=\"text-align: right;\">\n",
              "      <th></th>\n",
              "      <th>Tweets_clean_more</th>\n",
              "      <th>Label_delayed_2Days</th>\n",
              "    </tr>\n",
              "    <tr>\n",
              "      <th>Date</th>\n",
              "      <th></th>\n",
              "      <th></th>\n",
              "    </tr>\n",
              "  </thead>\n",
              "  <tbody>\n",
              "    <tr>\n",
              "      <th>2013-01-10</th>\n",
              "      <td>to super clear i dont wish could i mandat anyt...</td>\n",
              "      <td>Decrease</td>\n",
              "    </tr>\n",
              "    <tr>\n",
              "      <th>2019-01-10</th>\n",
              "      <td>ye get regulatori pushback may avail region go...</td>\n",
              "      <td>Increase</td>\n",
              "    </tr>\n",
              "    <tr>\n",
              "      <th>2020-01-10</th>\n",
              "      <td>dome barrel weld made bar pretti good bar need...</td>\n",
              "      <td>Decrease</td>\n",
              "    </tr>\n",
              "    <tr>\n",
              "      <th>2012-01-11</th>\n",
              "      <td>the exec conf room tesla use call denali i dec...</td>\n",
              "      <td>Decrease</td>\n",
              "    </tr>\n",
              "    <tr>\n",
              "      <th>2016-01-11</th>\n",
              "      <td>sad hear david bowi die he amaz</td>\n",
              "      <td>Increase</td>\n",
              "    </tr>\n",
              "  </tbody>\n",
              "</table>\n",
              "</div>\n",
              "      <button class=\"colab-df-convert\" onclick=\"convertToInteractive('df-25b8060d-00a3-4038-82f8-5609dc6895c0')\"\n",
              "              title=\"Convert this dataframe to an interactive table.\"\n",
              "              style=\"display:none;\">\n",
              "        \n",
              "  <svg xmlns=\"http://www.w3.org/2000/svg\" height=\"24px\"viewBox=\"0 0 24 24\"\n",
              "       width=\"24px\">\n",
              "    <path d=\"M0 0h24v24H0V0z\" fill=\"none\"/>\n",
              "    <path d=\"M18.56 5.44l.94 2.06.94-2.06 2.06-.94-2.06-.94-.94-2.06-.94 2.06-2.06.94zm-11 1L8.5 8.5l.94-2.06 2.06-.94-2.06-.94L8.5 2.5l-.94 2.06-2.06.94zm10 10l.94 2.06.94-2.06 2.06-.94-2.06-.94-.94-2.06-.94 2.06-2.06.94z\"/><path d=\"M17.41 7.96l-1.37-1.37c-.4-.4-.92-.59-1.43-.59-.52 0-1.04.2-1.43.59L10.3 9.45l-7.72 7.72c-.78.78-.78 2.05 0 2.83L4 21.41c.39.39.9.59 1.41.59.51 0 1.02-.2 1.41-.59l7.78-7.78 2.81-2.81c.8-.78.8-2.07 0-2.86zM5.41 20L4 18.59l7.72-7.72 1.47 1.35L5.41 20z\"/>\n",
              "  </svg>\n",
              "      </button>\n",
              "      \n",
              "  <style>\n",
              "    .colab-df-container {\n",
              "      display:flex;\n",
              "      flex-wrap:wrap;\n",
              "      gap: 12px;\n",
              "    }\n",
              "\n",
              "    .colab-df-convert {\n",
              "      background-color: #E8F0FE;\n",
              "      border: none;\n",
              "      border-radius: 50%;\n",
              "      cursor: pointer;\n",
              "      display: none;\n",
              "      fill: #1967D2;\n",
              "      height: 32px;\n",
              "      padding: 0 0 0 0;\n",
              "      width: 32px;\n",
              "    }\n",
              "\n",
              "    .colab-df-convert:hover {\n",
              "      background-color: #E2EBFA;\n",
              "      box-shadow: 0px 1px 2px rgba(60, 64, 67, 0.3), 0px 1px 3px 1px rgba(60, 64, 67, 0.15);\n",
              "      fill: #174EA6;\n",
              "    }\n",
              "\n",
              "    [theme=dark] .colab-df-convert {\n",
              "      background-color: #3B4455;\n",
              "      fill: #D2E3FC;\n",
              "    }\n",
              "\n",
              "    [theme=dark] .colab-df-convert:hover {\n",
              "      background-color: #434B5C;\n",
              "      box-shadow: 0px 1px 3px 1px rgba(0, 0, 0, 0.15);\n",
              "      filter: drop-shadow(0px 1px 2px rgba(0, 0, 0, 0.3));\n",
              "      fill: #FFFFFF;\n",
              "    }\n",
              "  </style>\n",
              "\n",
              "      <script>\n",
              "        const buttonEl =\n",
              "          document.querySelector('#df-25b8060d-00a3-4038-82f8-5609dc6895c0 button.colab-df-convert');\n",
              "        buttonEl.style.display =\n",
              "          google.colab.kernel.accessAllowed ? 'block' : 'none';\n",
              "\n",
              "        async function convertToInteractive(key) {\n",
              "          const element = document.querySelector('#df-25b8060d-00a3-4038-82f8-5609dc6895c0');\n",
              "          const dataTable =\n",
              "            await google.colab.kernel.invokeFunction('convertToInteractive',\n",
              "                                                     [key], {});\n",
              "          if (!dataTable) return;\n",
              "\n",
              "          const docLinkHtml = 'Like what you see? Visit the ' +\n",
              "            '<a target=\"_blank\" href=https://colab.research.google.com/notebooks/data_table.ipynb>data table notebook</a>'\n",
              "            + ' to learn more about interactive tables.';\n",
              "          element.innerHTML = '';\n",
              "          dataTable['output_type'] = 'display_data';\n",
              "          await google.colab.output.renderOutput(dataTable, element);\n",
              "          const docLink = document.createElement('div');\n",
              "          docLink.innerHTML = docLinkHtml;\n",
              "          element.appendChild(docLink);\n",
              "        }\n",
              "      </script>\n",
              "    </div>\n",
              "  </div>\n",
              "  "
            ]
          },
          "metadata": {},
          "execution_count": 3
        }
      ],
      "source": [
        "df = df[[\"Date\",\"Tweets_clean_more\",\"Label_delayed_2Days\"]]\n",
        "#df = df.replace({'positive':1,'negative':-1,'neutral':0,'Increase':1,'Decrease':-1,'No Change':0})\n",
        "df.set_index(\"Date\",inplace= True)\n",
        "df.head()"
      ]
    },
    {
      "cell_type": "markdown",
      "metadata": {
        "id": "0R9c-WoI5EMa"
      },
      "source": [
        "## Train test split, vectorize the text"
      ]
    },
    {
      "cell_type": "code",
      "execution_count": null,
      "metadata": {
        "id": "zlNfevzINuTk"
      },
      "outputs": [],
      "source": [
        "x = df['Tweets_clean_more']\n",
        "y = df[\"Label_delayed_2Days\"]\n",
        "x_train,x_test,y_train,y_test = train_test_split(x,y,train_size = 0.8, random_state=123)\n",
        "vec = CountVectorizer()\n",
        "vec.fit(x_train)\n",
        "vec.fit(x_test)\n",
        "x_train_features = vec.transform(x_train)\n",
        "x_test_features = vec.transform(x_test)"
      ]
    },
    {
      "cell_type": "markdown",
      "metadata": {
        "id": "DlLD9m1Z5EMb"
      },
      "source": [
        "### check x_train shape"
      ]
    },
    {
      "cell_type": "code",
      "execution_count": null,
      "metadata": {
        "colab": {
          "base_uri": "https://localhost:8080/"
        },
        "id": "A5JZkez2NuTl",
        "outputId": "f14cc17a-4839-449e-bab1-2de53dbadafc"
      },
      "outputs": [
        {
          "output_type": "execute_result",
          "data": {
            "text/plain": [
              "(1136, 3361)"
            ]
          },
          "metadata": {},
          "execution_count": 5
        }
      ],
      "source": [
        "x_train_features.shape"
      ]
    },
    {
      "cell_type": "markdown",
      "metadata": {
        "id": "ugSKeMpB5EMb"
      },
      "source": [
        "## fit the model\n",
        "used different number of neighbors (from 1-21) and manhattan distance as hyperparameters"
      ]
    },
    {
      "cell_type": "code",
      "execution_count": null,
      "metadata": {
        "colab": {
          "base_uri": "https://localhost:8080/",
          "height": 295
        },
        "id": "RXzoMcG-NuTm",
        "outputId": "0cd9d8f4-c206-4046-f55d-e848bf76419b"
      },
      "outputs": [
        {
          "output_type": "display_data",
          "data": {
            "text/plain": [
              "<Figure size 432x288 with 1 Axes>"
            ],
            "image/png": "[encoded data removed]"
          },
          "metadata": {
            "needs_background": "light"
          }
        }
      ],
      "source": [
        "neighbors =[i for i in range(1,22,2)]\n",
        "train_accuracy = np.empty(len(neighbors))\n",
        "test_accuracy = np.empty(len(neighbors))\n",
        "for i,n in enumerate(neighbors):\n",
        "    clf = KNeighborsClassifier(n_neighbors=n,p=1) # manhattan distance\n",
        "    clf.fit(x_train_features,y_train)\n",
        "\n",
        "    train_accuracy[i] = clf.score(x_train_features,y_train)\n",
        "    test_accuracy[i] = clf.score(x_test_features,y_test)\n",
        "\n",
        "\n",
        "plt.title('k-NN Varying number of neighbors')\n",
        "plt.plot(neighbors, test_accuracy, label='Testing Accuracy')\n",
        "plt.plot(neighbors, train_accuracy, label='Training accuracy')\n",
        "plt.xticks(np.arange(0,22,step=1))\n",
        "plt.legend()\n",
        "plt.xlabel('Number of neighbors')\n",
        "plt.ylabel('Accuracy')\n",
        "plt.show()"
      ]
    },
    {
      "cell_type": "markdown",
      "source": [
        "## best model with manhattan distance\n",
        "n = 13, p = 1\n",
        "\n",
        "Accuracy = 0.528"
      ],
      "metadata": {
        "id": "2KGJGaPn5fgV"
      }
    },
    {
      "cell_type": "code",
      "source": [
        "clf = KNeighborsClassifier(n_neighbors=13,p=1) # manhattan distance\n",
        "clf.fit(x_train_features,y_train)\n",
        "ypred_test = clf.predict(x_test_features)\n",
        "cm = confusion_matrix(y_test,ypred_test)\n",
        "acc = accuracy_score(y_test,ypred_test)\n",
        "print(\"Model report:\")\n",
        "print(\"classification report:\\n\",classification_report(y_test,ypred_test))\n",
        "print(\"Accuracy score: \",acc)\n",
        "print(\"F1 Score:\",f1_score(y_test,ypred_test,average=\"micro\"))\n",
        "lb = LabelBinarizer()\n",
        "lb.fit(y_test)\n",
        "y_test_lb = lb.transform(y_test)\n",
        "ypred_test_lb = lb.transform(ypred_test)\n",
        "print(\"ROC AUC Score:\",roc_auc_score(y_test_lb, ypred_test_lb, average='micro'))\n",
        "sns.heatmap(cm,annot=True)\n"
      ],
      "metadata": {
        "colab": {
          "base_uri": "https://localhost:8080/",
          "height": 667
        },
        "id": "YadZBwFE5evk",
        "outputId": "44c54d5b-cb60-48fc-a6a4-1013ac55f12f"
      },
      "execution_count": null,
      "outputs": [
        {
          "output_type": "stream",
          "name": "stdout",
          "text": [
            "Model report:\n",
            "classification report:\n",
            "               precision    recall  f1-score   support\n",
            "\n",
            "    Decrease       0.56      0.39      0.46       140\n",
            "    Increase       0.51      0.69      0.59       139\n",
            "   No Change       0.00      0.00      0.00         5\n",
            "\n",
            "    accuracy                           0.53       284\n",
            "   macro avg       0.36      0.36      0.35       284\n",
            "weighted avg       0.53      0.53      0.51       284\n",
            "\n",
            "Accuracy score:  0.528169014084507\n",
            "F1 Score: 0.528169014084507\n",
            "ROC AUC Score: 0.6461267605633803\n"
          ]
        },
        {
          "output_type": "stream",
          "name": "stderr",
          "text": [
            "/usr/local/lib/python3.8/dist-packages/sklearn/metrics/_classification.py:1318: UndefinedMetricWarning: Precision and F-score are ill-defined and being set to 0.0 in labels with no predicted samples. Use `zero_division` parameter to control this behavior.\n",
            "  _warn_prf(average, modifier, msg_start, len(result))\n",
            "/usr/local/lib/python3.8/dist-packages/sklearn/metrics/_classification.py:1318: UndefinedMetricWarning: Precision and F-score are ill-defined and being set to 0.0 in labels with no predicted samples. Use `zero_division` parameter to control this behavior.\n",
            "  _warn_prf(average, modifier, msg_start, len(result))\n",
            "/usr/local/lib/python3.8/dist-packages/sklearn/metrics/_classification.py:1318: UndefinedMetricWarning: Precision and F-score are ill-defined and being set to 0.0 in labels with no predicted samples. Use `zero_division` parameter to control this behavior.\n",
            "  _warn_prf(average, modifier, msg_start, len(result))\n"
          ]
        },
        {
          "output_type": "execute_result",
          "data": {
            "text/plain": [
              "<matplotlib.axes._subplots.AxesSubplot at 0x7f117caef070>"
            ]
          },
          "metadata": {},
          "execution_count": 27
        },
        {
          "output_type": "display_data",
          "data": {
            "text/plain": [
              "<Figure size 432x288 with 2 Axes>"
            ],
            "image/png": "[encoded data removed]"
          },
          "metadata": {
            "needs_background": "light"
          }
        }
      ]
    },
    {
      "cell_type": "markdown",
      "metadata": {
        "id": "x2UIwsxq5EMc"
      },
      "source": [
        "## model with euclidean distance"
      ]
    },
    {
      "cell_type": "code",
      "execution_count": null,
      "metadata": {
        "colab": {
          "base_uri": "https://localhost:8080/",
          "height": 295
        },
        "id": "BfdSlcgSNuTn",
        "outputId": "1dddbc79-2a61-460d-cd83-1d2c93f8d64a"
      },
      "outputs": [
        {
          "output_type": "display_data",
          "data": {
            "text/plain": [
              "<Figure size 432x288 with 1 Axes>"
            ],
            "image/png": "[encoded data removed]"
          },
          "metadata": {
            "needs_background": "light"
          }
        }
      ],
      "source": [
        "neighbors =[i for i in range(1,22,2)]\n",
        "train_accuracy = np.empty(len(neighbors))\n",
        "test_accuracy = np.empty(len(neighbors))\n",
        "for i,n in enumerate(neighbors):\n",
        "    clf = KNeighborsClassifier(n_neighbors=n,p=2) #euclidean distance\n",
        "    clf.fit(x_train_features,y_train)\n",
        "\n",
        "    train_accuracy[i] = clf.score(x_train_features,y_train)\n",
        "    test_accuracy[i] = clf.score(x_test_features,y_test)\n",
        "\n",
        "plt.title('k-NN Varying number of neighbors')\n",
        "plt.plot(neighbors, test_accuracy, label='Testing Accuracy')\n",
        "plt.plot(neighbors, train_accuracy, label='Training accuracy')\n",
        "plt.xticks(np.arange(0,22,step=2))\n",
        "plt.legend()\n",
        "plt.xlabel('Number of neighbors')\n",
        "plt.ylabel('Accuracy')\n",
        "plt.show()\n"
      ]
    },
    {
      "cell_type": "markdown",
      "source": [
        "## best model with euclidean sidtance\n",
        "n = 7, p=2"
      ],
      "metadata": {
        "id": "E_jwK7mr9z18"
      }
    },
    {
      "cell_type": "code",
      "execution_count": null,
      "metadata": {
        "id": "X32k7a2AP1IS",
        "colab": {
          "base_uri": "https://localhost:8080/",
          "height": 667
        },
        "outputId": "6b8c6b69-4fc7-4dee-fb58-9bf8d47ea6dc"
      },
      "outputs": [
        {
          "output_type": "stream",
          "name": "stdout",
          "text": [
            "Model report:\n",
            "classification report:\n",
            "               precision    recall  f1-score   support\n",
            "\n",
            "    Decrease       0.53      0.41      0.46       140\n",
            "    Increase       0.52      0.66      0.58       139\n",
            "   No Change       0.00      0.00      0.00         5\n",
            "\n",
            "    accuracy                           0.52       284\n",
            "   macro avg       0.35      0.36      0.35       284\n",
            "weighted avg       0.52      0.52      0.51       284\n",
            "\n",
            "Accuracy score:  0.5246478873239436\n",
            "F1 Score: 0.5246478873239436\n",
            "ROC AUC Score: 0.6434859154929576\n"
          ]
        },
        {
          "output_type": "stream",
          "name": "stderr",
          "text": [
            "/usr/local/lib/python3.8/dist-packages/sklearn/metrics/_classification.py:1318: UndefinedMetricWarning: Precision and F-score are ill-defined and being set to 0.0 in labels with no predicted samples. Use `zero_division` parameter to control this behavior.\n",
            "  _warn_prf(average, modifier, msg_start, len(result))\n",
            "/usr/local/lib/python3.8/dist-packages/sklearn/metrics/_classification.py:1318: UndefinedMetricWarning: Precision and F-score are ill-defined and being set to 0.0 in labels with no predicted samples. Use `zero_division` parameter to control this behavior.\n",
            "  _warn_prf(average, modifier, msg_start, len(result))\n",
            "/usr/local/lib/python3.8/dist-packages/sklearn/metrics/_classification.py:1318: UndefinedMetricWarning: Precision and F-score are ill-defined and being set to 0.0 in labels with no predicted samples. Use `zero_division` parameter to control this behavior.\n",
            "  _warn_prf(average, modifier, msg_start, len(result))\n"
          ]
        },
        {
          "output_type": "execute_result",
          "data": {
            "text/plain": [
              "<matplotlib.axes._subplots.AxesSubplot at 0x7f117cb17070>"
            ]
          },
          "metadata": {},
          "execution_count": 28
        },
        {
          "output_type": "display_data",
          "data": {
            "text/plain": [
              "<Figure size 432x288 with 2 Axes>"
            ],
            "image/png": "[encoded data removed]"
          },
          "metadata": {
            "needs_background": "light"
          }
        }
      ],
      "source": [
        "clf = KNeighborsClassifier(n_neighbors=7,p=2) # euclidean distance\n",
        "clf.fit(x_train_features,y_train)\n",
        "ypred_test = clf.predict(x_test_features)\n",
        "cm = confusion_matrix(y_test,ypred_test)\n",
        "acc = accuracy_score(y_test,ypred_test)\n",
        "print(\"Model report:\")\n",
        "print('classification report:\\n',classification_report(y_test,ypred_test))\n",
        "print(\"Accuracy score: \",acc)\n",
        "print(\"F1 Score:\",f1_score(y_test,ypred_test,average=\"micro\"))\n",
        "lb = LabelBinarizer()\n",
        "lb.fit(y_test)\n",
        "y_test_lb = lb.transform(y_test)\n",
        "ypred_test_lb = lb.transform(ypred_test)\n",
        "print(\"ROC AUC Score:\",roc_auc_score(y_test_lb, ypred_test_lb, average='micro'))\n",
        "sns.heatmap(cm,annot=True)\n"
      ]
    }
  ],
  "metadata": {
    "colab": {
      "provenance": []
    },
    "kernelspec": {
      "display_name": "Python 3.10.4 ('anly-580')",
      "language": "python",
      "name": "python3"
    },
    "language_info": {
      "codemirror_mode": {
        "name": "ipython",
        "version": 3
      },
      "file_extension": ".py",
      "mimetype": "text/x-python",
      "name": "python",
      "nbconvert_exporter": "python",
      "pygments_lexer": "ipython3",
      "version": "3.10.4"
    },
    "orig_nbformat": 4,
    "vscode": {
      "interpreter": {
        "hash": "69c3b04e245bc9082c225f8c1091c45d82df7048435e683820f870e285759b4a"
      }
    }
  },
  "nbformat": 4,
  "nbformat_minor": 0
}