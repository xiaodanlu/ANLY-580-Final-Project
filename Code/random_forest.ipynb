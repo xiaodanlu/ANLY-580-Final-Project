{
 "cells": [
  {
   "cell_type": "markdown",
   "metadata": {},
   "source": [
    "#### Random forest model\n",
    "x = twitter sentiment(positive, negative, neutral), stock volume\n",
    "  \n",
    "y = stock price (increase, decrease, no change)\n",
    "  \n",
    "model accuracy = 53%"
   ]
  },
  {
   "cell_type": "code",
   "execution_count": 124,
   "metadata": {},
   "outputs": [],
   "source": [
    "from sklearn.model_selection import train_test_split\n",
    "from sklearn.ensemble import RandomForestClassifier\n",
    "from sklearn.metrics import confusion_matrix, accuracy_score, classification_report\n",
    "import pandas as pd"
   ]
  },
  {
   "cell_type": "code",
   "execution_count": 53,
   "metadata": {},
   "outputs": [
    {
     "data": {
      "text/html": [
       "<div>\n",
       "<style scoped>\n",
       "    .dataframe tbody tr th:only-of-type {\n",
       "        vertical-align: middle;\n",
       "    }\n",
       "\n",
       "    .dataframe tbody tr th {\n",
       "        vertical-align: top;\n",
       "    }\n",
       "\n",
       "    .dataframe thead th {\n",
       "        text-align: right;\n",
       "    }\n",
       "</style>\n",
       "<table border=\"1\" class=\"dataframe\">\n",
       "  <thead>\n",
       "    <tr style=\"text-align: right;\">\n",
       "      <th></th>\n",
       "      <th>Unnamed: 0</th>\n",
       "      <th>Date</th>\n",
       "      <th>Open</th>\n",
       "      <th>High</th>\n",
       "      <th>Low</th>\n",
       "      <th>Close</th>\n",
       "      <th>Adj Close</th>\n",
       "      <th>Volume</th>\n",
       "      <th>Label</th>\n",
       "      <th>Tweets_clean_more</th>\n",
       "      <th>polarity</th>\n",
       "      <th>subjectivity</th>\n",
       "      <th>sentiment</th>\n",
       "      <th>half_H_L</th>\n",
       "    </tr>\n",
       "  </thead>\n",
       "  <tbody>\n",
       "    <tr>\n",
       "      <th>0</th>\n",
       "      <td>0</td>\n",
       "      <td>2011-12-01</td>\n",
       "      <td>2.171333</td>\n",
       "      <td>2.266000</td>\n",
       "      <td>2.132000</td>\n",
       "      <td>2.173333</td>\n",
       "      <td>2.173333</td>\n",
       "      <td>15453000</td>\n",
       "      <td>1</td>\n",
       "      <td>i made volum model s go now i need work miniat...</td>\n",
       "      <td>0.300000</td>\n",
       "      <td>0.200000</td>\n",
       "      <td>1</td>\n",
       "      <td>1.200000</td>\n",
       "    </tr>\n",
       "    <tr>\n",
       "      <th>1</th>\n",
       "      <td>1</td>\n",
       "      <td>2011-12-21</td>\n",
       "      <td>1.860667</td>\n",
       "      <td>1.871333</td>\n",
       "      <td>1.735333</td>\n",
       "      <td>1.838000</td>\n",
       "      <td>1.838000</td>\n",
       "      <td>25582500</td>\n",
       "      <td>-1</td>\n",
       "      <td>yeah realli mom attest not sure i handl char m...</td>\n",
       "      <td>0.377273</td>\n",
       "      <td>0.708687</td>\n",
       "      <td>1</td>\n",
       "      <td>1.003667</td>\n",
       "    </tr>\n",
       "    <tr>\n",
       "      <th>2</th>\n",
       "      <td>2</td>\n",
       "      <td>2011-12-22</td>\n",
       "      <td>1.840000</td>\n",
       "      <td>1.870000</td>\n",
       "      <td>1.820000</td>\n",
       "      <td>1.851333</td>\n",
       "      <td>1.851333</td>\n",
       "      <td>15141000</td>\n",
       "      <td>1</td>\n",
       "      <td>model s option perform red black i deliv car j...</td>\n",
       "      <td>0.090476</td>\n",
       "      <td>0.376190</td>\n",
       "      <td>1</td>\n",
       "      <td>0.960000</td>\n",
       "    </tr>\n",
       "    <tr>\n",
       "      <th>3</th>\n",
       "      <td>3</td>\n",
       "      <td>2011-12-28</td>\n",
       "      <td>1.932667</td>\n",
       "      <td>1.949333</td>\n",
       "      <td>1.869333</td>\n",
       "      <td>1.900667</td>\n",
       "      <td>1.900667</td>\n",
       "      <td>8628000</td>\n",
       "      <td>-1</td>\n",
       "      <td>if ever want know real truth moon land best on...</td>\n",
       "      <td>0.600000</td>\n",
       "      <td>0.300000</td>\n",
       "      <td>1</td>\n",
       "      <td>1.014666</td>\n",
       "    </tr>\n",
       "    <tr>\n",
       "      <th>4</th>\n",
       "      <td>4</td>\n",
       "      <td>2011-12-29</td>\n",
       "      <td>1.906000</td>\n",
       "      <td>1.956000</td>\n",
       "      <td>1.903333</td>\n",
       "      <td>1.915333</td>\n",
       "      <td>1.915333</td>\n",
       "      <td>7323000</td>\n",
       "      <td>1</td>\n",
       "      <td>cool person essay it realli reson i felt way c...</td>\n",
       "      <td>0.132857</td>\n",
       "      <td>0.438571</td>\n",
       "      <td>1</td>\n",
       "      <td>1.004333</td>\n",
       "    </tr>\n",
       "  </tbody>\n",
       "</table>\n",
       "</div>"
      ],
      "text/plain": [
       "   Unnamed: 0        Date      Open      High       Low     Close  Adj Close  \\\n",
       "0           0  2011-12-01  2.171333  2.266000  2.132000  2.173333   2.173333   \n",
       "1           1  2011-12-21  1.860667  1.871333  1.735333  1.838000   1.838000   \n",
       "2           2  2011-12-22  1.840000  1.870000  1.820000  1.851333   1.851333   \n",
       "3           3  2011-12-28  1.932667  1.949333  1.869333  1.900667   1.900667   \n",
       "4           4  2011-12-29  1.906000  1.956000  1.903333  1.915333   1.915333   \n",
       "\n",
       "     Volume  Label                                  Tweets_clean_more  \\\n",
       "0  15453000      1  i made volum model s go now i need work miniat...   \n",
       "1  25582500     -1  yeah realli mom attest not sure i handl char m...   \n",
       "2  15141000      1  model s option perform red black i deliv car j...   \n",
       "3   8628000     -1  if ever want know real truth moon land best on...   \n",
       "4   7323000      1  cool person essay it realli reson i felt way c...   \n",
       "\n",
       "   polarity  subjectivity  sentiment   half_H_L  \n",
       "0  0.300000      0.200000          1   1.200000  \n",
       "1  0.377273      0.708687          1   1.003667  \n",
       "2  0.090476      0.376190          1   0.960000  \n",
       "3  0.600000      0.300000          1   1.014666  \n",
       "4  0.132857      0.438571          1   1.004333  "
      ]
     },
     "execution_count": 53,
     "metadata": {},
     "output_type": "execute_result"
    }
   ],
   "source": [
    "df2 = pd.read_csv('../Data/combind_sen_stock.csv')\n",
    "df2 = df2.replace({'positive':1,'negative':-1,'neutral':0,'Increase':1,'Decrease':-1,'No Change':0})\n",
    "df2.head()"
   ]
  },
  {
   "cell_type": "code",
   "execution_count": 120,
   "metadata": {},
   "outputs": [],
   "source": [
    "x = df2[['sentiment','Volume']]\n",
    "y = df2['Label']\n",
    "x_train,x_test,y_train,y_test = train_test_split(x,y,train_size=0.8,random_state=123)\n",
    "y_train = y_train.values.reshape(-1,1)\n",
    "y_test = y_test.values.reshape(-1,1)"
   ]
  },
  {
   "cell_type": "code",
   "execution_count": 131,
   "metadata": {},
   "outputs": [
    {
     "name": "stdout",
     "output_type": "stream",
     "text": [
      "Accuracy Score: \n",
      "0.5298245614035088\n",
      "--------------------------------------------------------\n",
      "Report: \n",
      "              precision    recall  f1-score   support\n",
      "\n",
      "          -1       0.49      0.52      0.50       128\n",
      "           0       0.00      0.00      0.00         9\n",
      "           1       0.58      0.57      0.58       148\n",
      "\n",
      "    accuracy                           0.53       285\n",
      "   macro avg       0.36      0.36      0.36       285\n",
      "weighted avg       0.52      0.53      0.52       285\n",
      "\n"
     ]
    }
   ],
   "source": [
    "clf = RandomForestClassifier(n_estimators = 100)\n",
    "clf.fit(x_train,y_train.ravel())\n",
    "y_pred = clf.predict(x_test)\n",
    "print(\"Accuracy Score: \")\n",
    "print(accuracy_score(y_test,y_pred))\n",
    "print(\"--------------------------------------------------------\")\n",
    "print(\"Report: \")\n",
    "print(classification_report(y_test,y_pred))\n"
   ]
  },
  {
   "cell_type": "code",
   "execution_count": 129,
   "metadata": {},
   "outputs": [
    {
     "name": "stdout",
     "output_type": "stream",
     "text": [
      "Confusion Matrix: \n"
     ]
    },
    {
     "data": {
      "text/html": [
       "<div>\n",
       "<style scoped>\n",
       "    .dataframe tbody tr th:only-of-type {\n",
       "        vertical-align: middle;\n",
       "    }\n",
       "\n",
       "    .dataframe tbody tr th {\n",
       "        vertical-align: top;\n",
       "    }\n",
       "\n",
       "    .dataframe thead th {\n",
       "        text-align: right;\n",
       "    }\n",
       "</style>\n",
       "<table border=\"1\" class=\"dataframe\">\n",
       "  <thead>\n",
       "    <tr style=\"text-align: right;\">\n",
       "      <th></th>\n",
       "      <th>Predicted -1</th>\n",
       "      <th>Predicted 0</th>\n",
       "      <th>Predicted 1</th>\n",
       "    </tr>\n",
       "  </thead>\n",
       "  <tbody>\n",
       "    <tr>\n",
       "      <th>Actual -1</th>\n",
       "      <td>66</td>\n",
       "      <td>2</td>\n",
       "      <td>60</td>\n",
       "    </tr>\n",
       "    <tr>\n",
       "      <th>Actual 0</th>\n",
       "      <td>7</td>\n",
       "      <td>0</td>\n",
       "      <td>2</td>\n",
       "    </tr>\n",
       "    <tr>\n",
       "      <th>Actual 1</th>\n",
       "      <td>62</td>\n",
       "      <td>1</td>\n",
       "      <td>85</td>\n",
       "    </tr>\n",
       "  </tbody>\n",
       "</table>\n",
       "</div>"
      ],
      "text/plain": [
       "           Predicted -1  Predicted 0  Predicted 1\n",
       "Actual -1            66            2           60\n",
       "Actual 0              7            0            2\n",
       "Actual 1             62            1           85"
      ]
     },
     "metadata": {},
     "output_type": "display_data"
    }
   ],
   "source": [
    "cm = confusion_matrix(y_test,y_pred)\n",
    "cm_df = pd.DataFrame(cm, index=[\"Actual -1\", \"Actual 0\",\"Actual 1\"],columns=[\"Predicted -1\", \"Predicted 0\",\"Predicted 1\"])\n",
    "print(\"Confusion Matrix: \")\n",
    "display(cm_df)"
   ]
  }
 ],
 "metadata": {
  "kernelspec": {
   "display_name": "Python 3.10.4 ('anly-580')",
   "language": "python",
   "name": "python3"
  },
  "language_info": {
   "codemirror_mode": {
    "name": "ipython",
    "version": 3
   },
   "file_extension": ".py",
   "mimetype": "text/x-python",
   "name": "python",
   "nbconvert_exporter": "python",
   "pygments_lexer": "ipython3",
   "version": "3.10.4"
  },
  "orig_nbformat": 4,
  "vscode": {
   "interpreter": {
    "hash": "69c3b04e245bc9082c225f8c1091c45d82df7048435e683820f870e285759b4a"
   }
  }
 },
 "nbformat": 4,
 "nbformat_minor": 2
}
