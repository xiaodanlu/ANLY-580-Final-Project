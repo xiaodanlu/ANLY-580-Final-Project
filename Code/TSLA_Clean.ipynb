{
 "cells": [
  {
   "cell_type": "code",
   "execution_count": 5,
   "metadata": {},
   "outputs": [
    {
     "name": "stdout",
     "output_type": "stream",
     "text": [
      "Requirement already satisfied: yfinance in /Users/sherry/opt/anaconda3/envs/anly-580/lib/python3.10/site-packages (0.1.87)\n",
      "Requirement already satisfied: numpy>=1.15 in /Users/sherry/opt/anaconda3/envs/anly-580/lib/python3.10/site-packages (from yfinance) (1.23.3)\n",
      "Requirement already satisfied: lxml>=4.5.1 in /Users/sherry/opt/anaconda3/envs/anly-580/lib/python3.10/site-packages (from yfinance) (4.9.1)\n",
      "Requirement already satisfied: multitasking>=0.0.7 in /Users/sherry/opt/anaconda3/envs/anly-580/lib/python3.10/site-packages (from yfinance) (0.0.11)\n",
      "Requirement already satisfied: pandas>=0.24.0 in /Users/sherry/opt/anaconda3/envs/anly-580/lib/python3.10/site-packages (from yfinance) (1.4.3)\n",
      "Requirement already satisfied: requests>=2.26 in /Users/sherry/opt/anaconda3/envs/anly-580/lib/python3.10/site-packages (from yfinance) (2.28.1)\n",
      "Requirement already satisfied: appdirs>=1.4.4 in /Users/sherry/opt/anaconda3/envs/anly-580/lib/python3.10/site-packages (from yfinance) (1.4.4)\n",
      "Requirement already satisfied: python-dateutil>=2.8.1 in /Users/sherry/opt/anaconda3/envs/anly-580/lib/python3.10/site-packages (from pandas>=0.24.0->yfinance) (2.8.2)\n",
      "Requirement already satisfied: pytz>=2020.1 in /Users/sherry/opt/anaconda3/envs/anly-580/lib/python3.10/site-packages (from pandas>=0.24.0->yfinance) (2022.1)\n",
      "Requirement already satisfied: charset-normalizer<3,>=2 in /Users/sherry/opt/anaconda3/envs/anly-580/lib/python3.10/site-packages (from requests>=2.26->yfinance) (2.1.1)\n",
      "Requirement already satisfied: urllib3<1.27,>=1.21.1 in /Users/sherry/opt/anaconda3/envs/anly-580/lib/python3.10/site-packages (from requests>=2.26->yfinance) (1.26.12)\n",
      "Requirement already satisfied: certifi>=2017.4.17 in /Users/sherry/opt/anaconda3/envs/anly-580/lib/python3.10/site-packages (from requests>=2.26->yfinance) (2022.9.24)\n",
      "Requirement already satisfied: idna<4,>=2.5 in /Users/sherry/opt/anaconda3/envs/anly-580/lib/python3.10/site-packages (from requests>=2.26->yfinance) (3.4)\n",
      "Requirement already satisfied: six>=1.5 in /Users/sherry/opt/anaconda3/envs/anly-580/lib/python3.10/site-packages (from python-dateutil>=2.8.1->pandas>=0.24.0->yfinance) (1.16.0)\n",
      "Note: you may need to restart the kernel to use updated packages.\n"
     ]
    }
   ],
   "source": [
    "pip install yfinance"
   ]
  },
  {
   "cell_type": "code",
   "execution_count": 6,
   "metadata": {},
   "outputs": [
    {
     "name": "stdout",
     "output_type": "stream",
     "text": [
      "[*********************100%***********************]  1 of 1 completed\n",
      "        Date      Open      High       Low     Close  Adj Close    Volume\n",
      "0 2011-12-01  2.171333  2.266000  2.132000  2.173333   2.173333  15453000\n",
      "1 2011-12-02  2.188667  2.246000  2.160000  2.220000   2.220000  12042000\n",
      "2 2011-12-05  2.235333  2.333333  2.228667  2.294667   2.294667  17401500\n",
      "3 2011-12-06  2.280000  2.332000  2.268667  2.324667   2.324667  14277000\n",
      "4 2011-12-07  2.308667  2.326000  2.253333  2.279333   2.279333  10114500\n"
     ]
    }
   ],
   "source": [
    "import pandas as pd\n",
    "import yfinance as yf\n",
    "\n",
    "# Download historical data for required stocks\n",
    "ticker = \"TSLA\"\n",
    "data = yf.download(ticker, start=\"2011-12-01\", end=\"2021-04-17\")\n",
    "\n",
    "data[\"Date\"] = data.index\n",
    "\n",
    "data = data[[\"Date\", \"Open\", \"High\",\n",
    "\"Low\", \"Close\", \"Adj Close\", \"Volume\"]]\n",
    "\n",
    "data.reset_index(drop=True, inplace=True)\n",
    "print(data.head())"
   ]
  },
  {
   "cell_type": "code",
   "execution_count": 7,
   "metadata": {},
   "outputs": [
    {
     "name": "stderr",
     "output_type": "stream",
     "text": [
      "/var/folders/nb/6fbz5d0j3tgbt2f16ldfml940000gn/T/ipykernel_79432/2493435255.py:6: SettingWithCopyWarning: \n",
      "A value is trying to be set on a copy of a slice from a DataFrame.\n",
      "Try using .loc[row_indexer,col_indexer] = value instead\n",
      "\n",
      "See the caveats in the documentation: https://pandas.pydata.org/pandas-docs/stable/user_guide/indexing.html#returning-a-view-versus-a-copy\n",
      "  data.loc[i, \"Label\"] = \"Increase\"\n"
     ]
    },
    {
     "name": "stdout",
     "output_type": "stream",
     "text": [
      "        Date      Open      High       Low     Close  Adj Close    Volume  \\\n",
      "0 2011-12-01  2.171333  2.266000  2.132000  2.173333   2.173333  15453000   \n",
      "1 2011-12-02  2.188667  2.246000  2.160000  2.220000   2.220000  12042000   \n",
      "2 2011-12-05  2.235333  2.333333  2.228667  2.294667   2.294667  17401500   \n",
      "3 2011-12-06  2.280000  2.332000  2.268667  2.324667   2.324667  14277000   \n",
      "4 2011-12-07  2.308667  2.326000  2.253333  2.279333   2.279333  10114500   \n",
      "5 2011-12-08  2.056000  2.110000  1.974000  2.059333   2.059333  49587000   \n",
      "6 2011-12-09  2.036000  2.074667  2.018667  2.069333   2.069333  18592500   \n",
      "7 2011-12-12  2.029333  2.041333  2.001333  2.027333   2.027333  11380500   \n",
      "8 2011-12-13  2.038000  2.062000  1.927333  1.963333   1.963333  14911500   \n",
      "9 2011-12-14  1.966667  1.978667  1.866667  1.902000   1.902000  17458500   \n",
      "\n",
      "      Label  \n",
      "0  Increase  \n",
      "1  Increase  \n",
      "2  Increase  \n",
      "3  Increase  \n",
      "4  Decrease  \n",
      "5  Decrease  \n",
      "6  Increase  \n",
      "7  Decrease  \n",
      "8  Decrease  \n",
      "9  Decrease  \n"
     ]
    }
   ],
   "source": [
    "# Labeled data\n",
    "for i in range(len(data)):\n",
    "    avg = (data[\"High\"][i] + data[\"Low\"][i]) / 2\n",
    "    avg = round(avg, 2)\n",
    "    if avg > round(data[\"Open\"][i], 2):\n",
    "        data.loc[i, \"Label\"] = \"Increase\"\n",
    "    elif avg == round(data[\"Open\"][i],2):\n",
    "        data.loc[i, \"Label\"] = \"No Change\"\n",
    "    else:\n",
    "        data.loc[i, \"Label\"] = \"Decrease\"\n",
    "print(data.head(10))"
   ]
  },
  {
   "cell_type": "code",
   "execution_count": 8,
   "metadata": {},
   "outputs": [],
   "source": [
    "# Save data to csv\n",
    "data.to_csv(\"../Data/TSLA_labeled.csv\", index=False)"
   ]
  }
 ],
 "metadata": {
  "kernelspec": {
   "display_name": "Python 3.10.4 ('anly-580')",
   "language": "python",
   "name": "python3"
  },
  "language_info": {
   "codemirror_mode": {
    "name": "ipython",
    "version": 3
   },
   "file_extension": ".py",
   "mimetype": "text/x-python",
   "name": "python",
   "nbconvert_exporter": "python",
   "pygments_lexer": "ipython3",
   "version": "3.10.4"
  },
  "orig_nbformat": 4,
  "vscode": {
   "interpreter": {
    "hash": "632cdf940b59264b613ce36e6ff44b18344167f8957438a92a721914f37336e1"
   }
  }
 },
 "nbformat": 4,
 "nbformat_minor": 2
}
