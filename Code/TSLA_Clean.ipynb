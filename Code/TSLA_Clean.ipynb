{
 "cells": [
  {
   "cell_type": "code",
   "execution_count": 14,
   "metadata": {},
   "outputs": [
    {
     "name": "stdout",
     "output_type": "stream",
     "text": [
      "Collecting yfinance\n",
      "  Using cached yfinance-0.1.87-py2.py3-none-any.whl (29 kB)\n",
      "Requirement already satisfied: pandas>=0.24.0 in ./opt/anaconda3/envs/anly-580/lib/python3.10/site-packages (from yfinance) (1.4.3)\n",
      "Requirement already satisfied: requests>=2.26 in ./opt/anaconda3/envs/anly-580/lib/python3.10/site-packages (from yfinance) (2.28.1)\n",
      "Collecting multitasking>=0.0.7\n",
      "  Using cached multitasking-0.0.11-py3-none-any.whl (8.5 kB)\n",
      "Collecting lxml>=4.5.1\n",
      "  Using cached lxml-4.9.1.tar.gz (3.4 MB)\n",
      "  Preparing metadata (setup.py) ... \u001b[?25ldone\n",
      "\u001b[?25hRequirement already satisfied: numpy>=1.15 in ./opt/anaconda3/envs/anly-580/lib/python3.10/site-packages (from yfinance) (1.23.3)\n",
      "Collecting appdirs>=1.4.4\n",
      "  Using cached appdirs-1.4.4-py2.py3-none-any.whl (9.6 kB)\n",
      "Requirement already satisfied: python-dateutil>=2.8.1 in ./opt/anaconda3/envs/anly-580/lib/python3.10/site-packages (from pandas>=0.24.0->yfinance) (2.8.2)\n",
      "Requirement already satisfied: pytz>=2020.1 in ./opt/anaconda3/envs/anly-580/lib/python3.10/site-packages (from pandas>=0.24.0->yfinance) (2022.1)\n",
      "Requirement already satisfied: certifi>=2017.4.17 in ./opt/anaconda3/envs/anly-580/lib/python3.10/site-packages (from requests>=2.26->yfinance) (2022.9.24)\n",
      "Requirement already satisfied: urllib3<1.27,>=1.21.1 in ./opt/anaconda3/envs/anly-580/lib/python3.10/site-packages (from requests>=2.26->yfinance) (1.26.12)\n",
      "Requirement already satisfied: charset-normalizer<3,>=2 in ./opt/anaconda3/envs/anly-580/lib/python3.10/site-packages (from requests>=2.26->yfinance) (2.1.1)\n",
      "Requirement already satisfied: idna<4,>=2.5 in ./opt/anaconda3/envs/anly-580/lib/python3.10/site-packages (from requests>=2.26->yfinance) (3.4)\n",
      "Requirement already satisfied: six>=1.5 in ./opt/anaconda3/envs/anly-580/lib/python3.10/site-packages (from python-dateutil>=2.8.1->pandas>=0.24.0->yfinance) (1.16.0)\n",
      "Building wheels for collected packages: lxml\n",
      "  Building wheel for lxml (setup.py) ... \u001b[?25ldone\n",
      "\u001b[?25h  Created wheel for lxml: filename=lxml-4.9.1-cp310-cp310-macosx_10_9_x86_64.whl size=1610154 sha256=ced752d7b4bd75140754cf44cb43c93f7d85f8b70b7a407e980e6af0a1e542ac\n",
      "  Stored in directory: /Users/sherry/Library/Caches/pip/wheels/a4/ec/7b/8acde6da24b5aabeee049213d5bec12d1e9214d3cae276387b\n",
      "Successfully built lxml\n",
      "Installing collected packages: multitasking, appdirs, lxml, yfinance\n",
      "Successfully installed appdirs-1.4.4 lxml-4.9.1 multitasking-0.0.11 yfinance-0.1.87\n",
      "Note: you may need to restart the kernel to use updated packages.\n"
     ]
    }
   ],
   "source": [
    "pip install yfinance"
   ]
  },
  {
   "cell_type": "code",
   "execution_count": 15,
   "metadata": {},
   "outputs": [
    {
     "name": "stdout",
     "output_type": "stream",
     "text": [
      "[*********************100%***********************]  1 of 1 completed\n",
      "        Date      Open      High       Low     Close  Adj Close    Volume\n",
      "0 2011-12-01  2.171333  2.266000  2.132000  2.173333   2.173333  15453000\n",
      "1 2011-12-02  2.188667  2.246000  2.160000  2.220000   2.220000  12042000\n",
      "2 2011-12-05  2.235333  2.333333  2.228667  2.294667   2.294667  17401500\n",
      "3 2011-12-06  2.280000  2.332000  2.268667  2.324667   2.324667  14277000\n",
      "4 2011-12-07  2.308667  2.326000  2.253333  2.279333   2.279333  10114500\n"
     ]
    }
   ],
   "source": [
    "import pandas as pd\n",
    "import yfinance as yf\n",
    "\n",
    "# Download historical data for required stocks\n",
    "ticker = \"TSLA\"\n",
    "data = yf.download(ticker, start=\"2011-12-01\", end=\"2021-04-17\")\n",
    "\n",
    "data[\"Date\"] = data.index\n",
    "\n",
    "data = data[[\"Date\", \"Open\", \"High\",\n",
    "\"Low\", \"Close\", \"Adj Close\", \"Volume\"]]\n",
    "\n",
    "data.reset_index(drop=True, inplace=True)\n",
    "print(data.head())"
   ]
  },
  {
   "cell_type": "code",
   "execution_count": 17,
   "metadata": {},
   "outputs": [
    {
     "name": "stdout",
     "output_type": "stream",
     "text": [
      "        Date      Open      High       Low     Close  Adj Close    Volume  \\\n",
      "0 2011-12-01  2.171333  2.266000  2.132000  2.173333   2.173333  15453000   \n",
      "1 2011-12-02  2.188667  2.246000  2.160000  2.220000   2.220000  12042000   \n",
      "2 2011-12-05  2.235333  2.333333  2.228667  2.294667   2.294667  17401500   \n",
      "3 2011-12-06  2.280000  2.332000  2.268667  2.324667   2.324667  14277000   \n",
      "4 2011-12-07  2.308667  2.326000  2.253333  2.279333   2.279333  10114500   \n",
      "5 2011-12-08  2.056000  2.110000  1.974000  2.059333   2.059333  49587000   \n",
      "6 2011-12-09  2.036000  2.074667  2.018667  2.069333   2.069333  18592500   \n",
      "7 2011-12-12  2.029333  2.041333  2.001333  2.027333   2.027333  11380500   \n",
      "8 2011-12-13  2.038000  2.062000  1.927333  1.963333   1.963333  14911500   \n",
      "9 2011-12-14  1.966667  1.978667  1.866667  1.902000   1.902000  17458500   \n",
      "\n",
      "      Label  \n",
      "0  Increase  \n",
      "1  Increase  \n",
      "2  Increase  \n",
      "3  Increase  \n",
      "4  Decrease  \n",
      "5  Decrease  \n",
      "6  Increase  \n",
      "7  Decrease  \n",
      "8  Decrease  \n",
      "9  Decrease  \n"
     ]
    }
   ],
   "source": [
    "# Labeled data\n",
    "for i in range(len(data)):\n",
    "    avg = (data[\"High\"][i] + data[\"Low\"][i]) / 2\n",
    "    avg = round(avg, 2)\n",
    "    if avg > round(data[\"Open\"][i], 2):\n",
    "        data.loc[i, \"Label\"] = \"Increase\"\n",
    "    elif avg == round(data[\"Open\"][i],2):\n",
    "        data.loc[i, \"Label\"] = \"No Change\"\n",
    "    else:\n",
    "        data.loc[i, \"Label\"] = \"Decrease\"\n",
    "print(data.head(10))"
   ]
  },
  {
   "cell_type": "code",
   "execution_count": 19,
   "metadata": {},
   "outputs": [],
   "source": [
    "# Save data to csv\n",
    "data.to_csv(\"TSLA_labeled.csv\", index=False)"
   ]
  }
 ],
 "metadata": {
  "kernelspec": {
   "display_name": "Python 3.10.4 ('anly-580')",
   "language": "python",
   "name": "python3"
  },
  "language_info": {
   "codemirror_mode": {
    "name": "ipython",
    "version": 3
   },
   "file_extension": ".py",
   "mimetype": "text/x-python",
   "name": "python",
   "nbconvert_exporter": "python",
   "pygments_lexer": "ipython3",
   "version": "3.10.4"
  },
  "orig_nbformat": 4,
  "vscode": {
   "interpreter": {
    "hash": "632cdf940b59264b613ce36e6ff44b18344167f8957438a92a721914f37336e1"
   }
  }
 },
 "nbformat": 4,
 "nbformat_minor": 2
}
