{
 "cells": [
  {
   "cell_type": "markdown",
   "metadata": {},
   "source": [
    "Accuracy 56%"
   ]
  },
  {
   "cell_type": "code",
   "execution_count": 14,
   "metadata": {},
   "outputs": [],
   "source": [
    "import pandas as pd\n",
    "from sklearn.model_selection import train_test_split\n",
    "from sklearn.metrics import confusion_matrix, accuracy_score, classification_report\n",
    "from sklearn.ensemble import GradientBoostingClassifier\n",
    "from sklearn.preprocessing import StandardScaler"
   ]
  },
  {
   "cell_type": "code",
   "execution_count": 15,
   "metadata": {},
   "outputs": [
    {
     "data": {
      "text/html": [
       "<div>\n",
       "<style scoped>\n",
       "    .dataframe tbody tr th:only-of-type {\n",
       "        vertical-align: middle;\n",
       "    }\n",
       "\n",
       "    .dataframe tbody tr th {\n",
       "        vertical-align: top;\n",
       "    }\n",
       "\n",
       "    .dataframe thead th {\n",
       "        text-align: right;\n",
       "    }\n",
       "</style>\n",
       "<table border=\"1\" class=\"dataframe\">\n",
       "  <thead>\n",
       "    <tr style=\"text-align: right;\">\n",
       "      <th></th>\n",
       "      <th>Tweets_clean_more</th>\n",
       "      <th>polarity</th>\n",
       "      <th>subjectivity</th>\n",
       "      <th>sentiment</th>\n",
       "      <th>Label_delayed_2Days</th>\n",
       "    </tr>\n",
       "    <tr>\n",
       "      <th>Date</th>\n",
       "      <th></th>\n",
       "      <th></th>\n",
       "      <th></th>\n",
       "      <th></th>\n",
       "      <th></th>\n",
       "    </tr>\n",
       "  </thead>\n",
       "  <tbody>\n",
       "    <tr>\n",
       "      <th>2013-01-10</th>\n",
       "      <td>to super clear i dont wish could i mandat anyt...</td>\n",
       "      <td>0.216667</td>\n",
       "      <td>0.525000</td>\n",
       "      <td>positive</td>\n",
       "      <td>-1</td>\n",
       "    </tr>\n",
       "    <tr>\n",
       "      <th>2019-01-10</th>\n",
       "      <td>ye get regulatori pushback may avail region go...</td>\n",
       "      <td>0.123333</td>\n",
       "      <td>0.490556</td>\n",
       "      <td>positive</td>\n",
       "      <td>1</td>\n",
       "    </tr>\n",
       "    <tr>\n",
       "      <th>2020-01-10</th>\n",
       "      <td>dome barrel weld made bar pretti good bar need...</td>\n",
       "      <td>0.411111</td>\n",
       "      <td>0.570988</td>\n",
       "      <td>positive</td>\n",
       "      <td>-1</td>\n",
       "    </tr>\n",
       "    <tr>\n",
       "      <th>2012-01-11</th>\n",
       "      <td>the exec conf room tesla use call denali i dec...</td>\n",
       "      <td>0.600000</td>\n",
       "      <td>1.000000</td>\n",
       "      <td>positive</td>\n",
       "      <td>-1</td>\n",
       "    </tr>\n",
       "    <tr>\n",
       "      <th>2016-01-11</th>\n",
       "      <td>sad hear david bowi die he amaz</td>\n",
       "      <td>-0.500000</td>\n",
       "      <td>1.000000</td>\n",
       "      <td>negative</td>\n",
       "      <td>1</td>\n",
       "    </tr>\n",
       "  </tbody>\n",
       "</table>\n",
       "</div>"
      ],
      "text/plain": [
       "                                            Tweets_clean_more  polarity  \\\n",
       "Date                                                                      \n",
       "2013-01-10  to super clear i dont wish could i mandat anyt...  0.216667   \n",
       "2019-01-10  ye get regulatori pushback may avail region go...  0.123333   \n",
       "2020-01-10  dome barrel weld made bar pretti good bar need...  0.411111   \n",
       "2012-01-11  the exec conf room tesla use call denali i dec...  0.600000   \n",
       "2016-01-11                    sad hear david bowi die he amaz -0.500000   \n",
       "\n",
       "            subjectivity sentiment  Label_delayed_2Days  \n",
       "Date                                                     \n",
       "2013-01-10      0.525000  positive                   -1  \n",
       "2019-01-10      0.490556  positive                    1  \n",
       "2020-01-10      0.570988  positive                   -1  \n",
       "2012-01-11      1.000000  positive                   -1  \n",
       "2016-01-11      1.000000  negative                    1  "
      ]
     },
     "execution_count": 15,
     "metadata": {},
     "output_type": "execute_result"
    }
   ],
   "source": [
    "df = pd.read_csv(\"../Data/Combined_Delayed_2Days.csv\")\n",
    "df = df.replace({'Increase':1,'Decrease':-1,'No Change':0})\n",
    "df = df.set_index(\"Date\")\n",
    "df.head()"
   ]
  },
  {
   "cell_type": "code",
   "execution_count": 16,
   "metadata": {},
   "outputs": [],
   "source": [
    "x = df[['sentiment','polarity','subjectivity']]\n",
    "x = pd.get_dummies(x,columns=[\"sentiment\"])\n",
    "y = df['Label_delayed_2Days']\n",
    "x_train,x_test,y_train,y_test = train_test_split(x,y,train_size=0.8,random_state=123)\n",
    "y_train = y_train.values.reshape(-1,1)\n",
    "y_test = y_test.values.reshape(-1,1)"
   ]
  },
  {
   "cell_type": "code",
   "execution_count": 17,
   "metadata": {},
   "outputs": [],
   "source": [
    "scaler = StandardScaler()\n",
    "x_scaler = scaler.fit(x_train)\n",
    "x_train = x_scaler.transform(x_train)\n",
    "x_test = x_scaler.transform(x_test)"
   ]
  },
  {
   "cell_type": "code",
   "execution_count": 18,
   "metadata": {},
   "outputs": [
    {
     "name": "stdout",
     "output_type": "stream",
     "text": [
      "Learning rate:  0.05\n",
      "Accuracy score (training): 0.576\n",
      "Accuracy score (validation): 0.507\n",
      "\n",
      "Learning rate:  0.1\n",
      "Accuracy score (training): 0.602\n",
      "Accuracy score (validation): 0.482\n",
      "\n",
      "Learning rate:  0.25\n",
      "Accuracy score (training): 0.645\n",
      "Accuracy score (validation): 0.465\n",
      "\n",
      "Learning rate:  0.5\n",
      "Accuracy score (training): 0.684\n",
      "Accuracy score (validation): 0.472\n",
      "\n",
      "Learning rate:  0.75\n",
      "Accuracy score (training): 0.701\n",
      "Accuracy score (validation): 0.500\n",
      "\n",
      "Learning rate:  1\n",
      "Accuracy score (training): 0.681\n",
      "Accuracy score (validation): 0.496\n",
      "\n"
     ]
    }
   ],
   "source": [
    "learning_rates = [0.05, 0.1, 0.25, 0.5, 0.75, 1]\n",
    "for learning_rate in learning_rates:\n",
    "    model = GradientBoostingClassifier(n_estimators=20,learning_rate=learning_rate,max_features=2,max_depth=3,random_state=0)\n",
    "\n",
    "    model.fit(x_train,y_train.ravel())\n",
    "    print(\"Learning rate: \", learning_rate)\n",
    "\n",
    "    print(\"Accuracy score (training): {0:.3f}\".format(model.score(x_train, y_train.ravel())))\n",
    "    print(\"Accuracy score (validation): {0:.3f}\".format(model.score(x_test, y_test.ravel())))\n",
    "    print()"
   ]
  },
  {
   "cell_type": "code",
   "execution_count": 20,
   "metadata": {},
   "outputs": [],
   "source": [
    "x2 = df[['sentiment','polarity']]\n",
    "x2 = pd.get_dummies(x2,columns=[\"sentiment\"])\n",
    "y2 = df['Label_delayed_2Days']\n",
    "x2_train,x2_test,y2_train,y2_test = train_test_split(x2,y2,train_size=0.8,random_state=123)\n",
    "y2_train = y2_train.values.reshape(-1,1)\n",
    "y2_test = y2_test.values.reshape(-1,1)"
   ]
  },
  {
   "cell_type": "code",
   "execution_count": 22,
   "metadata": {},
   "outputs": [],
   "source": [
    "scaler = StandardScaler()\n",
    "x2_scaler = scaler.fit(x2_train)\n",
    "x2_train = x2_scaler.transform(x2_train)\n",
    "x2_test = x2_scaler.transform(x2_test)"
   ]
  },
  {
   "cell_type": "code",
   "execution_count": 23,
   "metadata": {},
   "outputs": [
    {
     "name": "stdout",
     "output_type": "stream",
     "text": [
      "Learning rate:  0.05\n",
      "Accuracy score (training): 0.548\n",
      "Accuracy score (validation): 0.507\n",
      "\n",
      "Learning rate:  0.1\n",
      "Accuracy score (training): 0.567\n",
      "Accuracy score (validation): 0.507\n",
      "\n",
      "Learning rate:  0.25\n",
      "Accuracy score (training): 0.601\n",
      "Accuracy score (validation): 0.507\n",
      "\n",
      "Learning rate:  0.5\n",
      "Accuracy score (training): 0.627\n",
      "Accuracy score (validation): 0.479\n",
      "\n",
      "Learning rate:  0.75\n",
      "Accuracy score (training): 0.647\n",
      "Accuracy score (validation): 0.504\n",
      "\n",
      "Learning rate:  1\n",
      "Accuracy score (training): 0.649\n",
      "Accuracy score (validation): 0.514\n",
      "\n"
     ]
    }
   ],
   "source": [
    "learning_rates = [0.05, 0.1, 0.25, 0.5, 0.75, 1]\n",
    "for learning_rate in learning_rates:\n",
    "    model = GradientBoostingClassifier(n_estimators=20,learning_rate=learning_rate,max_features=2,max_depth=3,random_state=0)\n",
    "\n",
    "    model.fit(x2_train,y2_train.ravel())\n",
    "    print(\"Learning rate: \", learning_rate)\n",
    "\n",
    "    print(\"Accuracy score (training): {0:.3f}\".format(model.score(x2_train, y2_train.ravel())))\n",
    "    print(\"Accuracy score (validation): {0:.3f}\".format(model.score(x2_test, y2_test.ravel())))\n",
    "    print()"
   ]
  },
  {
   "cell_type": "code",
   "execution_count": 24,
   "metadata": {},
   "outputs": [
    {
     "name": "stdout",
     "output_type": "stream",
     "text": [
      "Learning rate:  0.05\n",
      "Accuracy score (training): 0.511\n",
      "Accuracy score (validation): 0.563\n",
      "\n",
      "Learning rate:  0.1\n",
      "Accuracy score (training): 0.511\n",
      "Accuracy score (validation): 0.563\n",
      "\n",
      "Learning rate:  0.25\n",
      "Accuracy score (training): 0.511\n",
      "Accuracy score (validation): 0.563\n",
      "\n",
      "Learning rate:  0.5\n",
      "Accuracy score (training): 0.511\n",
      "Accuracy score (validation): 0.563\n",
      "\n",
      "Learning rate:  0.75\n",
      "Accuracy score (training): 0.511\n",
      "Accuracy score (validation): 0.563\n",
      "\n",
      "Learning rate:  1\n",
      "Accuracy score (training): 0.511\n",
      "Accuracy score (validation): 0.563\n",
      "\n"
     ]
    }
   ],
   "source": [
    "x3 = df[['sentiment']]\n",
    "x3 = pd.get_dummies(x3,columns=[\"sentiment\"])\n",
    "y3 = df['Label_delayed_2Days']\n",
    "x3_train,x3_test,y3_train,y3_test = train_test_split(x3,y3,train_size=0.8,random_state=123)\n",
    "y3_train = y3_train.values.reshape(-1,1)\n",
    "y3_test = y3_test.values.reshape(-1,1)\n",
    "\n",
    "scaler = StandardScaler()\n",
    "x3_scaler = scaler.fit(x3_train)\n",
    "x3_train = x3_scaler.transform(x3_train)\n",
    "x3_test = x3_scaler.transform(x3_test)\n",
    "\n",
    "learning_rates = [0.05, 0.1, 0.25, 0.5, 0.75, 1]\n",
    "for learning_rate in learning_rates:\n",
    "    model = GradientBoostingClassifier(n_estimators=20,learning_rate=learning_rate,max_features=2,max_depth=3,random_state=0)\n",
    "\n",
    "    model.fit(x3_train,y3_train.ravel())\n",
    "    print(\"Learning rate: \", learning_rate)\n",
    "\n",
    "    print(\"Accuracy score (training): {0:.3f}\".format(model.score(x3_train, y3_train.ravel())))\n",
    "    print(\"Accuracy score (validation): {0:.3f}\".format(model.score(x3_test, y3_test.ravel())))\n",
    "    print()"
   ]
  }
 ],
 "metadata": {
  "kernelspec": {
   "display_name": "Python 3.10.4 ('anly-580')",
   "language": "python",
   "name": "python3"
  },
  "language_info": {
   "codemirror_mode": {
    "name": "ipython",
    "version": 3
   },
   "file_extension": ".py",
   "mimetype": "text/x-python",
   "name": "python",
   "nbconvert_exporter": "python",
   "pygments_lexer": "ipython3",
   "version": "3.10.4"
  },
  "orig_nbformat": 4,
  "vscode": {
   "interpreter": {
    "hash": "69c3b04e245bc9082c225f8c1091c45d82df7048435e683820f870e285759b4a"
   }
  }
 },
 "nbformat": 4,
 "nbformat_minor": 2
}
