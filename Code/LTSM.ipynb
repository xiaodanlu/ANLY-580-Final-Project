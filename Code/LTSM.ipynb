{
 "cells": [
  {
   "cell_type": "markdown",
   "metadata": {},
   "source": [
    "### LSTM  model\n"
   ]
  },
  {
   "cell_type": "markdown",
   "metadata": {},
   "source": [
    "### Import packages"
   ]
  },
  {
   "cell_type": "code",
   "execution_count": 57,
   "metadata": {},
   "outputs": [],
   "source": [
    "from sklearn.model_selection import train_test_split\n",
    "import pandas as pd\n",
    "import tokenization\n",
    "import tensorflow as tf\n",
    "import tensorflow_hub as hub\n",
    "from keras.utils import to_categorical\n",
    "from sklearn import preprocessing\n",
    "from sklearn.model_selection import train_test_split\n",
    "import numpy as np\n",
    "import matplotlib.pyplot as plt\n",
    "import pandas as pd\n",
    "import torch\n",
    "\n",
    "from sklearn.preprocessing import LabelEncoder, MinMaxScaler\n",
    "from sklearn.metrics import classification_report, confusion_matrix\n"
   ]
  },
  {
   "cell_type": "code",
   "execution_count": 8,
   "metadata": {},
   "outputs": [],
   "source": [
    "from keras.preprocessing.text import Tokenizer\n",
    "from tensorflow.keras.preprocessing.sequence import pad_sequences\n",
    "\n",
    "\n",
    "from keras.models import Sequential\n",
    "from keras import layers\n",
    "from sklearn.model_selection import train_test_split\n",
    "from sklearn.metrics import confusion_matrix\n",
    "import pandas as pd"
   ]
  },
  {
   "cell_type": "code",
   "execution_count": 9,
   "metadata": {},
   "outputs": [
    {
     "data": {
      "text/html": [
       "<div>\n",
       "<style scoped>\n",
       "    .dataframe tbody tr th:only-of-type {\n",
       "        vertical-align: middle;\n",
       "    }\n",
       "\n",
       "    .dataframe tbody tr th {\n",
       "        vertical-align: top;\n",
       "    }\n",
       "\n",
       "    .dataframe thead th {\n",
       "        text-align: right;\n",
       "    }\n",
       "</style>\n",
       "<table border=\"1\" class=\"dataframe\">\n",
       "  <thead>\n",
       "    <tr style=\"text-align: right;\">\n",
       "      <th></th>\n",
       "      <th>Unnamed: 0</th>\n",
       "      <th>Date</th>\n",
       "      <th>Open</th>\n",
       "      <th>High</th>\n",
       "      <th>Low</th>\n",
       "      <th>Close</th>\n",
       "      <th>Adj Close</th>\n",
       "      <th>Volume</th>\n",
       "      <th>Label</th>\n",
       "      <th>Tweets_clean_more</th>\n",
       "      <th>polarity</th>\n",
       "      <th>subjectivity</th>\n",
       "      <th>sentiment</th>\n",
       "      <th>half_H_L</th>\n",
       "    </tr>\n",
       "  </thead>\n",
       "  <tbody>\n",
       "    <tr>\n",
       "      <th>0</th>\n",
       "      <td>0</td>\n",
       "      <td>2011-12-01</td>\n",
       "      <td>2.171333</td>\n",
       "      <td>2.266000</td>\n",
       "      <td>2.132000</td>\n",
       "      <td>2.173333</td>\n",
       "      <td>2.173333</td>\n",
       "      <td>15453000</td>\n",
       "      <td>Increase</td>\n",
       "      <td>i made volum model s go now i need work miniat...</td>\n",
       "      <td>0.300000</td>\n",
       "      <td>0.200000</td>\n",
       "      <td>positive</td>\n",
       "      <td>1.200000</td>\n",
       "    </tr>\n",
       "    <tr>\n",
       "      <th>1</th>\n",
       "      <td>1</td>\n",
       "      <td>2011-12-21</td>\n",
       "      <td>1.860667</td>\n",
       "      <td>1.871333</td>\n",
       "      <td>1.735333</td>\n",
       "      <td>1.838000</td>\n",
       "      <td>1.838000</td>\n",
       "      <td>25582500</td>\n",
       "      <td>Decrease</td>\n",
       "      <td>yeah realli mom attest not sure i handl char m...</td>\n",
       "      <td>0.377273</td>\n",
       "      <td>0.708687</td>\n",
       "      <td>positive</td>\n",
       "      <td>1.003667</td>\n",
       "    </tr>\n",
       "    <tr>\n",
       "      <th>2</th>\n",
       "      <td>2</td>\n",
       "      <td>2011-12-22</td>\n",
       "      <td>1.840000</td>\n",
       "      <td>1.870000</td>\n",
       "      <td>1.820000</td>\n",
       "      <td>1.851333</td>\n",
       "      <td>1.851333</td>\n",
       "      <td>15141000</td>\n",
       "      <td>Increase</td>\n",
       "      <td>model s option perform red black i deliv car j...</td>\n",
       "      <td>0.090476</td>\n",
       "      <td>0.376190</td>\n",
       "      <td>positive</td>\n",
       "      <td>0.960000</td>\n",
       "    </tr>\n",
       "    <tr>\n",
       "      <th>3</th>\n",
       "      <td>3</td>\n",
       "      <td>2011-12-28</td>\n",
       "      <td>1.932667</td>\n",
       "      <td>1.949333</td>\n",
       "      <td>1.869333</td>\n",
       "      <td>1.900667</td>\n",
       "      <td>1.900667</td>\n",
       "      <td>8628000</td>\n",
       "      <td>Decrease</td>\n",
       "      <td>if ever want know real truth moon land best on...</td>\n",
       "      <td>0.600000</td>\n",
       "      <td>0.300000</td>\n",
       "      <td>positive</td>\n",
       "      <td>1.014666</td>\n",
       "    </tr>\n",
       "    <tr>\n",
       "      <th>4</th>\n",
       "      <td>4</td>\n",
       "      <td>2011-12-29</td>\n",
       "      <td>1.906000</td>\n",
       "      <td>1.956000</td>\n",
       "      <td>1.903333</td>\n",
       "      <td>1.915333</td>\n",
       "      <td>1.915333</td>\n",
       "      <td>7323000</td>\n",
       "      <td>Increase</td>\n",
       "      <td>cool person essay it realli reson i felt way c...</td>\n",
       "      <td>0.132857</td>\n",
       "      <td>0.438571</td>\n",
       "      <td>positive</td>\n",
       "      <td>1.004333</td>\n",
       "    </tr>\n",
       "  </tbody>\n",
       "</table>\n",
       "</div>"
      ],
      "text/plain": [
       "   Unnamed: 0        Date      Open      High       Low     Close  Adj Close  \\\n",
       "0           0  2011-12-01  2.171333  2.266000  2.132000  2.173333   2.173333   \n",
       "1           1  2011-12-21  1.860667  1.871333  1.735333  1.838000   1.838000   \n",
       "2           2  2011-12-22  1.840000  1.870000  1.820000  1.851333   1.851333   \n",
       "3           3  2011-12-28  1.932667  1.949333  1.869333  1.900667   1.900667   \n",
       "4           4  2011-12-29  1.906000  1.956000  1.903333  1.915333   1.915333   \n",
       "\n",
       "     Volume     Label                                  Tweets_clean_more  \\\n",
       "0  15453000  Increase  i made volum model s go now i need work miniat...   \n",
       "1  25582500  Decrease  yeah realli mom attest not sure i handl char m...   \n",
       "2  15141000  Increase  model s option perform red black i deliv car j...   \n",
       "3   8628000  Decrease  if ever want know real truth moon land best on...   \n",
       "4   7323000  Increase  cool person essay it realli reson i felt way c...   \n",
       "\n",
       "   polarity  subjectivity sentiment   half_H_L  \n",
       "0  0.300000      0.200000  positive   1.200000  \n",
       "1  0.377273      0.708687  positive   1.003667  \n",
       "2  0.090476      0.376190  positive   0.960000  \n",
       "3  0.600000      0.300000  positive   1.014666  \n",
       "4  0.132857      0.438571  positive   1.004333  "
      ]
     },
     "execution_count": 9,
     "metadata": {},
     "output_type": "execute_result"
    }
   ],
   "source": [
    "Twitter_stock=pd.read_csv(\"../Data/combind_sen_stock.csv\")\n",
    "Twitter_stock.head()"
   ]
  },
  {
   "cell_type": "code",
   "execution_count": 10,
   "metadata": {},
   "outputs": [],
   "source": [
    "df=pd.DataFrame([Twitter_stock[\"Tweets_clean_more\"],Twitter_stock[\"Label\"]]).T\n"
   ]
  },
  {
   "cell_type": "code",
   "execution_count": 29,
   "metadata": {},
   "outputs": [
    {
     "data": {
      "text/html": [
       "<div>\n",
       "<style scoped>\n",
       "    .dataframe tbody tr th:only-of-type {\n",
       "        vertical-align: middle;\n",
       "    }\n",
       "\n",
       "    .dataframe tbody tr th {\n",
       "        vertical-align: top;\n",
       "    }\n",
       "\n",
       "    .dataframe thead th {\n",
       "        text-align: right;\n",
       "    }\n",
       "</style>\n",
       "<table border=\"1\" class=\"dataframe\">\n",
       "  <thead>\n",
       "    <tr style=\"text-align: right;\">\n",
       "      <th></th>\n",
       "      <th>Tweets_clean_more</th>\n",
       "      <th>Label</th>\n",
       "    </tr>\n",
       "  </thead>\n",
       "  <tbody>\n",
       "    <tr>\n",
       "      <th>0</th>\n",
       "      <td>i made volum model s go now i need work miniat...</td>\n",
       "      <td>1</td>\n",
       "    </tr>\n",
       "    <tr>\n",
       "      <th>1</th>\n",
       "      <td>yeah realli mom attest not sure i handl char m...</td>\n",
       "      <td>0</td>\n",
       "    </tr>\n",
       "    <tr>\n",
       "      <th>2</th>\n",
       "      <td>model s option perform red black i deliv car j...</td>\n",
       "      <td>1</td>\n",
       "    </tr>\n",
       "    <tr>\n",
       "      <th>3</th>\n",
       "      <td>if ever want know real truth moon land best on...</td>\n",
       "      <td>0</td>\n",
       "    </tr>\n",
       "    <tr>\n",
       "      <th>4</th>\n",
       "      <td>cool person essay it realli reson i felt way c...</td>\n",
       "      <td>1</td>\n",
       "    </tr>\n",
       "    <tr>\n",
       "      <th>...</th>\n",
       "      <td>...</td>\n",
       "      <td>...</td>\n",
       "    </tr>\n",
       "    <tr>\n",
       "      <th>1417</th>\n",
       "      <td>it remov simul improv render resolut  congrat ...</td>\n",
       "      <td>0</td>\n",
       "    </tr>\n",
       "    <tr>\n",
       "      <th>1418</th>\n",
       "      <td>tesla build collis repair capabl help address ...</td>\n",
       "      <td>1</td>\n",
       "    </tr>\n",
       "    <tr>\n",
       "      <th>1419</th>\n",
       "      <td>th raptor engin come soon mayb use get that ve...</td>\n",
       "      <td>0</td>\n",
       "    </tr>\n",
       "    <tr>\n",
       "      <th>1420</th>\n",
       "      <td>one mani reason need make life multiplanetari ...</td>\n",
       "      <td>0</td>\n",
       "    </tr>\n",
       "    <tr>\n",
       "      <th>1421</th>\n",
       "      <td>austin rock  same berlin limit product mode...</td>\n",
       "      <td>1</td>\n",
       "    </tr>\n",
       "  </tbody>\n",
       "</table>\n",
       "<p>1422 rows × 2 columns</p>\n",
       "</div>"
      ],
      "text/plain": [
       "                                      Tweets_clean_more  Label\n",
       "0     i made volum model s go now i need work miniat...      1\n",
       "1     yeah realli mom attest not sure i handl char m...      0\n",
       "2     model s option perform red black i deliv car j...      1\n",
       "3     if ever want know real truth moon land best on...      0\n",
       "4     cool person essay it realli reson i felt way c...      1\n",
       "...                                                 ...    ...\n",
       "1417  it remov simul improv render resolut  congrat ...      0\n",
       "1418  tesla build collis repair capabl help address ...      1\n",
       "1419  th raptor engin come soon mayb use get that ve...      0\n",
       "1420  one mani reason need make life multiplanetari ...      0\n",
       "1421     austin rock  same berlin limit product mode...      1\n",
       "\n",
       "[1422 rows x 2 columns]"
      ]
     },
     "execution_count": 29,
     "metadata": {},
     "output_type": "execute_result"
    }
   ],
   "source": [
    "label_encoder = LabelEncoder()\n",
    "\n",
    "df[\"Label\"] = label_encoder.fit_transform(df[\"Label\"])\n",
    "\n",
    "df"
   ]
  },
  {
   "cell_type": "markdown",
   "metadata": {},
   "source": [
    "### Get the training and testing dataset"
   ]
  },
  {
   "cell_type": "code",
   "execution_count": 30,
   "metadata": {},
   "outputs": [
    {
     "name": "stdout",
     "output_type": "stream",
     "text": [
      "X_train shape:  (1137,)\n",
      "X_val shape:  (285,)\n",
      "y_train shape:  (1137,)\n",
      "y_val shape:  (285,)\n"
     ]
    }
   ],
   "source": [
    "from sklearn.model_selection import train_test_split\n",
    "\n",
    "X_train, X_val, y_train, y_val = train_test_split(df[\"Tweets_clean_more\"], df[\"Label\"], test_size=0.2)\n",
    "\n",
    "print('X_train shape: ', X_train.shape)\n",
    "print('X_val shape: ', X_val.shape)\n",
    "print('y_train shape: ', y_train.shape)\n",
    "print('y_val shape: ', y_val.shape)"
   ]
  },
  {
   "cell_type": "code",
   "execution_count": 31,
   "metadata": {},
   "outputs": [
    {
     "name": "stdout",
     "output_type": "stream",
     "text": [
      "Train Class Proportion:\n",
      " 0    49.076517\n",
      "1    48.372911\n",
      "2     2.550572\n",
      "Name: Label, dtype: float64\n",
      "\n",
      "Validation Class Proportion:\n",
      " 1    48.421053\n",
      "0    47.368421\n",
      "2     4.210526\n",
      "Name: Label, dtype: float64\n"
     ]
    }
   ],
   "source": [
    "print('Train Class Proportion:\\n', y_train.value_counts() / len(y_train) * 100)\n",
    "print('\\nValidation Class Proportion:\\n', y_val.value_counts() / len(y_val) * 100)"
   ]
  },
  {
   "cell_type": "code",
   "execution_count": null,
   "metadata": {},
   "outputs": [],
   "source": []
  },
  {
   "cell_type": "code",
   "execution_count": 32,
   "metadata": {},
   "outputs": [],
   "source": [
    "\n",
    "\n",
    "tokenizer = Tokenizer(num_words=5000)\n",
    "tokenizer.fit_on_texts(df[\"Tweets_clean_more\"])\n",
    "xtrain= tokenizer.texts_to_sequences(X_train)\n",
    "xtest= tokenizer.texts_to_sequences(X_val) \n",
    "\n",
    "\n"
   ]
  },
  {
   "cell_type": "code",
   "execution_count": 48,
   "metadata": {},
   "outputs": [
    {
     "name": "stdout",
     "output_type": "stream",
     "text": [
      "X_train shape: (1137, 50)\n",
      "X_train shape: (285, 50)\n"
     ]
    }
   ],
   "source": [
    "vocab_size=len(tokenizer.word_index)+1\n",
    "\n",
    "\n",
    " \n",
    "maxlen = 50\n",
    "\n",
    "X_train_text = pad_sequences(xtrain, padding='post', maxlen=maxlen)\n",
    "X_val_text = pad_sequences(xtest, padding='post', maxlen=maxlen)\n",
    "\n",
    "print('X_train shape:', X_train_text.shape)\n",
    "print('X_train shape:', X_val_text.shape)\n",
    "\n"
   ]
  },
  {
   "cell_type": "code",
   "execution_count": 62,
   "metadata": {},
   "outputs": [
    {
     "name": "stdout",
     "output_type": "stream",
     "text": [
      "Model: \"sequential_4\"\n",
      "_________________________________________________________________\n",
      " Layer (type)                Output Shape              Param #   \n",
      "=================================================================\n",
      " embedding_4 (Embedding)     (None, 50, 50)            368000    \n",
      "                                                                 \n",
      " lstm_8 (LSTM)               (None, 50, 50)            20200     \n",
      "                                                                 \n",
      " lstm_9 (LSTM)               (None, 10)                2440      \n",
      "                                                                 \n",
      " dropout_4 (Dropout)         (None, 10)                0         \n",
      "                                                                 \n",
      " dense_8 (Dense)             (None, 10)                110       \n",
      "                                                                 \n",
      " dense_9 (Dense)             (None, 1)                 11        \n",
      "                                                                 \n",
      "=================================================================\n",
      "Total params: 390,761\n",
      "Trainable params: 390,761\n",
      "Non-trainable params: 0\n",
      "_________________________________________________________________\n"
     ]
    },
    {
     "data": {
      "text/plain": [
       "<keras.callbacks.History at 0x7fe43e093700>"
      ]
     },
     "execution_count": 62,
     "metadata": {},
     "output_type": "execute_result"
    }
   ],
   "source": [
    "embedding_dim=50\n",
    "model=Sequential()\n",
    "model.add(layers.Embedding(input_dim=vocab_size,\n",
    "         output_dim=embedding_dim,\n",
    "         input_length=maxlen))\n",
    "model.add(layers.LSTM(units=50,return_sequences=True))\n",
    "model.add(layers.LSTM(units=10))\n",
    "model.add(layers.Dropout(0.5))\n",
    "model.add(layers.Dense(10))\n",
    "model.add(layers.Dense(1, activation=\"sigmoid\"))\n",
    "model.compile(optimizer=\"adam\", loss=\"binary_crossentropy\", \n",
    "     metrics=['accuracy'])\n",
    "model.summary()\n",
    "model.fit(X_train_text,y_train, epochs=20, batch_size=16, verbose=False)\n",
    "\n"
   ]
  },
  {
   "cell_type": "code",
   "execution_count": 66,
   "metadata": {},
   "outputs": [
    {
     "name": "stdout",
     "output_type": "stream",
     "text": [
      "Training Accuracy:  0.48372912406921387\n",
      "Test Accuracy:  0.4842105209827423\n"
     ]
    }
   ],
   "source": [
    "loss, acc = model.evaluate(X_train_text, y_train, verbose=False)\n",
    "print(\"Training Accuracy: \", acc)\n",
    "loss, acc = model.evaluate(X_val_text, y_val, verbose=False)\n",
    "print(\"Test Accuracy: \", acc)\n",
    "\n",
    "\n",
    "\n"
   ]
  },
  {
   "cell_type": "code",
   "execution_count": 52,
   "metadata": {},
   "outputs": [
    {
     "name": "stdout",
     "output_type": "stream",
     "text": [
      "9/9 [==============================] - 0s 8ms/step\n"
     ]
    }
   ],
   "source": [
    "ypred=model.predict(X_val_text)\n",
    "\n",
    "\n",
    "ypred[ypred>0.5]=1 \n",
    "ypred[ypred<=0.5]=0 "
   ]
  },
  {
   "cell_type": "code",
   "execution_count": 54,
   "metadata": {},
   "outputs": [
    {
     "data": {
      "text/plain": [
       "array([[  0, 135,   0],\n",
       "       [  0, 138,   0],\n",
       "       [  0,  12,   0]])"
      ]
     },
     "execution_count": 54,
     "metadata": {},
     "output_type": "execute_result"
    }
   ],
   "source": [
    "cm = confusion_matrix(y_val, ypred)\n",
    "cm"
   ]
  },
  {
   "cell_type": "code",
   "execution_count": 59,
   "metadata": {},
   "outputs": [
    {
     "name": "stdout",
     "output_type": "stream",
     "text": [
      "              precision    recall  f1-score   support\n",
      "\n",
      "           0       0.00      0.00      0.00       135\n",
      "           1       0.48      1.00      0.65       138\n",
      "           2       0.00      0.00      0.00        12\n",
      "\n",
      "    accuracy                           0.48       285\n",
      "   macro avg       0.16      0.33      0.22       285\n",
      "weighted avg       0.23      0.48      0.32       285\n",
      "\n"
     ]
    },
    {
     "name": "stderr",
     "output_type": "stream",
     "text": [
      "/opt/anaconda3/lib/python3.9/site-packages/sklearn/metrics/_classification.py:1318: UndefinedMetricWarning: Precision and F-score are ill-defined and being set to 0.0 in labels with no predicted samples. Use `zero_division` parameter to control this behavior.\n",
      "  _warn_prf(average, modifier, msg_start, len(result))\n",
      "/opt/anaconda3/lib/python3.9/site-packages/sklearn/metrics/_classification.py:1318: UndefinedMetricWarning: Precision and F-score are ill-defined and being set to 0.0 in labels with no predicted samples. Use `zero_division` parameter to control this behavior.\n",
      "  _warn_prf(average, modifier, msg_start, len(result))\n",
      "/opt/anaconda3/lib/python3.9/site-packages/sklearn/metrics/_classification.py:1318: UndefinedMetricWarning: Precision and F-score are ill-defined and being set to 0.0 in labels with no predicted samples. Use `zero_division` parameter to control this behavior.\n",
      "  _warn_prf(average, modifier, msg_start, len(result))\n"
     ]
    }
   ],
   "source": [
    "print(classification_report(y_val,ypred))"
   ]
  },
  {
   "cell_type": "markdown",
   "metadata": {},
   "source": [
    "Results:\n",
    "The LSTM model show us that the predict result. \n",
    "\n"
   ]
  },
  {
   "cell_type": "code",
   "execution_count": null,
   "metadata": {},
   "outputs": [],
   "source": [
    "pd.read_csv()"
   ]
  }
 ],
 "metadata": {
  "kernelspec": {
   "display_name": "Python 3.9.12 ('base')",
   "language": "python",
   "name": "python3"
  },
  "language_info": {
   "codemirror_mode": {
    "name": "ipython",
    "version": 3
   },
   "file_extension": ".py",
   "mimetype": "text/x-python",
   "name": "python",
   "nbconvert_exporter": "python",
   "pygments_lexer": "ipython3",
   "version": "3.9.12"
  },
  "orig_nbformat": 4,
  "vscode": {
   "interpreter": {
    "hash": "40d3a090f54c6569ab1632332b64b2c03c39dcf918b08424e98f38b5ae0af88f"
   }
  }
 },
 "nbformat": 4,
 "nbformat_minor": 2
}
