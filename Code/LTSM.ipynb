{
 "cells": [
  {
   "cell_type": "markdown",
   "metadata": {},
   "source": [
    "## Introduction\n",
    "* Part1: Prepare data to visualize the labeled stock price(By sentiment result: delay two days)\n",
    "* Part2: Realize the LSTM model\n"
   ]
  },
  {
   "cell_type": "markdown",
   "metadata": {},
   "source": [
    "## Part1"
   ]
  },
  {
   "cell_type": "markdown",
   "metadata": {},
   "source": [
    "### Import necessary packages"
   ]
  },
  {
   "cell_type": "code",
   "execution_count": 49,
   "metadata": {},
   "outputs": [],
   "source": [
    "from sklearn.model_selection import train_test_split\n",
    "import pandas as pd\n",
    "import tokenization\n",
    "import tensorflow as tf\n",
    "import tensorflow_hub as hub\n",
    "from keras.utils import to_categorical\n",
    "from sklearn import preprocessing\n",
    "from sklearn.model_selection import train_test_split\n",
    "import numpy as np\n",
    "import matplotlib.pyplot as plt\n",
    "import pandas as pd\n",
    "import torch\n",
    "\n",
    "from sklearn.preprocessing import LabelEncoder, MinMaxScaler\n",
    "from sklearn.metrics import classification_report, confusion_matrix\n",
    "from keras.preprocessing.text import Tokenizer\n",
    "from tensorflow.keras.preprocessing.sequence import pad_sequences\n",
    "\n",
    "\n",
    "from keras.models import Sequential\n",
    "from keras import layers\n",
    "from sklearn.model_selection import train_test_split\n",
    "from sklearn.metrics import confusion_matrix\n",
    "import pandas as pd\n",
    "\n",
    "from keras.models import Sequential\n",
    "from keras.layers import Dense, Embedding, LSTM, SpatialDropout1D\n",
    "from sklearn.model_selection import train_test_split\n",
    "from keras.utils.np_utils import to_categorical\n",
    "from keras.callbacks import EarlyStopping\n",
    "from keras.layers import Dropout\n"
   ]
  },
  {
   "cell_type": "markdown",
   "metadata": {},
   "source": [
    "* Load the combind_sen_stock.csv and Combinded_Delayed_2Days.csv"
   ]
  },
  {
   "cell_type": "code",
   "execution_count": 28,
   "metadata": {},
   "outputs": [
    {
     "data": {
      "text/html": [
       "<div>\n",
       "<style scoped>\n",
       "    .dataframe tbody tr th:only-of-type {\n",
       "        vertical-align: middle;\n",
       "    }\n",
       "\n",
       "    .dataframe tbody tr th {\n",
       "        vertical-align: top;\n",
       "    }\n",
       "\n",
       "    .dataframe thead th {\n",
       "        text-align: right;\n",
       "    }\n",
       "</style>\n",
       "<table border=\"1\" class=\"dataframe\">\n",
       "  <thead>\n",
       "    <tr style=\"text-align: right;\">\n",
       "      <th></th>\n",
       "      <th>Date</th>\n",
       "      <th>Tweets_clean_more</th>\n",
       "      <th>polarity</th>\n",
       "      <th>subjectivity</th>\n",
       "      <th>sentiment</th>\n",
       "      <th>Label_delayed_2Days</th>\n",
       "    </tr>\n",
       "  </thead>\n",
       "  <tbody>\n",
       "    <tr>\n",
       "      <th>0</th>\n",
       "      <td>2013-01-10</td>\n",
       "      <td>to super clear i dont wish could i mandat anyt...</td>\n",
       "      <td>0.216667</td>\n",
       "      <td>0.525000</td>\n",
       "      <td>positive</td>\n",
       "      <td>Decrease</td>\n",
       "    </tr>\n",
       "    <tr>\n",
       "      <th>1</th>\n",
       "      <td>2019-01-10</td>\n",
       "      <td>ye get regulatori pushback may avail region go...</td>\n",
       "      <td>0.123333</td>\n",
       "      <td>0.490556</td>\n",
       "      <td>positive</td>\n",
       "      <td>Increase</td>\n",
       "    </tr>\n",
       "    <tr>\n",
       "      <th>2</th>\n",
       "      <td>2020-01-10</td>\n",
       "      <td>dome barrel weld made bar pretti good bar need...</td>\n",
       "      <td>0.411111</td>\n",
       "      <td>0.570988</td>\n",
       "      <td>positive</td>\n",
       "      <td>Decrease</td>\n",
       "    </tr>\n",
       "    <tr>\n",
       "      <th>3</th>\n",
       "      <td>2012-01-11</td>\n",
       "      <td>the exec conf room tesla use call denali i dec...</td>\n",
       "      <td>0.600000</td>\n",
       "      <td>1.000000</td>\n",
       "      <td>positive</td>\n",
       "      <td>Decrease</td>\n",
       "    </tr>\n",
       "    <tr>\n",
       "      <th>4</th>\n",
       "      <td>2016-01-11</td>\n",
       "      <td>sad hear david bowi die he amaz</td>\n",
       "      <td>-0.500000</td>\n",
       "      <td>1.000000</td>\n",
       "      <td>negative</td>\n",
       "      <td>Increase</td>\n",
       "    </tr>\n",
       "    <tr>\n",
       "      <th>...</th>\n",
       "      <td>...</td>\n",
       "      <td>...</td>\n",
       "      <td>...</td>\n",
       "      <td>...</td>\n",
       "      <td>...</td>\n",
       "      <td>...</td>\n",
       "    </tr>\n",
       "    <tr>\n",
       "      <th>1415</th>\n",
       "      <td>2018-09-07</td>\n",
       "      <td>type peopl world understand binari amp  will s...</td>\n",
       "      <td>0.492857</td>\n",
       "      <td>0.567857</td>\n",
       "      <td>positive</td>\n",
       "      <td>Decrease</td>\n",
       "    </tr>\n",
       "    <tr>\n",
       "      <th>1416</th>\n",
       "      <td>2014-09-08</td>\n",
       "      <td>excel explan diff betw get orbit v space sugge...</td>\n",
       "      <td>0.250000</td>\n",
       "      <td>0.333333</td>\n",
       "      <td>positive</td>\n",
       "      <td>Decrease</td>\n",
       "    </tr>\n",
       "    <tr>\n",
       "      <th>1417</th>\n",
       "      <td>2020-09-08</td>\n",
       "      <td>a la guerr comm à la guerr haha and start twee...</td>\n",
       "      <td>0.100000</td>\n",
       "      <td>0.400000</td>\n",
       "      <td>positive</td>\n",
       "      <td>Decrease</td>\n",
       "    </tr>\n",
       "    <tr>\n",
       "      <th>1418</th>\n",
       "      <td>2014-09-09</td>\n",
       "      <td>meet build call  just crazi japanes game show ...</td>\n",
       "      <td>-0.400000</td>\n",
       "      <td>0.400000</td>\n",
       "      <td>negative</td>\n",
       "      <td>Increase</td>\n",
       "    </tr>\n",
       "    <tr>\n",
       "      <th>1419</th>\n",
       "      <td>2016-09-09</td>\n",
       "      <td>thought ope space new much appreci most like t...</td>\n",
       "      <td>0.046780</td>\n",
       "      <td>0.398295</td>\n",
       "      <td>positive</td>\n",
       "      <td>Decrease</td>\n",
       "    </tr>\n",
       "  </tbody>\n",
       "</table>\n",
       "<p>1420 rows × 6 columns</p>\n",
       "</div>"
      ],
      "text/plain": [
       "            Date                                  Tweets_clean_more  polarity  \\\n",
       "0     2013-01-10  to super clear i dont wish could i mandat anyt...  0.216667   \n",
       "1     2019-01-10  ye get regulatori pushback may avail region go...  0.123333   \n",
       "2     2020-01-10  dome barrel weld made bar pretti good bar need...  0.411111   \n",
       "3     2012-01-11  the exec conf room tesla use call denali i dec...  0.600000   \n",
       "4     2016-01-11                    sad hear david bowi die he amaz -0.500000   \n",
       "...          ...                                                ...       ...   \n",
       "1415  2018-09-07  type peopl world understand binari amp  will s...  0.492857   \n",
       "1416  2014-09-08  excel explan diff betw get orbit v space sugge...  0.250000   \n",
       "1417  2020-09-08  a la guerr comm à la guerr haha and start twee...  0.100000   \n",
       "1418  2014-09-09  meet build call  just crazi japanes game show ... -0.400000   \n",
       "1419  2016-09-09  thought ope space new much appreci most like t...  0.046780   \n",
       "\n",
       "      subjectivity sentiment Label_delayed_2Days  \n",
       "0         0.525000  positive            Decrease  \n",
       "1         0.490556  positive            Increase  \n",
       "2         0.570988  positive            Decrease  \n",
       "3         1.000000  positive            Decrease  \n",
       "4         1.000000  negative            Increase  \n",
       "...            ...       ...                 ...  \n",
       "1415      0.567857  positive            Decrease  \n",
       "1416      0.333333  positive            Decrease  \n",
       "1417      0.400000  positive            Decrease  \n",
       "1418      0.400000  negative            Increase  \n",
       "1419      0.398295  positive            Decrease  \n",
       "\n",
       "[1420 rows x 6 columns]"
      ]
     },
     "execution_count": 28,
     "metadata": {},
     "output_type": "execute_result"
    }
   ],
   "source": [
    "Twitter_stock1=pd.read_csv(\"../Data/combind_sen_stock.csv\")\n",
    "Twitter_stock2=pd.read_csv(\"../Data/Combined_Delayed_2Days.csv\")\n",
    "\n",
    "Twitter_stock2"
   ]
  },
  {
   "cell_type": "markdown",
   "metadata": {},
   "source": [
    "* Load the TSLA_labeled.csv dataset"
   ]
  },
  {
   "cell_type": "code",
   "execution_count": 29,
   "metadata": {},
   "outputs": [
    {
     "data": {
      "text/html": [
       "<div>\n",
       "<style scoped>\n",
       "    .dataframe tbody tr th:only-of-type {\n",
       "        vertical-align: middle;\n",
       "    }\n",
       "\n",
       "    .dataframe tbody tr th {\n",
       "        vertical-align: top;\n",
       "    }\n",
       "\n",
       "    .dataframe thead th {\n",
       "        text-align: right;\n",
       "    }\n",
       "</style>\n",
       "<table border=\"1\" class=\"dataframe\">\n",
       "  <thead>\n",
       "    <tr style=\"text-align: right;\">\n",
       "      <th></th>\n",
       "      <th>Date</th>\n",
       "      <th>Open</th>\n",
       "      <th>High</th>\n",
       "      <th>Low</th>\n",
       "      <th>Close</th>\n",
       "      <th>Adj Close</th>\n",
       "      <th>Volume</th>\n",
       "      <th>Label</th>\n",
       "    </tr>\n",
       "  </thead>\n",
       "  <tbody>\n",
       "    <tr>\n",
       "      <th>0</th>\n",
       "      <td>2011-12-01</td>\n",
       "      <td>2.171333</td>\n",
       "      <td>2.266000</td>\n",
       "      <td>2.132000</td>\n",
       "      <td>2.173333</td>\n",
       "      <td>2.173333</td>\n",
       "      <td>15453000</td>\n",
       "      <td>Increase</td>\n",
       "    </tr>\n",
       "    <tr>\n",
       "      <th>1</th>\n",
       "      <td>2011-12-02</td>\n",
       "      <td>2.188667</td>\n",
       "      <td>2.246000</td>\n",
       "      <td>2.160000</td>\n",
       "      <td>2.220000</td>\n",
       "      <td>2.220000</td>\n",
       "      <td>12042000</td>\n",
       "      <td>Increase</td>\n",
       "    </tr>\n",
       "    <tr>\n",
       "      <th>2</th>\n",
       "      <td>2011-12-05</td>\n",
       "      <td>2.235333</td>\n",
       "      <td>2.333333</td>\n",
       "      <td>2.228667</td>\n",
       "      <td>2.294667</td>\n",
       "      <td>2.294667</td>\n",
       "      <td>17401500</td>\n",
       "      <td>Increase</td>\n",
       "    </tr>\n",
       "    <tr>\n",
       "      <th>3</th>\n",
       "      <td>2011-12-06</td>\n",
       "      <td>2.280000</td>\n",
       "      <td>2.332000</td>\n",
       "      <td>2.268667</td>\n",
       "      <td>2.324667</td>\n",
       "      <td>2.324667</td>\n",
       "      <td>14277000</td>\n",
       "      <td>Increase</td>\n",
       "    </tr>\n",
       "    <tr>\n",
       "      <th>4</th>\n",
       "      <td>2011-12-07</td>\n",
       "      <td>2.308667</td>\n",
       "      <td>2.326000</td>\n",
       "      <td>2.253333</td>\n",
       "      <td>2.279333</td>\n",
       "      <td>2.279333</td>\n",
       "      <td>10114500</td>\n",
       "      <td>Decrease</td>\n",
       "    </tr>\n",
       "    <tr>\n",
       "      <th>...</th>\n",
       "      <td>...</td>\n",
       "      <td>...</td>\n",
       "      <td>...</td>\n",
       "      <td>...</td>\n",
       "      <td>...</td>\n",
       "      <td>...</td>\n",
       "      <td>...</td>\n",
       "      <td>...</td>\n",
       "    </tr>\n",
       "    <tr>\n",
       "      <th>2353</th>\n",
       "      <td>2021-04-12</td>\n",
       "      <td>228.566666</td>\n",
       "      <td>234.933334</td>\n",
       "      <td>227.363327</td>\n",
       "      <td>233.993332</td>\n",
       "      <td>233.993332</td>\n",
       "      <td>87407100</td>\n",
       "      <td>Increase</td>\n",
       "    </tr>\n",
       "    <tr>\n",
       "      <th>2354</th>\n",
       "      <td>2021-04-13</td>\n",
       "      <td>237.566666</td>\n",
       "      <td>254.333328</td>\n",
       "      <td>236.886673</td>\n",
       "      <td>254.106674</td>\n",
       "      <td>254.106674</td>\n",
       "      <td>133958400</td>\n",
       "      <td>Increase</td>\n",
       "    </tr>\n",
       "    <tr>\n",
       "      <th>2355</th>\n",
       "      <td>2021-04-14</td>\n",
       "      <td>256.899994</td>\n",
       "      <td>260.263336</td>\n",
       "      <td>242.676666</td>\n",
       "      <td>244.076660</td>\n",
       "      <td>244.076660</td>\n",
       "      <td>147052200</td>\n",
       "      <td>Decrease</td>\n",
       "    </tr>\n",
       "    <tr>\n",
       "      <th>2356</th>\n",
       "      <td>2021-04-15</td>\n",
       "      <td>247.699997</td>\n",
       "      <td>247.896667</td>\n",
       "      <td>240.436661</td>\n",
       "      <td>246.283340</td>\n",
       "      <td>246.283340</td>\n",
       "      <td>83546700</td>\n",
       "      <td>Decrease</td>\n",
       "    </tr>\n",
       "    <tr>\n",
       "      <th>2357</th>\n",
       "      <td>2021-04-16</td>\n",
       "      <td>242.883331</td>\n",
       "      <td>249.803329</td>\n",
       "      <td>241.533340</td>\n",
       "      <td>246.593338</td>\n",
       "      <td>246.593338</td>\n",
       "      <td>83938500</td>\n",
       "      <td>Increase</td>\n",
       "    </tr>\n",
       "  </tbody>\n",
       "</table>\n",
       "<p>2358 rows × 8 columns</p>\n",
       "</div>"
      ],
      "text/plain": [
       "            Date        Open        High         Low       Close   Adj Close  \\\n",
       "0     2011-12-01    2.171333    2.266000    2.132000    2.173333    2.173333   \n",
       "1     2011-12-02    2.188667    2.246000    2.160000    2.220000    2.220000   \n",
       "2     2011-12-05    2.235333    2.333333    2.228667    2.294667    2.294667   \n",
       "3     2011-12-06    2.280000    2.332000    2.268667    2.324667    2.324667   \n",
       "4     2011-12-07    2.308667    2.326000    2.253333    2.279333    2.279333   \n",
       "...          ...         ...         ...         ...         ...         ...   \n",
       "2353  2021-04-12  228.566666  234.933334  227.363327  233.993332  233.993332   \n",
       "2354  2021-04-13  237.566666  254.333328  236.886673  254.106674  254.106674   \n",
       "2355  2021-04-14  256.899994  260.263336  242.676666  244.076660  244.076660   \n",
       "2356  2021-04-15  247.699997  247.896667  240.436661  246.283340  246.283340   \n",
       "2357  2021-04-16  242.883331  249.803329  241.533340  246.593338  246.593338   \n",
       "\n",
       "         Volume     Label  \n",
       "0      15453000  Increase  \n",
       "1      12042000  Increase  \n",
       "2      17401500  Increase  \n",
       "3      14277000  Increase  \n",
       "4      10114500  Decrease  \n",
       "...         ...       ...  \n",
       "2353   87407100  Increase  \n",
       "2354  133958400  Increase  \n",
       "2355  147052200  Decrease  \n",
       "2356   83546700  Decrease  \n",
       "2357   83938500  Increase  \n",
       "\n",
       "[2358 rows x 8 columns]"
      ]
     },
     "execution_count": 29,
     "metadata": {},
     "output_type": "execute_result"
    }
   ],
   "source": [
    "df_lh=pd.read_csv(\"../Data/TSLA_labeled.csv\")\n",
    "df_lh"
   ]
  },
  {
   "cell_type": "markdown",
   "metadata": {},
   "source": [
    "* Merge Twitter_stock2 with df_lh dataframe"
   ]
  },
  {
   "cell_type": "code",
   "execution_count": 30,
   "metadata": {},
   "outputs": [
    {
     "data": {
      "text/html": [
       "<div>\n",
       "<style scoped>\n",
       "    .dataframe tbody tr th:only-of-type {\n",
       "        vertical-align: middle;\n",
       "    }\n",
       "\n",
       "    .dataframe tbody tr th {\n",
       "        vertical-align: top;\n",
       "    }\n",
       "\n",
       "    .dataframe thead th {\n",
       "        text-align: right;\n",
       "    }\n",
       "</style>\n",
       "<table border=\"1\" class=\"dataframe\">\n",
       "  <thead>\n",
       "    <tr style=\"text-align: right;\">\n",
       "      <th></th>\n",
       "      <th>Date</th>\n",
       "      <th>Tweets_clean_more</th>\n",
       "      <th>polarity</th>\n",
       "      <th>subjectivity</th>\n",
       "      <th>sentiment</th>\n",
       "      <th>Label_delayed_2Days</th>\n",
       "      <th>Open</th>\n",
       "      <th>High</th>\n",
       "      <th>Low</th>\n",
       "      <th>Close</th>\n",
       "      <th>Adj Close</th>\n",
       "      <th>Volume</th>\n",
       "      <th>Label</th>\n",
       "    </tr>\n",
       "  </thead>\n",
       "  <tbody>\n",
       "    <tr>\n",
       "      <th>0</th>\n",
       "      <td>2013-01-10</td>\n",
       "      <td>to super clear i dont wish could i mandat anyt...</td>\n",
       "      <td>0.216667</td>\n",
       "      <td>0.525000</td>\n",
       "      <td>positive</td>\n",
       "      <td>Decrease</td>\n",
       "      <td>2.258000</td>\n",
       "      <td>2.266000</td>\n",
       "      <td>2.225333</td>\n",
       "      <td>2.235333</td>\n",
       "      <td>2.235333</td>\n",
       "      <td>13837500</td>\n",
       "      <td>Decrease</td>\n",
       "    </tr>\n",
       "    <tr>\n",
       "      <th>1</th>\n",
       "      <td>2019-01-10</td>\n",
       "      <td>ye get regulatori pushback may avail region go...</td>\n",
       "      <td>0.123333</td>\n",
       "      <td>0.490556</td>\n",
       "      <td>positive</td>\n",
       "      <td>Increase</td>\n",
       "      <td>22.293333</td>\n",
       "      <td>23.025999</td>\n",
       "      <td>22.119333</td>\n",
       "      <td>22.997999</td>\n",
       "      <td>22.997999</td>\n",
       "      <td>90846000</td>\n",
       "      <td>Increase</td>\n",
       "    </tr>\n",
       "    <tr>\n",
       "      <th>2</th>\n",
       "      <td>2020-01-10</td>\n",
       "      <td>dome barrel weld made bar pretti good bar need...</td>\n",
       "      <td>0.411111</td>\n",
       "      <td>0.570988</td>\n",
       "      <td>positive</td>\n",
       "      <td>Decrease</td>\n",
       "      <td>32.119331</td>\n",
       "      <td>32.329334</td>\n",
       "      <td>31.580000</td>\n",
       "      <td>31.876667</td>\n",
       "      <td>31.876667</td>\n",
       "      <td>194392500</td>\n",
       "      <td>Decrease</td>\n",
       "    </tr>\n",
       "    <tr>\n",
       "      <th>3</th>\n",
       "      <td>2012-01-11</td>\n",
       "      <td>the exec conf room tesla use call denali i dec...</td>\n",
       "      <td>0.600000</td>\n",
       "      <td>1.000000</td>\n",
       "      <td>positive</td>\n",
       "      <td>Decrease</td>\n",
       "      <td>1.841333</td>\n",
       "      <td>1.892000</td>\n",
       "      <td>1.820000</td>\n",
       "      <td>1.882000</td>\n",
       "      <td>1.882000</td>\n",
       "      <td>10084500</td>\n",
       "      <td>Increase</td>\n",
       "    </tr>\n",
       "    <tr>\n",
       "      <th>4</th>\n",
       "      <td>2016-01-11</td>\n",
       "      <td>sad hear david bowi die he amaz</td>\n",
       "      <td>-0.500000</td>\n",
       "      <td>1.000000</td>\n",
       "      <td>negative</td>\n",
       "      <td>Increase</td>\n",
       "      <td>14.267333</td>\n",
       "      <td>14.296667</td>\n",
       "      <td>13.533333</td>\n",
       "      <td>13.856667</td>\n",
       "      <td>13.856667</td>\n",
       "      <td>61371000</td>\n",
       "      <td>Decrease</td>\n",
       "    </tr>\n",
       "  </tbody>\n",
       "</table>\n",
       "</div>"
      ],
      "text/plain": [
       "         Date                                  Tweets_clean_more  polarity  \\\n",
       "0  2013-01-10  to super clear i dont wish could i mandat anyt...  0.216667   \n",
       "1  2019-01-10  ye get regulatori pushback may avail region go...  0.123333   \n",
       "2  2020-01-10  dome barrel weld made bar pretti good bar need...  0.411111   \n",
       "3  2012-01-11  the exec conf room tesla use call denali i dec...  0.600000   \n",
       "4  2016-01-11                    sad hear david bowi die he amaz -0.500000   \n",
       "\n",
       "   subjectivity sentiment Label_delayed_2Days       Open       High  \\\n",
       "0      0.525000  positive            Decrease   2.258000   2.266000   \n",
       "1      0.490556  positive            Increase  22.293333  23.025999   \n",
       "2      0.570988  positive            Decrease  32.119331  32.329334   \n",
       "3      1.000000  positive            Decrease   1.841333   1.892000   \n",
       "4      1.000000  negative            Increase  14.267333  14.296667   \n",
       "\n",
       "         Low      Close  Adj Close     Volume     Label  \n",
       "0   2.225333   2.235333   2.235333   13837500  Decrease  \n",
       "1  22.119333  22.997999  22.997999   90846000  Increase  \n",
       "2  31.580000  31.876667  31.876667  194392500  Decrease  \n",
       "3   1.820000   1.882000   1.882000   10084500  Increase  \n",
       "4  13.533333  13.856667  13.856667   61371000  Decrease  "
      ]
     },
     "execution_count": 30,
     "metadata": {},
     "output_type": "execute_result"
    }
   ],
   "source": [
    "twitter_stock_2=Twitter_stock2.merge(df_lh)\n",
    "twitter_stock_2.head()\n"
   ]
  },
  {
   "cell_type": "markdown",
   "metadata": {},
   "source": [
    "* Create a new column named half_H_L\n",
    "* The half_H_L equal 1/2*(high-low)"
   ]
  },
  {
   "cell_type": "code",
   "execution_count": 31,
   "metadata": {},
   "outputs": [
    {
     "data": {
      "text/html": [
       "<div>\n",
       "<style scoped>\n",
       "    .dataframe tbody tr th:only-of-type {\n",
       "        vertical-align: middle;\n",
       "    }\n",
       "\n",
       "    .dataframe tbody tr th {\n",
       "        vertical-align: top;\n",
       "    }\n",
       "\n",
       "    .dataframe thead th {\n",
       "        text-align: right;\n",
       "    }\n",
       "</style>\n",
       "<table border=\"1\" class=\"dataframe\">\n",
       "  <thead>\n",
       "    <tr style=\"text-align: right;\">\n",
       "      <th></th>\n",
       "      <th>Date</th>\n",
       "      <th>Tweets_clean_more</th>\n",
       "      <th>polarity</th>\n",
       "      <th>subjectivity</th>\n",
       "      <th>sentiment</th>\n",
       "      <th>Label_delayed_2Days</th>\n",
       "      <th>Open</th>\n",
       "      <th>High</th>\n",
       "      <th>Low</th>\n",
       "      <th>Close</th>\n",
       "      <th>Adj Close</th>\n",
       "      <th>Volume</th>\n",
       "      <th>Label</th>\n",
       "      <th>half_H_L</th>\n",
       "    </tr>\n",
       "  </thead>\n",
       "  <tbody>\n",
       "    <tr>\n",
       "      <th>0</th>\n",
       "      <td>2013-01-10</td>\n",
       "      <td>to super clear i dont wish could i mandat anyt...</td>\n",
       "      <td>0.216667</td>\n",
       "      <td>0.525000</td>\n",
       "      <td>positive</td>\n",
       "      <td>Decrease</td>\n",
       "      <td>2.258000</td>\n",
       "      <td>2.266000</td>\n",
       "      <td>2.225333</td>\n",
       "      <td>2.235333</td>\n",
       "      <td>2.235333</td>\n",
       "      <td>13837500</td>\n",
       "      <td>Decrease</td>\n",
       "      <td>1.153334</td>\n",
       "    </tr>\n",
       "    <tr>\n",
       "      <th>1</th>\n",
       "      <td>2019-01-10</td>\n",
       "      <td>ye get regulatori pushback may avail region go...</td>\n",
       "      <td>0.123333</td>\n",
       "      <td>0.490556</td>\n",
       "      <td>positive</td>\n",
       "      <td>Increase</td>\n",
       "      <td>22.293333</td>\n",
       "      <td>23.025999</td>\n",
       "      <td>22.119333</td>\n",
       "      <td>22.997999</td>\n",
       "      <td>22.997999</td>\n",
       "      <td>90846000</td>\n",
       "      <td>Increase</td>\n",
       "      <td>11.966332</td>\n",
       "    </tr>\n",
       "    <tr>\n",
       "      <th>2</th>\n",
       "      <td>2020-01-10</td>\n",
       "      <td>dome barrel weld made bar pretti good bar need...</td>\n",
       "      <td>0.411111</td>\n",
       "      <td>0.570988</td>\n",
       "      <td>positive</td>\n",
       "      <td>Decrease</td>\n",
       "      <td>32.119331</td>\n",
       "      <td>32.329334</td>\n",
       "      <td>31.580000</td>\n",
       "      <td>31.876667</td>\n",
       "      <td>31.876667</td>\n",
       "      <td>194392500</td>\n",
       "      <td>Decrease</td>\n",
       "      <td>16.539334</td>\n",
       "    </tr>\n",
       "    <tr>\n",
       "      <th>3</th>\n",
       "      <td>2012-01-11</td>\n",
       "      <td>the exec conf room tesla use call denali i dec...</td>\n",
       "      <td>0.600000</td>\n",
       "      <td>1.000000</td>\n",
       "      <td>positive</td>\n",
       "      <td>Decrease</td>\n",
       "      <td>1.841333</td>\n",
       "      <td>1.892000</td>\n",
       "      <td>1.820000</td>\n",
       "      <td>1.882000</td>\n",
       "      <td>1.882000</td>\n",
       "      <td>10084500</td>\n",
       "      <td>Increase</td>\n",
       "      <td>0.982000</td>\n",
       "    </tr>\n",
       "    <tr>\n",
       "      <th>4</th>\n",
       "      <td>2016-01-11</td>\n",
       "      <td>sad hear david bowi die he amaz</td>\n",
       "      <td>-0.500000</td>\n",
       "      <td>1.000000</td>\n",
       "      <td>negative</td>\n",
       "      <td>Increase</td>\n",
       "      <td>14.267333</td>\n",
       "      <td>14.296667</td>\n",
       "      <td>13.533333</td>\n",
       "      <td>13.856667</td>\n",
       "      <td>13.856667</td>\n",
       "      <td>61371000</td>\n",
       "      <td>Decrease</td>\n",
       "      <td>7.530001</td>\n",
       "    </tr>\n",
       "  </tbody>\n",
       "</table>\n",
       "</div>"
      ],
      "text/plain": [
       "         Date                                  Tweets_clean_more  polarity  \\\n",
       "0  2013-01-10  to super clear i dont wish could i mandat anyt...  0.216667   \n",
       "1  2019-01-10  ye get regulatori pushback may avail region go...  0.123333   \n",
       "2  2020-01-10  dome barrel weld made bar pretti good bar need...  0.411111   \n",
       "3  2012-01-11  the exec conf room tesla use call denali i dec...  0.600000   \n",
       "4  2016-01-11                    sad hear david bowi die he amaz -0.500000   \n",
       "\n",
       "   subjectivity sentiment Label_delayed_2Days       Open       High  \\\n",
       "0      0.525000  positive            Decrease   2.258000   2.266000   \n",
       "1      0.490556  positive            Increase  22.293333  23.025999   \n",
       "2      0.570988  positive            Decrease  32.119331  32.329334   \n",
       "3      1.000000  positive            Decrease   1.841333   1.892000   \n",
       "4      1.000000  negative            Increase  14.267333  14.296667   \n",
       "\n",
       "         Low      Close  Adj Close     Volume     Label   half_H_L  \n",
       "0   2.225333   2.235333   2.235333   13837500  Decrease   1.153334  \n",
       "1  22.119333  22.997999  22.997999   90846000  Increase  11.966332  \n",
       "2  31.580000  31.876667  31.876667  194392500  Decrease  16.539334  \n",
       "3   1.820000   1.882000   1.882000   10084500  Increase   0.982000  \n",
       "4  13.533333  13.856667  13.856667   61371000  Decrease   7.530001  "
      ]
     },
     "execution_count": 31,
     "metadata": {},
     "output_type": "execute_result"
    }
   ],
   "source": [
    "label_line2=np.array(twitter_stock_2[\"High\"])-np.array(twitter_stock_2[\"Low\"])/2\n",
    "twitter_stock_2[\" half_H_L\"]=label_line2\n",
    "twitter_stock_2.head()"
   ]
  },
  {
   "cell_type": "markdown",
   "metadata": {},
   "source": [
    "* Save final dataset as Twitter_stock_delay2.csv"
   ]
  },
  {
   "cell_type": "code",
   "execution_count": 32,
   "metadata": {},
   "outputs": [],
   "source": [
    "twitter_stock_2.to_csv(\"../Data/Twitter_stock_delay2.csv\")"
   ]
  },
  {
   "cell_type": "markdown",
   "metadata": {},
   "source": [
    "## Part2"
   ]
  },
  {
   "cell_type": "markdown",
   "metadata": {},
   "source": [
    "### LSTM MODEL"
   ]
  },
  {
   "cell_type": "code",
   "execution_count": 51,
   "metadata": {},
   "outputs": [],
   "source": [
    "df=pd.DataFrame([Twitter_stock1[\"Tweets_clean_more\"],Twitter_stock2[\"Label_delayed_2Days\"]]).T\n",
    "\n"
   ]
  },
  {
   "cell_type": "code",
   "execution_count": 52,
   "metadata": {},
   "outputs": [
    {
     "data": {
      "text/html": [
       "<div>\n",
       "<style scoped>\n",
       "    .dataframe tbody tr th:only-of-type {\n",
       "        vertical-align: middle;\n",
       "    }\n",
       "\n",
       "    .dataframe tbody tr th {\n",
       "        vertical-align: top;\n",
       "    }\n",
       "\n",
       "    .dataframe thead th {\n",
       "        text-align: right;\n",
       "    }\n",
       "</style>\n",
       "<table border=\"1\" class=\"dataframe\">\n",
       "  <thead>\n",
       "    <tr style=\"text-align: right;\">\n",
       "      <th></th>\n",
       "      <th>Tweets_clean_more</th>\n",
       "      <th>Label_delayed_2Days</th>\n",
       "    </tr>\n",
       "  </thead>\n",
       "  <tbody>\n",
       "    <tr>\n",
       "      <th>0</th>\n",
       "      <td>i made volum model s go now i need work miniat...</td>\n",
       "      <td>Decrease</td>\n",
       "    </tr>\n",
       "    <tr>\n",
       "      <th>1</th>\n",
       "      <td>yeah realli mom attest not sure i handl char m...</td>\n",
       "      <td>Increase</td>\n",
       "    </tr>\n",
       "    <tr>\n",
       "      <th>2</th>\n",
       "      <td>model s option perform red black i deliv car j...</td>\n",
       "      <td>Decrease</td>\n",
       "    </tr>\n",
       "    <tr>\n",
       "      <th>3</th>\n",
       "      <td>if ever want know real truth moon land best on...</td>\n",
       "      <td>Decrease</td>\n",
       "    </tr>\n",
       "    <tr>\n",
       "      <th>4</th>\n",
       "      <td>cool person essay it realli reson i felt way c...</td>\n",
       "      <td>Increase</td>\n",
       "    </tr>\n",
       "    <tr>\n",
       "      <th>...</th>\n",
       "      <td>...</td>\n",
       "      <td>...</td>\n",
       "    </tr>\n",
       "    <tr>\n",
       "      <th>1417</th>\n",
       "      <td>it remov simul improv render resolut  congrat ...</td>\n",
       "      <td>Decrease</td>\n",
       "    </tr>\n",
       "    <tr>\n",
       "      <th>1418</th>\n",
       "      <td>tesla build collis repair capabl help address ...</td>\n",
       "      <td>Increase</td>\n",
       "    </tr>\n",
       "    <tr>\n",
       "      <th>1419</th>\n",
       "      <td>th raptor engin come soon mayb use get that ve...</td>\n",
       "      <td>Decrease</td>\n",
       "    </tr>\n",
       "    <tr>\n",
       "      <th>1420</th>\n",
       "      <td>one mani reason need make life multiplanetari ...</td>\n",
       "      <td>NaN</td>\n",
       "    </tr>\n",
       "    <tr>\n",
       "      <th>1421</th>\n",
       "      <td>austin rock  same berlin limit product mode...</td>\n",
       "      <td>NaN</td>\n",
       "    </tr>\n",
       "  </tbody>\n",
       "</table>\n",
       "<p>1422 rows × 2 columns</p>\n",
       "</div>"
      ],
      "text/plain": [
       "                                      Tweets_clean_more Label_delayed_2Days\n",
       "0     i made volum model s go now i need work miniat...            Decrease\n",
       "1     yeah realli mom attest not sure i handl char m...            Increase\n",
       "2     model s option perform red black i deliv car j...            Decrease\n",
       "3     if ever want know real truth moon land best on...            Decrease\n",
       "4     cool person essay it realli reson i felt way c...            Increase\n",
       "...                                                 ...                 ...\n",
       "1417  it remov simul improv render resolut  congrat ...            Decrease\n",
       "1418  tesla build collis repair capabl help address ...            Increase\n",
       "1419  th raptor engin come soon mayb use get that ve...            Decrease\n",
       "1420  one mani reason need make life multiplanetari ...                 NaN\n",
       "1421     austin rock  same berlin limit product mode...                 NaN\n",
       "\n",
       "[1422 rows x 2 columns]"
      ]
     },
     "execution_count": 52,
     "metadata": {},
     "output_type": "execute_result"
    }
   ],
   "source": [
    "df"
   ]
  },
  {
   "cell_type": "code",
   "execution_count": 34,
   "metadata": {},
   "outputs": [
    {
     "data": {
      "text/html": [
       "<div>\n",
       "<style scoped>\n",
       "    .dataframe tbody tr th:only-of-type {\n",
       "        vertical-align: middle;\n",
       "    }\n",
       "\n",
       "    .dataframe tbody tr th {\n",
       "        vertical-align: top;\n",
       "    }\n",
       "\n",
       "    .dataframe thead th {\n",
       "        text-align: right;\n",
       "    }\n",
       "</style>\n",
       "<table border=\"1\" class=\"dataframe\">\n",
       "  <thead>\n",
       "    <tr style=\"text-align: right;\">\n",
       "      <th></th>\n",
       "      <th>Date</th>\n",
       "      <th>Tweets_clean_more</th>\n",
       "      <th>polarity</th>\n",
       "      <th>subjectivity</th>\n",
       "      <th>sentiment</th>\n",
       "      <th>Label_delayed_2Days</th>\n",
       "      <th>Year</th>\n",
       "    </tr>\n",
       "  </thead>\n",
       "  <tbody>\n",
       "    <tr>\n",
       "      <th>0</th>\n",
       "      <td>2013-01-10</td>\n",
       "      <td>to super clear i dont wish could i mandat anyt...</td>\n",
       "      <td>0.216667</td>\n",
       "      <td>0.525000</td>\n",
       "      <td>positive</td>\n",
       "      <td>Decrease</td>\n",
       "      <td>2013</td>\n",
       "    </tr>\n",
       "    <tr>\n",
       "      <th>1</th>\n",
       "      <td>2019-01-10</td>\n",
       "      <td>ye get regulatori pushback may avail region go...</td>\n",
       "      <td>0.123333</td>\n",
       "      <td>0.490556</td>\n",
       "      <td>positive</td>\n",
       "      <td>Increase</td>\n",
       "      <td>2019</td>\n",
       "    </tr>\n",
       "    <tr>\n",
       "      <th>2</th>\n",
       "      <td>2020-01-10</td>\n",
       "      <td>dome barrel weld made bar pretti good bar need...</td>\n",
       "      <td>0.411111</td>\n",
       "      <td>0.570988</td>\n",
       "      <td>positive</td>\n",
       "      <td>Decrease</td>\n",
       "      <td>2020</td>\n",
       "    </tr>\n",
       "    <tr>\n",
       "      <th>3</th>\n",
       "      <td>2012-01-11</td>\n",
       "      <td>the exec conf room tesla use call denali i dec...</td>\n",
       "      <td>0.600000</td>\n",
       "      <td>1.000000</td>\n",
       "      <td>positive</td>\n",
       "      <td>Decrease</td>\n",
       "      <td>2012</td>\n",
       "    </tr>\n",
       "    <tr>\n",
       "      <th>4</th>\n",
       "      <td>2016-01-11</td>\n",
       "      <td>sad hear david bowi die he amaz</td>\n",
       "      <td>-0.500000</td>\n",
       "      <td>1.000000</td>\n",
       "      <td>negative</td>\n",
       "      <td>Increase</td>\n",
       "      <td>2016</td>\n",
       "    </tr>\n",
       "  </tbody>\n",
       "</table>\n",
       "</div>"
      ],
      "text/plain": [
       "         Date                                  Tweets_clean_more  polarity  \\\n",
       "0  2013-01-10  to super clear i dont wish could i mandat anyt...  0.216667   \n",
       "1  2019-01-10  ye get regulatori pushback may avail region go...  0.123333   \n",
       "2  2020-01-10  dome barrel weld made bar pretti good bar need...  0.411111   \n",
       "3  2012-01-11  the exec conf room tesla use call denali i dec...  0.600000   \n",
       "4  2016-01-11                    sad hear david bowi die he amaz -0.500000   \n",
       "\n",
       "   subjectivity sentiment Label_delayed_2Days  Year  \n",
       "0      0.525000  positive            Decrease  2013  \n",
       "1      0.490556  positive            Increase  2019  \n",
       "2      0.570988  positive            Decrease  2020  \n",
       "3      1.000000  positive            Decrease  2012  \n",
       "4      1.000000  negative            Increase  2016  "
      ]
     },
     "execution_count": 34,
     "metadata": {},
     "output_type": "execute_result"
    }
   ],
   "source": [
    "Twitter_stock2[\"Year\"]=[Twitter_stock2[\"Date\"][i][0:4] for i in range(Twitter_stock2.shape[0])]\n",
    "Twitter_stock2.head()\n"
   ]
  },
  {
   "cell_type": "code",
   "execution_count": 35,
   "metadata": {},
   "outputs": [
    {
     "data": {
      "text/html": [
       "<div>\n",
       "<style scoped>\n",
       "    .dataframe tbody tr th:only-of-type {\n",
       "        vertical-align: middle;\n",
       "    }\n",
       "\n",
       "    .dataframe tbody tr th {\n",
       "        vertical-align: top;\n",
       "    }\n",
       "\n",
       "    .dataframe thead th {\n",
       "        text-align: right;\n",
       "    }\n",
       "</style>\n",
       "<table border=\"1\" class=\"dataframe\">\n",
       "  <thead>\n",
       "    <tr style=\"text-align: right;\">\n",
       "      <th></th>\n",
       "      <th>Date</th>\n",
       "      <th>Tweets_clean_more</th>\n",
       "      <th>polarity</th>\n",
       "      <th>subjectivity</th>\n",
       "      <th>sentiment</th>\n",
       "      <th>Label_delayed_2Days</th>\n",
       "    </tr>\n",
       "    <tr>\n",
       "      <th>Year</th>\n",
       "      <th></th>\n",
       "      <th></th>\n",
       "      <th></th>\n",
       "      <th></th>\n",
       "      <th></th>\n",
       "      <th></th>\n",
       "    </tr>\n",
       "  </thead>\n",
       "  <tbody>\n",
       "    <tr>\n",
       "      <th>2011</th>\n",
       "      <td>2011-12-30</td>\n",
       "      <td>yeah realli mom attest not sure i handl char m...</td>\n",
       "      <td>0.6</td>\n",
       "      <td>0.708687</td>\n",
       "      <td>positive</td>\n",
       "      <td>No Change</td>\n",
       "    </tr>\n",
       "    <tr>\n",
       "      <th>2012</th>\n",
       "      <td>2012-12-26</td>\n",
       "      <td>ye unveil fulli function advanc prototyp model...</td>\n",
       "      <td>0.8</td>\n",
       "      <td>1.000000</td>\n",
       "      <td>positive</td>\n",
       "      <td>No Change</td>\n",
       "    </tr>\n",
       "    <tr>\n",
       "      <th>2013</th>\n",
       "      <td>2013-12-26</td>\n",
       "      <td>ye upper stage vent liquid oxygen creat fast m...</td>\n",
       "      <td>1.0</td>\n",
       "      <td>1.000000</td>\n",
       "      <td>positive</td>\n",
       "      <td>Increase</td>\n",
       "    </tr>\n",
       "    <tr>\n",
       "      <th>2014</th>\n",
       "      <td>2014-12-31</td>\n",
       "      <td>yeah that worth read what could possibl go wro...</td>\n",
       "      <td>0.9</td>\n",
       "      <td>1.000000</td>\n",
       "      <td>positive</td>\n",
       "      <td>Increase</td>\n",
       "    </tr>\n",
       "    <tr>\n",
       "      <th>2015</th>\n",
       "      <td>2015-12-22</td>\n",
       "      <td>yesterday mission space station light cloudi n...</td>\n",
       "      <td>1.0</td>\n",
       "      <td>1.000000</td>\n",
       "      <td>positive</td>\n",
       "      <td>No Change</td>\n",
       "    </tr>\n",
       "    <tr>\n",
       "      <th>2016</th>\n",
       "      <td>2016-12-30</td>\n",
       "      <td>yup ye ye pretti close area ratio vacuum mar a...</td>\n",
       "      <td>1.0</td>\n",
       "      <td>1.000000</td>\n",
       "      <td>positive</td>\n",
       "      <td>No Change</td>\n",
       "    </tr>\n",
       "    <tr>\n",
       "      <th>2017</th>\n",
       "      <td>2017-12-27</td>\n",
       "      <td>yeah sorri i miss thi would work kwh pack soft...</td>\n",
       "      <td>1.0</td>\n",
       "      <td>1.000000</td>\n",
       "      <td>positive</td>\n",
       "      <td>No Change</td>\n",
       "    </tr>\n",
       "    <tr>\n",
       "      <th>2018</th>\n",
       "      <td>2018-12-31</td>\n",
       "      <td>your cruel taunt cut deep deep but i love oh g...</td>\n",
       "      <td>0.8</td>\n",
       "      <td>0.900000</td>\n",
       "      <td>positive</td>\n",
       "      <td>No Change</td>\n",
       "    </tr>\n",
       "    <tr>\n",
       "      <th>2019</th>\n",
       "      <td>2019-12-31</td>\n",
       "      <td>you welcom glad help</td>\n",
       "      <td>0.9</td>\n",
       "      <td>1.000000</td>\n",
       "      <td>positive</td>\n",
       "      <td>No Change</td>\n",
       "    </tr>\n",
       "    <tr>\n",
       "      <th>2020</th>\n",
       "      <td>2020-12-31</td>\n",
       "      <td>æsthetic the degre solarglass posit effect est...</td>\n",
       "      <td>1.0</td>\n",
       "      <td>1.000000</td>\n",
       "      <td>positive</td>\n",
       "      <td>No Change</td>\n",
       "    </tr>\n",
       "    <tr>\n",
       "      <th>2021</th>\n",
       "      <td>2021-04-16</td>\n",
       "      <td>преступленіе и наказаніе the ahem reacharound ...</td>\n",
       "      <td>0.5</td>\n",
       "      <td>0.750000</td>\n",
       "      <td>positive</td>\n",
       "      <td>No Change</td>\n",
       "    </tr>\n",
       "  </tbody>\n",
       "</table>\n",
       "</div>"
      ],
      "text/plain": [
       "            Date                                  Tweets_clean_more  polarity  \\\n",
       "Year                                                                            \n",
       "2011  2011-12-30  yeah realli mom attest not sure i handl char m...       0.6   \n",
       "2012  2012-12-26  ye unveil fulli function advanc prototyp model...       0.8   \n",
       "2013  2013-12-26  ye upper stage vent liquid oxygen creat fast m...       1.0   \n",
       "2014  2014-12-31  yeah that worth read what could possibl go wro...       0.9   \n",
       "2015  2015-12-22  yesterday mission space station light cloudi n...       1.0   \n",
       "2016  2016-12-30  yup ye ye pretti close area ratio vacuum mar a...       1.0   \n",
       "2017  2017-12-27  yeah sorri i miss thi would work kwh pack soft...       1.0   \n",
       "2018  2018-12-31  your cruel taunt cut deep deep but i love oh g...       0.8   \n",
       "2019  2019-12-31                               you welcom glad help       0.9   \n",
       "2020  2020-12-31  æsthetic the degre solarglass posit effect est...       1.0   \n",
       "2021  2021-04-16  преступленіе и наказаніе the ahem reacharound ...       0.5   \n",
       "\n",
       "      subjectivity sentiment Label_delayed_2Days  \n",
       "Year                                              \n",
       "2011      0.708687  positive           No Change  \n",
       "2012      1.000000  positive           No Change  \n",
       "2013      1.000000  positive            Increase  \n",
       "2014      1.000000  positive            Increase  \n",
       "2015      1.000000  positive           No Change  \n",
       "2016      1.000000  positive           No Change  \n",
       "2017      1.000000  positive           No Change  \n",
       "2018      0.900000  positive           No Change  \n",
       "2019      1.000000  positive           No Change  \n",
       "2020      1.000000  positive           No Change  \n",
       "2021      0.750000  positive           No Change  "
      ]
     },
     "execution_count": 35,
     "metadata": {},
     "output_type": "execute_result"
    }
   ],
   "source": [
    "Twitter_stock2.groupby([\"Year\"]).max()"
   ]
  },
  {
   "cell_type": "markdown",
   "metadata": {},
   "source": [
    "### Get the training and testing dataset"
   ]
  },
  {
   "cell_type": "code",
   "execution_count": 53,
   "metadata": {},
   "outputs": [
    {
     "name": "stdout",
     "output_type": "stream",
     "text": [
      "X_train shape:  (1137,)\n",
      "X_val shape:  (285,)\n",
      "y_train shape:  (1137,)\n",
      "y_val shape:  (285,)\n"
     ]
    }
   ],
   "source": [
    "from sklearn.model_selection import train_test_split\n",
    "\n",
    "X_train, X_val, y_train, y_val = train_test_split(df[\"Tweets_clean_more\"], df[\"Label_delayed_2Days\"], test_size=0.2)\n",
    "\n",
    "print('X_train shape: ', X_train.shape)\n",
    "print('X_val shape: ', X_val.shape)\n",
    "print('y_train shape: ', y_train.shape)\n",
    "print('y_val shape: ', y_val.shape)"
   ]
  },
  {
   "cell_type": "markdown",
   "metadata": {},
   "source": [
    "  ### the proportion of trainin and validation dataset"
   ]
  },
  {
   "cell_type": "code",
   "execution_count": 54,
   "metadata": {},
   "outputs": [
    {
     "name": "stdout",
     "output_type": "stream",
     "text": [
      "Train Class Proportion:\n",
      " Increase     49.516271\n",
      "Decrease     47.757256\n",
      "No Change     2.550572\n",
      "Name: Label_delayed_2Days, dtype: float64\n",
      "\n",
      "Validation Class Proportion:\n",
      " Decrease     52.280702\n",
      "Increase     43.508772\n",
      "No Change     4.210526\n",
      "Name: Label_delayed_2Days, dtype: float64\n"
     ]
    }
   ],
   "source": [
    "print('Train Class Proportion:\\n', y_train.value_counts() / len(y_train) * 100)\n",
    "print('\\nValidation Class Proportion:\\n', y_val.value_counts() / len(y_val) * 100)"
   ]
  },
  {
   "cell_type": "markdown",
   "metadata": {},
   "source": [
    "### Tokenize the tweets\n",
    "* Get the xtrain and xtest "
   ]
  },
  {
   "cell_type": "code",
   "execution_count": 39,
   "metadata": {},
   "outputs": [],
   "source": [
    "\n",
    "\n",
    "tokenizer = Tokenizer(num_words=5000)\n",
    "tokenizer.fit_on_texts(df[\"Tweets_clean_more\"])\n",
    "xtrain= tokenizer.texts_to_sequences(X_train)\n",
    "xtest= tokenizer.texts_to_sequences(X_val) \n",
    "\n",
    "\n"
   ]
  },
  {
   "cell_type": "markdown",
   "metadata": {},
   "source": [
    "* Set the maxlen=50. In order to keep the vector same length.\n",
    "* Then pad xtrain and xtest to X_train_text and X_val_text.\n",
    "* Check the shape of X_train_text,X_val_text."
   ]
  },
  {
   "cell_type": "code",
   "execution_count": 40,
   "metadata": {},
   "outputs": [
    {
     "name": "stdout",
     "output_type": "stream",
     "text": [
      "X_train shape: (1137, 50)\n",
      "X_train shape: (285, 50)\n"
     ]
    }
   ],
   "source": [
    "vocab_size=len(tokenizer.word_index)+1\n",
    "\n",
    "\n",
    " \n",
    "maxlen = 50\n",
    "\n",
    "X_train_text = pad_sequences(xtrain, padding='post', maxlen=maxlen)\n",
    "X_val_text = pad_sequences(xtest, padding='post', maxlen=maxlen)\n",
    "\n",
    "print('X_train shape:', X_train_text.shape)\n",
    "print('X_train shape:', X_val_text.shape)\n",
    "\n"
   ]
  },
  {
   "cell_type": "markdown",
   "metadata": {},
   "source": [
    "* Training our LSTM model"
   ]
  },
  {
   "cell_type": "code",
   "execution_count": 41,
   "metadata": {},
   "outputs": [
    {
     "name": "stdout",
     "output_type": "stream",
     "text": [
      "Model: \"sequential_2\"\n",
      "_________________________________________________________________\n",
      " Layer (type)                Output Shape              Param #   \n",
      "=================================================================\n",
      " embedding_2 (Embedding)     (None, 50, 50)            368000    \n",
      "                                                                 \n",
      " lstm_4 (LSTM)               (None, 50, 50)            20200     \n",
      "                                                                 \n",
      " lstm_5 (LSTM)               (None, 10)                2440      \n",
      "                                                                 \n",
      " dropout_2 (Dropout)         (None, 10)                0         \n",
      "                                                                 \n",
      " dense_4 (Dense)             (None, 6)                 66        \n",
      "                                                                 \n",
      " dense_5 (Dense)             (None, 1)                 7         \n",
      "                                                                 \n",
      "=================================================================\n",
      "Total params: 390,713\n",
      "Trainable params: 390,713\n",
      "Non-trainable params: 0\n",
      "_________________________________________________________________\n"
     ]
    },
    {
     "data": {
      "text/plain": [
       "<keras.callbacks.History at 0x7f987fbd9070>"
      ]
     },
     "execution_count": 41,
     "metadata": {},
     "output_type": "execute_result"
    }
   ],
   "source": [
    "embedding_dim=50\n",
    "model=Sequential()\n",
    "model.add(layers.Embedding(input_dim=vocab_size,\n",
    "         output_dim=embedding_dim,\n",
    "         input_length=maxlen))\n",
    "model.add(layers.LSTM(units=50,return_sequences=True))\n",
    "model.add(layers.LSTM(units=10))\n",
    "model.add(layers.Dropout(0.5))\n",
    "model.add(layers.Dense(6))\n",
    "model.add(layers.Dense(1, activation=\"sigmoid\"))\n",
    "model.compile(optimizer=\"adam\", loss=\"binary_crossentropy\", \n",
    "     metrics=['accuracy'])\n",
    "model.summary()\n",
    "model.fit(X_train_text,y_train, epochs=20, batch_size=16, verbose=False)\n",
    "\n"
   ]
  },
  {
   "cell_type": "code",
   "execution_count": 109,
   "metadata": {},
   "outputs": [
    {
     "name": "stdout",
     "output_type": "stream",
     "text": [
      "Found 7359 unique tokens.\n"
     ]
    }
   ],
   "source": [
    "# The maximum number of words to be used. (most frequent)\n",
    "MAX_NB_WORDS = 50000\n",
    "# Max number of words in each complaint.\n",
    "MAX_SEQUENCE_LENGTH = 250\n",
    "# This is fixed.\n",
    "EMBEDDING_DIM = 100\n",
    "tokenizer = Tokenizer(num_words=MAX_NB_WORDS, filters='!\"#$%&()*+,-./:;<=>?@[\\]^_`{|}~', lower=True)\n",
    "tokenizer.fit_on_texts(df[\"Tweets_clean_more\"])\n",
    "word_index = tokenizer.word_index\n",
    "print('Found %s unique tokens.' % len(word_index))\n"
   ]
  },
  {
   "cell_type": "markdown",
   "metadata": {},
   "source": [
    "* Truncate and pad the input sequences so that they are all in the same length for modeling."
   ]
  },
  {
   "cell_type": "code",
   "execution_count": 110,
   "metadata": {},
   "outputs": [
    {
     "name": "stdout",
     "output_type": "stream",
     "text": [
      "Shape of data tensor: (1422, 250)\n"
     ]
    }
   ],
   "source": [
    "X = tokenizer.texts_to_sequences(df[\"Tweets_clean_more\"])\n",
    "X = pad_sequences(X, maxlen=MAX_SEQUENCE_LENGTH)\n",
    "print('Shape of data tensor:', X.shape)"
   ]
  },
  {
   "cell_type": "markdown",
   "metadata": {},
   "source": [
    "* Converting categorical labels to numbers."
   ]
  },
  {
   "cell_type": "code",
   "execution_count": 111,
   "metadata": {},
   "outputs": [
    {
     "name": "stdout",
     "output_type": "stream",
     "text": [
      "Shape of label tensor: (1422, 3)\n"
     ]
    }
   ],
   "source": [
    "Y = pd.get_dummies(df[\"Label_delayed_2Days\"]).values\n",
    "print('Shape of label tensor:', Y.shape)"
   ]
  },
  {
   "cell_type": "markdown",
   "metadata": {},
   "source": [
    "* Train test split."
   ]
  },
  {
   "cell_type": "code",
   "execution_count": 112,
   "metadata": {},
   "outputs": [
    {
     "name": "stdout",
     "output_type": "stream",
     "text": [
      "(1066, 250) (1066, 3)\n",
      "(356, 250) (356, 3)\n"
     ]
    }
   ],
   "source": [
    "X_train, X_test, Y_train, Y_test = train_test_split(X,Y, test_size = 0.25, random_state = 42)\n",
    "print(X_train.shape,Y_train.shape)\n",
    "print(X_test.shape,Y_test.shape)"
   ]
  },
  {
   "cell_type": "code",
   "execution_count": 113,
   "metadata": {},
   "outputs": [
    {
     "name": "stdout",
     "output_type": "stream",
     "text": [
      "Epoch 1/6\n",
      "22/22 [==============================] - 8s 209ms/step - loss: 0.9811 - accuracy: 0.4818 - val_loss: 0.8793 - val_accuracy: 0.4486\n",
      "Epoch 2/6\n",
      "22/22 [==============================] - 4s 185ms/step - loss: 0.7979 - accuracy: 0.5016 - val_loss: 0.8553 - val_accuracy: 0.5047\n",
      "Epoch 3/6\n",
      "22/22 [==============================] - 4s 185ms/step - loss: 0.7721 - accuracy: 0.6392 - val_loss: 0.8599 - val_accuracy: 0.4766\n",
      "Epoch 4/6\n",
      "22/22 [==============================] - 4s 185ms/step - loss: 0.7046 - accuracy: 0.8050 - val_loss: 0.9114 - val_accuracy: 0.4393\n",
      "Epoch 5/6\n",
      "22/22 [==============================] - 4s 194ms/step - loss: 0.5099 - accuracy: 0.8634 - val_loss: 1.1395 - val_accuracy: 0.4299\n"
     ]
    }
   ],
   "source": [
    "model = Sequential()\n",
    "model.add(Embedding(MAX_NB_WORDS, EMBEDDING_DIM, input_length=X.shape[1]))\n",
    "model.add(SpatialDropout1D(0.1))\n",
    "model.add(LSTM(50, dropout=0.1, recurrent_dropout=0.1))\n",
    "model.add(Dense(3, activation='softmax'))\n",
    "model.compile(loss='categorical_crossentropy', optimizer='adam', metrics=['accuracy'])\n",
    "\n",
    "epochs = 6\n",
    "batch_size = 45\n",
    "\n",
    "history = model.fit(X_train, Y_train, epochs=epochs, batch_size=batch_size,validation_split=0.1,callbacks=[EarlyStopping(monitor='val_loss', patience=3, min_delta=0.0001)])\n"
   ]
  },
  {
   "cell_type": "code",
   "execution_count": 114,
   "metadata": {},
   "outputs": [
    {
     "name": "stdout",
     "output_type": "stream",
     "text": [
      "12/12 [==============================] - 0s 27ms/step - loss: 0.9896 - accuracy: 0.5056\n"
     ]
    },
    {
     "data": {
      "text/plain": [
       "[0.9895976185798645, 0.5056179761886597]"
      ]
     },
     "execution_count": 114,
     "metadata": {},
     "output_type": "execute_result"
    }
   ],
   "source": [
    "accr = model.evaluate(X_test,Y_test)\n",
    "accr"
   ]
  },
  {
   "cell_type": "code",
   "execution_count": 115,
   "metadata": {},
   "outputs": [
    {
     "data": {
      "image/png": "[encoded data removed]",
      "text/plain": [
       "<Figure size 432x288 with 1 Axes>"
      ]
     },
     "metadata": {
      "needs_background": "light"
     },
     "output_type": "display_data"
    }
   ],
   "source": [
    "plt.title('Loss')\n",
    "plt.plot(history.history['loss'], label='train')\n",
    "plt.plot(history.history['val_loss'], label='test')\n",
    "plt.legend()\n",
    "plt.show();"
   ]
  },
  {
   "cell_type": "code",
   "execution_count": 116,
   "metadata": {},
   "outputs": [
    {
     "data": {
      "image/png": "[encoded data removed]",
      "text/plain": [
       "<Figure size 432x288 with 1 Axes>"
      ]
     },
     "metadata": {
      "needs_background": "light"
     },
     "output_type": "display_data"
    }
   ],
   "source": [
    "plt.title('Accuracy')\n",
    "plt.plot(history.history['accuracy'], label='train')\n",
    "plt.plot(history.history['val_accuracy'], label='test')\n",
    "plt.legend()\n",
    "plt.show();"
   ]
  },
  {
   "cell_type": "markdown",
   "metadata": {},
   "source": [
    "Results:\n",
    "The LSTM model show us that the predict result. \n",
    "\n"
   ]
  }
 ],
 "metadata": {
  "kernelspec": {
   "display_name": "Python 3.9.12 ('base')",
   "language": "python",
   "name": "python3"
  },
  "language_info": {
   "codemirror_mode": {
    "name": "ipython",
    "version": 3
   },
   "file_extension": ".py",
   "mimetype": "text/x-python",
   "name": "python",
   "nbconvert_exporter": "python",
   "pygments_lexer": "ipython3",
   "version": "3.9.12"
  },
  "orig_nbformat": 4,
  "vscode": {
   "interpreter": {
    "hash": "40d3a090f54c6569ab1632332b64b2c03c39dcf918b08424e98f38b5ae0af88f"
   }
  }
 },
 "nbformat": 4,
 "nbformat_minor": 2
}
