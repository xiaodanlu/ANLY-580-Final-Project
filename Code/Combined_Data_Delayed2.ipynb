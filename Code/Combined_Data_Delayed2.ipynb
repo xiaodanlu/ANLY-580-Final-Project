{
 "cells": [
  {
   "cell_type": "code",
   "execution_count": 1,
   "metadata": {},
   "outputs": [
    {
     "data": {
      "text/html": [
       "<div>\n",
       "<style scoped>\n",
       "    .dataframe tbody tr th:only-of-type {\n",
       "        vertical-align: middle;\n",
       "    }\n",
       "\n",
       "    .dataframe tbody tr th {\n",
       "        vertical-align: top;\n",
       "    }\n",
       "\n",
       "    .dataframe thead th {\n",
       "        text-align: right;\n",
       "    }\n",
       "</style>\n",
       "<table border=\"1\" class=\"dataframe\">\n",
       "  <thead>\n",
       "    <tr style=\"text-align: right;\">\n",
       "      <th></th>\n",
       "      <th>Date</th>\n",
       "      <th>Tweets_clean_more</th>\n",
       "      <th>polarity</th>\n",
       "      <th>subjectivity</th>\n",
       "      <th>sentiment</th>\n",
       "      <th>Label</th>\n",
       "    </tr>\n",
       "  </thead>\n",
       "  <tbody>\n",
       "    <tr>\n",
       "      <th>0</th>\n",
       "      <td>2013-01-10</td>\n",
       "      <td>to super clear i dont wish could i mandat anyt...</td>\n",
       "      <td>0.216667</td>\n",
       "      <td>0.525000</td>\n",
       "      <td>positive</td>\n",
       "      <td>Decrease</td>\n",
       "    </tr>\n",
       "    <tr>\n",
       "      <th>1</th>\n",
       "      <td>2019-01-10</td>\n",
       "      <td>ye get regulatori pushback may avail region go...</td>\n",
       "      <td>0.123333</td>\n",
       "      <td>0.490556</td>\n",
       "      <td>positive</td>\n",
       "      <td>Increase</td>\n",
       "    </tr>\n",
       "    <tr>\n",
       "      <th>2</th>\n",
       "      <td>2020-01-10</td>\n",
       "      <td>dome barrel weld made bar pretti good bar need...</td>\n",
       "      <td>0.411111</td>\n",
       "      <td>0.570988</td>\n",
       "      <td>positive</td>\n",
       "      <td>Decrease</td>\n",
       "    </tr>\n",
       "    <tr>\n",
       "      <th>3</th>\n",
       "      <td>2012-01-11</td>\n",
       "      <td>the exec conf room tesla use call denali i dec...</td>\n",
       "      <td>0.600000</td>\n",
       "      <td>1.000000</td>\n",
       "      <td>positive</td>\n",
       "      <td>Increase</td>\n",
       "    </tr>\n",
       "    <tr>\n",
       "      <th>4</th>\n",
       "      <td>2016-01-11</td>\n",
       "      <td>sad hear david bowi die he amaz</td>\n",
       "      <td>-0.500000</td>\n",
       "      <td>1.000000</td>\n",
       "      <td>negative</td>\n",
       "      <td>Decrease</td>\n",
       "    </tr>\n",
       "  </tbody>\n",
       "</table>\n",
       "</div>"
      ],
      "text/plain": [
       "         Date                                  Tweets_clean_more  polarity  \\\n",
       "0  2013-01-10  to super clear i dont wish could i mandat anyt...  0.216667   \n",
       "1  2019-01-10  ye get regulatori pushback may avail region go...  0.123333   \n",
       "2  2020-01-10  dome barrel weld made bar pretti good bar need...  0.411111   \n",
       "3  2012-01-11  the exec conf room tesla use call denali i dec...  0.600000   \n",
       "4  2016-01-11                    sad hear david bowi die he amaz -0.500000   \n",
       "\n",
       "   subjectivity sentiment     Label  \n",
       "0      0.525000  positive  Decrease  \n",
       "1      0.490556  positive  Increase  \n",
       "2      0.570988  positive  Decrease  \n",
       "3      1.000000  positive  Increase  \n",
       "4      1.000000  negative  Decrease  "
      ]
     },
     "execution_count": 1,
     "metadata": {},
     "output_type": "execute_result"
    }
   ],
   "source": [
    "import pandas as pd\n",
    "\n",
    "# Read in the data\n",
    "data = pd.read_csv(\"../Data/Combined.csv\")\n",
    "data.head()"
   ]
  },
  {
   "cell_type": "code",
   "execution_count": 2,
   "metadata": {},
   "outputs": [],
   "source": [
    "# Grab the columns we want\n",
    "label = data[\"Label\"]\n",
    "data = data.drop([\"Label\"], axis=1)"
   ]
  },
  {
   "cell_type": "code",
   "execution_count": 3,
   "metadata": {},
   "outputs": [],
   "source": [
    "Label_delayed_2Days = label[2:].copy()\n",
    "Label_delayed_2Days.index = range(len(Label_delayed_2Days))\n",
    "data.drop(data.tail(2).index,inplace=True)"
   ]
  },
  {
   "cell_type": "code",
   "execution_count": 4,
   "metadata": {},
   "outputs": [
    {
     "data": {
      "text/html": [
       "<div>\n",
       "<style scoped>\n",
       "    .dataframe tbody tr th:only-of-type {\n",
       "        vertical-align: middle;\n",
       "    }\n",
       "\n",
       "    .dataframe tbody tr th {\n",
       "        vertical-align: top;\n",
       "    }\n",
       "\n",
       "    .dataframe thead th {\n",
       "        text-align: right;\n",
       "    }\n",
       "</style>\n",
       "<table border=\"1\" class=\"dataframe\">\n",
       "  <thead>\n",
       "    <tr style=\"text-align: right;\">\n",
       "      <th></th>\n",
       "      <th>Date</th>\n",
       "      <th>Tweets_clean_more</th>\n",
       "      <th>polarity</th>\n",
       "      <th>subjectivity</th>\n",
       "      <th>sentiment</th>\n",
       "      <th>Label_delayed_2Days</th>\n",
       "    </tr>\n",
       "  </thead>\n",
       "  <tbody>\n",
       "    <tr>\n",
       "      <th>0</th>\n",
       "      <td>2013-01-10</td>\n",
       "      <td>to super clear i dont wish could i mandat anyt...</td>\n",
       "      <td>0.216667</td>\n",
       "      <td>0.525000</td>\n",
       "      <td>positive</td>\n",
       "      <td>Decrease</td>\n",
       "    </tr>\n",
       "    <tr>\n",
       "      <th>1</th>\n",
       "      <td>2019-01-10</td>\n",
       "      <td>ye get regulatori pushback may avail region go...</td>\n",
       "      <td>0.123333</td>\n",
       "      <td>0.490556</td>\n",
       "      <td>positive</td>\n",
       "      <td>Increase</td>\n",
       "    </tr>\n",
       "    <tr>\n",
       "      <th>2</th>\n",
       "      <td>2020-01-10</td>\n",
       "      <td>dome barrel weld made bar pretti good bar need...</td>\n",
       "      <td>0.411111</td>\n",
       "      <td>0.570988</td>\n",
       "      <td>positive</td>\n",
       "      <td>Decrease</td>\n",
       "    </tr>\n",
       "    <tr>\n",
       "      <th>3</th>\n",
       "      <td>2012-01-11</td>\n",
       "      <td>the exec conf room tesla use call denali i dec...</td>\n",
       "      <td>0.600000</td>\n",
       "      <td>1.000000</td>\n",
       "      <td>positive</td>\n",
       "      <td>Decrease</td>\n",
       "    </tr>\n",
       "    <tr>\n",
       "      <th>4</th>\n",
       "      <td>2016-01-11</td>\n",
       "      <td>sad hear david bowi die he amaz</td>\n",
       "      <td>-0.500000</td>\n",
       "      <td>1.000000</td>\n",
       "      <td>negative</td>\n",
       "      <td>Increase</td>\n",
       "    </tr>\n",
       "  </tbody>\n",
       "</table>\n",
       "</div>"
      ],
      "text/plain": [
       "         Date                                  Tweets_clean_more  polarity  \\\n",
       "0  2013-01-10  to super clear i dont wish could i mandat anyt...  0.216667   \n",
       "1  2019-01-10  ye get regulatori pushback may avail region go...  0.123333   \n",
       "2  2020-01-10  dome barrel weld made bar pretti good bar need...  0.411111   \n",
       "3  2012-01-11  the exec conf room tesla use call denali i dec...  0.600000   \n",
       "4  2016-01-11                    sad hear david bowi die he amaz -0.500000   \n",
       "\n",
       "   subjectivity sentiment Label_delayed_2Days  \n",
       "0      0.525000  positive            Decrease  \n",
       "1      0.490556  positive            Increase  \n",
       "2      0.570988  positive            Decrease  \n",
       "3      1.000000  positive            Decrease  \n",
       "4      1.000000  negative            Increase  "
      ]
     },
     "execution_count": 4,
     "metadata": {},
     "output_type": "execute_result"
    }
   ],
   "source": [
    "# Combine the data and the label\n",
    "data[\"Label_delayed_2Days\"] = Label_delayed_2Days\n",
    "data.head()"
   ]
  },
  {
   "cell_type": "code",
   "execution_count": 7,
   "metadata": {},
   "outputs": [
    {
     "data": {
      "text/plain": [
       "Decrease     692\n",
       "Increase     687\n",
       "No Change     41\n",
       "Name: Label_delayed_2Days, dtype: int64"
      ]
     },
     "execution_count": 7,
     "metadata": {},
     "output_type": "execute_result"
    }
   ],
   "source": [
    "data[\"Label_delayed_2Days\"].value_counts()"
   ]
  },
  {
   "cell_type": "code",
   "execution_count": 5,
   "metadata": {},
   "outputs": [],
   "source": [
    "# Save the data\n",
    "data.to_csv(\"../Data/Combined_Delayed_2Days.csv\", index=False)"
   ]
  }
 ],
 "metadata": {
  "kernelspec": {
   "display_name": "Python 3.10.4 ('anly-580')",
   "language": "python",
   "name": "python3"
  },
  "language_info": {
   "codemirror_mode": {
    "name": "ipython",
    "version": 3
   },
   "file_extension": ".py",
   "mimetype": "text/x-python",
   "name": "python",
   "nbconvert_exporter": "python",
   "pygments_lexer": "ipython3",
   "version": "3.10.4"
  },
  "orig_nbformat": 4,
  "vscode": {
   "interpreter": {
    "hash": "632cdf940b59264b613ce36e6ff44b18344167f8957438a92a721914f37336e1"
   }
  }
 },
 "nbformat": 4,
 "nbformat_minor": 2
}
