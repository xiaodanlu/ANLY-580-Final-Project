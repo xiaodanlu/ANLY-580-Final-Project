{
 "cells": [
  {
   "cell_type": "markdown",
   "metadata": {},
   "source": [
    "### Import necessary packages"
   ]
  },
  {
   "cell_type": "code",
   "execution_count": 62,
   "metadata": {},
   "outputs": [],
   "source": [
    "from sklearn.ensemble import RandomForestClassifier, VotingClassifier\n",
    "from sklearn.linear_model import LogisticRegression\n",
    "from sklearn.svm import SVC\n",
    "from sklearn.metrics import accuracy_score\n",
    "import pandas as pd\n",
    "from keras.models import Sequential\n",
    "from keras import layers\n",
    "from sklearn.model_selection import train_test_split\n",
    "from sklearn.metrics import confusion_matrix\n",
    "from sklearn.svm import LinearSVC\n",
    "\n",
    "\n",
    "\n",
    "\n"
   ]
  },
  {
   "cell_type": "markdown",
   "metadata": {},
   "source": [
    "### Load the Twitter_stock_delay2.csv dataset"
   ]
  },
  {
   "cell_type": "code",
   "execution_count": 23,
   "metadata": {},
   "outputs": [],
   "source": [
    "twitter_stock_2=pd.read_csv(\"../Data/Twitter_stock_delay2.csv\")\n"
   ]
  },
  {
   "cell_type": "code",
   "execution_count": 24,
   "metadata": {},
   "outputs": [
    {
     "data": {
      "text/html": [
       "<div>\n",
       "<style scoped>\n",
       "    .dataframe tbody tr th:only-of-type {\n",
       "        vertical-align: middle;\n",
       "    }\n",
       "\n",
       "    .dataframe tbody tr th {\n",
       "        vertical-align: top;\n",
       "    }\n",
       "\n",
       "    .dataframe thead th {\n",
       "        text-align: right;\n",
       "    }\n",
       "</style>\n",
       "<table border=\"1\" class=\"dataframe\">\n",
       "  <thead>\n",
       "    <tr style=\"text-align: right;\">\n",
       "      <th></th>\n",
       "      <th>Tweets_clean_more</th>\n",
       "      <th>Label_delayed_2Days</th>\n",
       "    </tr>\n",
       "  </thead>\n",
       "  <tbody>\n",
       "    <tr>\n",
       "      <th>0</th>\n",
       "      <td>to super clear i dont wish could i mandat anyt...</td>\n",
       "      <td>Decrease</td>\n",
       "    </tr>\n",
       "    <tr>\n",
       "      <th>1</th>\n",
       "      <td>ye get regulatori pushback may avail region go...</td>\n",
       "      <td>Increase</td>\n",
       "    </tr>\n",
       "    <tr>\n",
       "      <th>2</th>\n",
       "      <td>dome barrel weld made bar pretti good bar need...</td>\n",
       "      <td>Decrease</td>\n",
       "    </tr>\n",
       "    <tr>\n",
       "      <th>3</th>\n",
       "      <td>the exec conf room tesla use call denali i dec...</td>\n",
       "      <td>Decrease</td>\n",
       "    </tr>\n",
       "    <tr>\n",
       "      <th>4</th>\n",
       "      <td>sad hear david bowi die he amaz</td>\n",
       "      <td>Increase</td>\n",
       "    </tr>\n",
       "    <tr>\n",
       "      <th>...</th>\n",
       "      <td>...</td>\n",
       "      <td>...</td>\n",
       "    </tr>\n",
       "    <tr>\n",
       "      <th>1415</th>\n",
       "      <td>type peopl world understand binari amp  will s...</td>\n",
       "      <td>Decrease</td>\n",
       "    </tr>\n",
       "    <tr>\n",
       "      <th>1416</th>\n",
       "      <td>excel explan diff betw get orbit v space sugge...</td>\n",
       "      <td>Decrease</td>\n",
       "    </tr>\n",
       "    <tr>\n",
       "      <th>1417</th>\n",
       "      <td>a la guerr comm à la guerr haha and start twee...</td>\n",
       "      <td>Decrease</td>\n",
       "    </tr>\n",
       "    <tr>\n",
       "      <th>1418</th>\n",
       "      <td>meet build call  just crazi japanes game show ...</td>\n",
       "      <td>Increase</td>\n",
       "    </tr>\n",
       "    <tr>\n",
       "      <th>1419</th>\n",
       "      <td>thought ope space new much appreci most like t...</td>\n",
       "      <td>Decrease</td>\n",
       "    </tr>\n",
       "  </tbody>\n",
       "</table>\n",
       "<p>1420 rows × 2 columns</p>\n",
       "</div>"
      ],
      "text/plain": [
       "                                      Tweets_clean_more Label_delayed_2Days\n",
       "0     to super clear i dont wish could i mandat anyt...            Decrease\n",
       "1     ye get regulatori pushback may avail region go...            Increase\n",
       "2     dome barrel weld made bar pretti good bar need...            Decrease\n",
       "3     the exec conf room tesla use call denali i dec...            Decrease\n",
       "4                       sad hear david bowi die he amaz            Increase\n",
       "...                                                 ...                 ...\n",
       "1415  type peopl world understand binari amp  will s...            Decrease\n",
       "1416  excel explan diff betw get orbit v space sugge...            Decrease\n",
       "1417  a la guerr comm à la guerr haha and start twee...            Decrease\n",
       "1418  meet build call  just crazi japanes game show ...            Increase\n",
       "1419  thought ope space new much appreci most like t...            Decrease\n",
       "\n",
       "[1420 rows x 2 columns]"
      ]
     },
     "execution_count": 24,
     "metadata": {},
     "output_type": "execute_result"
    }
   ],
   "source": [
    "df=pd.DataFrame([twitter_stock_2[\"Tweets_clean_more\"],twitter_stock_2[\"Label_delayed_2Days\"]]).T\n",
    "df\n"
   ]
  },
  {
   "cell_type": "markdown",
   "metadata": {},
   "source": [
    "### Get our train and val dataset"
   ]
  },
  {
   "cell_type": "code",
   "execution_count": 84,
   "metadata": {},
   "outputs": [
    {
     "name": "stdout",
     "output_type": "stream",
     "text": [
      "X_train shape:  (1136,)\n",
      "X_val shape:  (284,)\n",
      "y_train shape:  (1136,)\n",
      "y_val shape:  (284,)\n"
     ]
    }
   ],
   "source": [
    "from sklearn.model_selection import train_test_split\n",
    "\n",
    "X_train, X_val, y_train, y_val = train_test_split(df[\"Tweets_clean_more\"], df[\"Label_delayed_2Days\"], test_size=0.2,random_state=0)\n",
    "\n",
    "print('X_train shape: ', X_train.shape)\n",
    "print('X_val shape: ', X_val.shape)\n",
    "print('y_train shape: ', y_train.shape)\n",
    "print('y_val shape: ', y_val.shape)"
   ]
  },
  {
   "cell_type": "code",
   "execution_count": 85,
   "metadata": {},
   "outputs": [
    {
     "data": {
      "text/plain": [
       "863      Increase\n",
       "654      Increase\n",
       "299     No Change\n",
       "539      Increase\n",
       "981      Increase\n",
       "          ...    \n",
       "763      Decrease\n",
       "835      Decrease\n",
       "1216     Decrease\n",
       "559      Increase\n",
       "684      Decrease\n",
       "Name: Label_delayed_2Days, Length: 1136, dtype: object"
      ]
     },
     "execution_count": 85,
     "metadata": {},
     "output_type": "execute_result"
    }
   ],
   "source": [
    "y_train"
   ]
  },
  {
   "cell_type": "markdown",
   "metadata": {},
   "source": [
    "### Check the structure of our dataset"
   ]
  },
  {
   "cell_type": "code",
   "execution_count": 86,
   "metadata": {},
   "outputs": [
    {
     "name": "stdout",
     "output_type": "stream",
     "text": [
      "Train Class Proportion:\n",
      " Decrease     48.679577\n",
      "Increase     48.151408\n",
      "No Change     3.169014\n",
      "Name: Label_delayed_2Days, dtype: float64\n",
      "\n",
      "Validation Class Proportion:\n",
      " Increase     49.295775\n",
      "Decrease     48.943662\n",
      "No Change     1.760563\n",
      "Name: Label_delayed_2Days, dtype: float64\n"
     ]
    }
   ],
   "source": [
    "print('Train Class Proportion:\\n', y_train.value_counts() / len(y_train) * 100)\n",
    "print('\\nValidation Class Proportion:\\n', y_val.value_counts() / len(y_val) * 100)"
   ]
  },
  {
   "cell_type": "markdown",
   "metadata": {},
   "source": [
    "### Countvectorize our dataset"
   ]
  },
  {
   "cell_type": "code",
   "execution_count": 89,
   "metadata": {},
   "outputs": [],
   "source": [
    "\n",
    "# COUNTVECTORIZER\n",
    "from sklearn.feature_extraction.text import CountVectorizer\n",
    "vect = CountVectorizer()\n",
    "x_train = vect.fit_transform(X_train)\n",
    "x_test = vect.transform(X_val)"
   ]
  },
  {
   "cell_type": "markdown",
   "metadata": {},
   "source": [
    "### Get our basic model and voting ensemble model"
   ]
  },
  {
   "cell_type": "code",
   "execution_count": 94,
   "metadata": {},
   "outputs": [
    {
     "name": "stdout",
     "output_type": "stream",
     "text": [
      "SVC(C=10, probability=True) 0.5774647887323944\n",
      "RandomForestClassifier(random_state=0) 0.5070422535211268\n",
      "KNeighborsClassifier(n_neighbors=7) 0.5211267605633803\n",
      "VotingClassifier(estimators=[('svc', SVC(C=10, probability=True)),\n",
      "                             ('rf', RandomForestClassifier(random_state=0)),\n",
      "                             ('svc1', KNeighborsClassifier(n_neighbors=7))]) 0.5633802816901409\n"
     ]
    }
   ],
   "source": [
    "\n",
    "from sklearn.neighbors import KNeighborsClassifier\n",
    "KNN_clf = KNeighborsClassifier(n_neighbors=7,p=2)\n",
    "rf_clf = RandomForestClassifier(n_estimators = 100,random_state=000)\n",
    "svm_clf =  SVC(C=10,kernel='rbf',probability=True)\n",
    "\n",
    "voting_clf = VotingClassifier(estimators=[ ('svc', svm_clf),\n",
    "                                           ('rf', rf_clf), \n",
    "                                           ('svc1', KNN_clf)],voting='hard')\n",
    "\n",
    "for clf in ( svm_clf,rf_clf, KNN_clf, voting_clf):\n",
    "    clf.fit(x_train, y_train)\n",
    "    y_pred = clf.predict(x_test)\n",
    "    print( clf,accuracy_score(y_val, y_pred))"
   ]
  },
  {
   "cell_type": "markdown",
   "metadata": {},
   "source": [
    "Accuracy of the hard voting ensemble model shown above."
   ]
  }
 ],
 "metadata": {
  "kernelspec": {
   "display_name": "Python 3.9.12 ('base')",
   "language": "python",
   "name": "python3"
  },
  "language_info": {
   "codemirror_mode": {
    "name": "ipython",
    "version": 3
   },
   "file_extension": ".py",
   "mimetype": "text/x-python",
   "name": "python",
   "nbconvert_exporter": "python",
   "pygments_lexer": "ipython3",
   "version": "3.9.12"
  },
  "orig_nbformat": 4,
  "vscode": {
   "interpreter": {
    "hash": "40d3a090f54c6569ab1632332b64b2c03c39dcf918b08424e98f38b5ae0af88f"
   }
  }
 },
 "nbformat": 4,
 "nbformat_minor": 2
}
