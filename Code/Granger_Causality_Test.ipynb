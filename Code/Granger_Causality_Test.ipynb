{
 "cells": [
  {
   "attachments": {},
   "cell_type": "markdown",
   "metadata": {},
   "source": [
    "## Granger Casuality Test\n",
    "Used to test whether one time series is useful to predict another time series. \n",
    "  \n",
    "\n",
    "In this part, granger test is used to test if tweet sentiments can be used for predict stock price movement. \n",
    "\n"
   ]
  },
  {
   "cell_type": "code",
   "execution_count": 2,
   "metadata": {},
   "outputs": [],
   "source": [
    "#!pip install statsmodels"
   ]
  },
  {
   "cell_type": "code",
   "execution_count": 3,
   "metadata": {},
   "outputs": [],
   "source": [
    "from statsmodels.tsa.stattools import grangercausalitytests\n",
    "import pandas as pd"
   ]
  },
  {
   "cell_type": "code",
   "execution_count": 28,
   "metadata": {},
   "outputs": [
    {
     "data": {
      "text/html": [
       "<div>\n",
       "<style scoped>\n",
       "    .dataframe tbody tr th:only-of-type {\n",
       "        vertical-align: middle;\n",
       "    }\n",
       "\n",
       "    .dataframe tbody tr th {\n",
       "        vertical-align: top;\n",
       "    }\n",
       "\n",
       "    .dataframe thead th {\n",
       "        text-align: right;\n",
       "    }\n",
       "</style>\n",
       "<table border=\"1\" class=\"dataframe\">\n",
       "  <thead>\n",
       "    <tr style=\"text-align: right;\">\n",
       "      <th></th>\n",
       "      <th>Date</th>\n",
       "      <th>Tweets_clean_more</th>\n",
       "      <th>polarity</th>\n",
       "      <th>subjectivity</th>\n",
       "      <th>sentiment</th>\n",
       "      <th>Label</th>\n",
       "    </tr>\n",
       "  </thead>\n",
       "  <tbody>\n",
       "    <tr>\n",
       "      <th>0</th>\n",
       "      <td>2013-01-10</td>\n",
       "      <td>to super clear i dont wish could i mandat anyt...</td>\n",
       "      <td>0.216667</td>\n",
       "      <td>0.525000</td>\n",
       "      <td>positive</td>\n",
       "      <td>Decrease</td>\n",
       "    </tr>\n",
       "    <tr>\n",
       "      <th>1</th>\n",
       "      <td>2019-01-10</td>\n",
       "      <td>ye get regulatori pushback may avail region go...</td>\n",
       "      <td>0.123333</td>\n",
       "      <td>0.490556</td>\n",
       "      <td>positive</td>\n",
       "      <td>Increase</td>\n",
       "    </tr>\n",
       "    <tr>\n",
       "      <th>2</th>\n",
       "      <td>2020-01-10</td>\n",
       "      <td>dome barrel weld made bar pretti good bar need...</td>\n",
       "      <td>0.411111</td>\n",
       "      <td>0.570988</td>\n",
       "      <td>positive</td>\n",
       "      <td>Decrease</td>\n",
       "    </tr>\n",
       "    <tr>\n",
       "      <th>3</th>\n",
       "      <td>2012-01-11</td>\n",
       "      <td>the exec conf room tesla use call denali i dec...</td>\n",
       "      <td>0.600000</td>\n",
       "      <td>1.000000</td>\n",
       "      <td>positive</td>\n",
       "      <td>Increase</td>\n",
       "    </tr>\n",
       "    <tr>\n",
       "      <th>4</th>\n",
       "      <td>2016-01-11</td>\n",
       "      <td>sad hear david bowi die he amaz</td>\n",
       "      <td>-0.500000</td>\n",
       "      <td>1.000000</td>\n",
       "      <td>negative</td>\n",
       "      <td>Decrease</td>\n",
       "    </tr>\n",
       "  </tbody>\n",
       "</table>\n",
       "</div>"
      ],
      "text/plain": [
       "         Date                                  Tweets_clean_more  polarity  \\\n",
       "0  2013-01-10  to super clear i dont wish could i mandat anyt...  0.216667   \n",
       "1  2019-01-10  ye get regulatori pushback may avail region go...  0.123333   \n",
       "2  2020-01-10  dome barrel weld made bar pretti good bar need...  0.411111   \n",
       "3  2012-01-11  the exec conf room tesla use call denali i dec...  0.600000   \n",
       "4  2016-01-11                    sad hear david bowi die he amaz -0.500000   \n",
       "\n",
       "   subjectivity sentiment     Label  \n",
       "0      0.525000  positive  Decrease  \n",
       "1      0.490556  positive  Increase  \n",
       "2      0.570988  positive  Decrease  \n",
       "3      1.000000  positive  Increase  \n",
       "4      1.000000  negative  Decrease  "
      ]
     },
     "execution_count": 28,
     "metadata": {},
     "output_type": "execute_result"
    }
   ],
   "source": [
    "df = pd.read_csv(\"../Data/Combined.csv\")\n",
    "df.head()"
   ]
  },
  {
   "cell_type": "code",
   "execution_count": 29,
   "metadata": {},
   "outputs": [
    {
     "data": {
      "text/plain": [
       "{'Decrease', 'Increase', 'No Change'}"
      ]
     },
     "execution_count": 29,
     "metadata": {},
     "output_type": "execute_result"
    }
   ],
   "source": [
    "set(df['Label'])"
   ]
  },
  {
   "cell_type": "code",
   "execution_count": 30,
   "metadata": {},
   "outputs": [],
   "source": [
    "df = df.replace({'positive':1,'negative':-1,'neutral':0,'Increase':1,'Decrease':-1,'No Change':0})"
   ]
  },
  {
   "attachments": {},
   "cell_type": "markdown",
   "metadata": {},
   "source": [
    "Plot of stock price and sentiment"
   ]
  },
  {
   "cell_type": "code",
   "execution_count": 31,
   "metadata": {},
   "outputs": [
    {
     "data": {
      "text/plain": [
       "<matplotlib.legend.Legend at 0x7f86a56acca0>"
      ]
     },
     "execution_count": 31,
     "metadata": {},
     "output_type": "execute_result"
    },
    {
     "data": {
      "image/png": "[encoded data removed]",
      "text/plain": [
       "<Figure size 1800x216 with 1 Axes>"
      ]
     },
     "metadata": {
      "needs_background": "light"
     },
     "output_type": "display_data"
    }
   ],
   "source": [
    "import matplotlib.pyplot as plt\n",
    "from matplotlib.pyplot import figure\n",
    "\n",
    "fig, ax = plt.subplots(figsize = (25,3))\n",
    "ax.plot(df[\"sentiment\"][:100],label=\"sentiment\")\n",
    "ax.plot(df[\"Label\"][:100],label=\"stock price\")\n",
    "ax.legend()"
   ]
  },
  {
   "cell_type": "code",
   "execution_count": 32,
   "metadata": {},
   "outputs": [
    {
     "data": {
      "text/html": [
       "<div>\n",
       "<style scoped>\n",
       "    .dataframe tbody tr th:only-of-type {\n",
       "        vertical-align: middle;\n",
       "    }\n",
       "\n",
       "    .dataframe tbody tr th {\n",
       "        vertical-align: top;\n",
       "    }\n",
       "\n",
       "    .dataframe thead th {\n",
       "        text-align: right;\n",
       "    }\n",
       "</style>\n",
       "<table border=\"1\" class=\"dataframe\">\n",
       "  <thead>\n",
       "    <tr style=\"text-align: right;\">\n",
       "      <th></th>\n",
       "      <th>Date</th>\n",
       "      <th>Tweets_clean_more</th>\n",
       "      <th>polarity</th>\n",
       "      <th>subjectivity</th>\n",
       "      <th>sentiment</th>\n",
       "      <th>Label</th>\n",
       "    </tr>\n",
       "  </thead>\n",
       "  <tbody>\n",
       "    <tr>\n",
       "      <th>333</th>\n",
       "      <td>2011-12-01</td>\n",
       "      <td>i made volum model s go now i need work miniat...</td>\n",
       "      <td>0.300000</td>\n",
       "      <td>0.200000</td>\n",
       "      <td>1</td>\n",
       "      <td>1</td>\n",
       "    </tr>\n",
       "    <tr>\n",
       "      <th>384</th>\n",
       "      <td>2011-12-21</td>\n",
       "      <td>yeah realli mom attest not sure i handl char m...</td>\n",
       "      <td>0.377273</td>\n",
       "      <td>0.708687</td>\n",
       "      <td>1</td>\n",
       "      <td>-1</td>\n",
       "    </tr>\n",
       "    <tr>\n",
       "      <th>390</th>\n",
       "      <td>2011-12-22</td>\n",
       "      <td>model s option perform red black i deliv car j...</td>\n",
       "      <td>0.090476</td>\n",
       "      <td>0.376190</td>\n",
       "      <td>1</td>\n",
       "      <td>1</td>\n",
       "    </tr>\n",
       "    <tr>\n",
       "      <th>410</th>\n",
       "      <td>2011-12-28</td>\n",
       "      <td>if ever want know real truth moon land best on...</td>\n",
       "      <td>0.600000</td>\n",
       "      <td>0.300000</td>\n",
       "      <td>1</td>\n",
       "      <td>-1</td>\n",
       "    </tr>\n",
       "    <tr>\n",
       "      <th>413</th>\n",
       "      <td>2011-12-29</td>\n",
       "      <td>cool person essay it realli reson i felt way c...</td>\n",
       "      <td>0.132857</td>\n",
       "      <td>0.438571</td>\n",
       "      <td>1</td>\n",
       "      <td>1</td>\n",
       "    </tr>\n",
       "    <tr>\n",
       "      <th>...</th>\n",
       "      <td>...</td>\n",
       "      <td>...</td>\n",
       "      <td>...</td>\n",
       "      <td>...</td>\n",
       "      <td>...</td>\n",
       "      <td>...</td>\n",
       "    </tr>\n",
       "    <tr>\n",
       "      <th>845</th>\n",
       "      <td>2021-04-09</td>\n",
       "      <td>it remov simul improv render resolut  congrat ...</td>\n",
       "      <td>0.048633</td>\n",
       "      <td>0.437346</td>\n",
       "      <td>1</td>\n",
       "      <td>-1</td>\n",
       "    </tr>\n",
       "    <tr>\n",
       "      <th>731</th>\n",
       "      <td>2021-04-13</td>\n",
       "      <td>tesla build collis repair capabl help address ...</td>\n",
       "      <td>-0.216667</td>\n",
       "      <td>0.316667</td>\n",
       "      <td>-1</td>\n",
       "      <td>1</td>\n",
       "    </tr>\n",
       "    <tr>\n",
       "      <th>734</th>\n",
       "      <td>2021-04-14</td>\n",
       "      <td>th raptor engin come soon mayb use get that ve...</td>\n",
       "      <td>0.052500</td>\n",
       "      <td>0.397500</td>\n",
       "      <td>1</td>\n",
       "      <td>-1</td>\n",
       "    </tr>\n",
       "    <tr>\n",
       "      <th>738</th>\n",
       "      <td>2021-04-15</td>\n",
       "      <td>one mani reason need make life multiplanetari ...</td>\n",
       "      <td>0.089066</td>\n",
       "      <td>0.373225</td>\n",
       "      <td>1</td>\n",
       "      <td>-1</td>\n",
       "    </tr>\n",
       "    <tr>\n",
       "      <th>743</th>\n",
       "      <td>2021-04-16</td>\n",
       "      <td>austin rock  same berlin limit product mode...</td>\n",
       "      <td>0.032000</td>\n",
       "      <td>0.333000</td>\n",
       "      <td>1</td>\n",
       "      <td>1</td>\n",
       "    </tr>\n",
       "  </tbody>\n",
       "</table>\n",
       "<p>1422 rows × 6 columns</p>\n",
       "</div>"
      ],
      "text/plain": [
       "           Date                                  Tweets_clean_more  polarity  \\\n",
       "333  2011-12-01  i made volum model s go now i need work miniat...  0.300000   \n",
       "384  2011-12-21  yeah realli mom attest not sure i handl char m...  0.377273   \n",
       "390  2011-12-22  model s option perform red black i deliv car j...  0.090476   \n",
       "410  2011-12-28  if ever want know real truth moon land best on...  0.600000   \n",
       "413  2011-12-29  cool person essay it realli reson i felt way c...  0.132857   \n",
       "..          ...                                                ...       ...   \n",
       "845  2021-04-09  it remov simul improv render resolut  congrat ...  0.048633   \n",
       "731  2021-04-13  tesla build collis repair capabl help address ... -0.216667   \n",
       "734  2021-04-14  th raptor engin come soon mayb use get that ve...  0.052500   \n",
       "738  2021-04-15  one mani reason need make life multiplanetari ...  0.089066   \n",
       "743  2021-04-16     austin rock  same berlin limit product mode...  0.032000   \n",
       "\n",
       "     subjectivity  sentiment  Label  \n",
       "333      0.200000          1      1  \n",
       "384      0.708687          1     -1  \n",
       "390      0.376190          1      1  \n",
       "410      0.300000          1     -1  \n",
       "413      0.438571          1      1  \n",
       "..            ...        ...    ...  \n",
       "845      0.437346          1     -1  \n",
       "731      0.316667         -1      1  \n",
       "734      0.397500          1     -1  \n",
       "738      0.373225          1     -1  \n",
       "743      0.333000          1      1  \n",
       "\n",
       "[1422 rows x 6 columns]"
      ]
     },
     "execution_count": 32,
     "metadata": {},
     "output_type": "execute_result"
    }
   ],
   "source": [
    "df.sort_values(by='Date')"
   ]
  },
  {
   "attachments": {},
   "cell_type": "markdown",
   "metadata": {},
   "source": [
    "Applied the test here: \n",
    "\n",
    "Question: If sentiment is predictive of the stock labels?\n",
    "\n",
    "Null hypothesis: sentiment does not help for predict the stock movement.\n",
    "\n",
    "Alternative hypothesis: sentiment granger-causes stock movement."
   ]
  },
  {
   "cell_type": "code",
   "execution_count": 33,
   "metadata": {},
   "outputs": [
    {
     "name": "stdout",
     "output_type": "stream",
     "text": [
      "\n",
      "Granger Causality\n",
      "number of lags (no zero) 1\n",
      "ssr based F test:         F=0.1163  , p=0.7331  , df_denom=1418, df_num=1\n",
      "ssr based chi2 test:   chi2=0.1166  , p=0.7328  , df=1\n",
      "likelihood ratio test: chi2=0.1166  , p=0.7328  , df=1\n",
      "parameter F test:         F=0.1163  , p=0.7331  , df_denom=1418, df_num=1\n",
      "\n",
      "Granger Causality\n",
      "number of lags (no zero) 2\n",
      "ssr based F test:         F=4.0720  , p=0.0172  , df_denom=1415, df_num=2\n",
      "ssr based chi2 test:   chi2=8.1728  , p=0.0168  , df=2\n",
      "likelihood ratio test: chi2=8.1494  , p=0.0170  , df=2\n",
      "parameter F test:         F=4.0720  , p=0.0172  , df_denom=1415, df_num=2\n",
      "\n",
      "Granger Causality\n",
      "number of lags (no zero) 3\n",
      "ssr based F test:         F=2.7060  , p=0.0440  , df_denom=1412, df_num=3\n",
      "ssr based chi2 test:   chi2=8.1581  , p=0.0429  , df=3\n",
      "likelihood ratio test: chi2=8.1347  , p=0.0433  , df=3\n",
      "parameter F test:         F=2.7060  , p=0.0440  , df_denom=1412, df_num=3\n",
      "\n",
      "Granger Causality\n",
      "number of lags (no zero) 4\n",
      "ssr based F test:         F=2.0432  , p=0.0861  , df_denom=1409, df_num=4\n",
      "ssr based chi2 test:   chi2=8.2249  , p=0.0837  , df=4\n",
      "likelihood ratio test: chi2=8.2012  , p=0.0845  , df=4\n",
      "parameter F test:         F=2.0432  , p=0.0861  , df_denom=1409, df_num=4\n",
      "\n",
      "Granger Causality\n",
      "number of lags (no zero) 5\n",
      "ssr based F test:         F=1.5980  , p=0.1576  , df_denom=1406, df_num=5\n",
      "ssr based chi2 test:   chi2=8.0524  , p=0.1534  , df=5\n",
      "likelihood ratio test: chi2=8.0296  , p=0.1546  , df=5\n",
      "parameter F test:         F=1.5980  , p=0.1576  , df_denom=1406, df_num=5\n"
     ]
    },
    {
     "data": {
      "text/plain": [
       "{1: ({'ssr_ftest': (0.11631619929956935, 0.7331152562665291, 1418.0, 1),\n",
       "   'ssr_chi2test': (0.11656228434745278, 0.732793298568778, 1),\n",
       "   'lrtest': (0.11655750390264075, 0.732798568356765, 1),\n",
       "   'params_ftest': (0.11631619929922392, 0.7331152562667027, 1418.0, 1.0)},\n",
       "  [<statsmodels.regression.linear_model.RegressionResultsWrapper at 0x7f86a5616b90>,\n",
       "   <statsmodels.regression.linear_model.RegressionResultsWrapper at 0x7f86a56ac1f0>,\n",
       "   array([[0., 1., 0.]])]),\n",
       " 2: ({'ssr_ftest': (4.072036063290468, 0.017242767912746503, 1415.0, 2),\n",
       "   'ssr_chi2test': (8.17284976660419, 0.01679918537550095, 2),\n",
       "   'lrtest': (8.149420090866442, 0.016997142361582153, 2),\n",
       "   'params_ftest': (4.072036063290606, 0.017242767912743314, 1415.0, 2.0)},\n",
       "  [<statsmodels.regression.linear_model.RegressionResultsWrapper at 0x7f86a564c310>,\n",
       "   <statsmodels.regression.linear_model.RegressionResultsWrapper at 0x7f86a5daa7d0>,\n",
       "   array([[0., 0., 1., 0., 0.],\n",
       "          [0., 0., 0., 1., 0.]])]),\n",
       " 3: ({'ssr_ftest': (2.7059503023515004, 0.044039692838961676, 1412.0, 3),\n",
       "   'ssr_chi2test': (8.158095210418086, 0.04285488940537115, 3),\n",
       "   'lrtest': (8.134733504004089, 0.04330771222025264, 3),\n",
       "   'params_ftest': (2.7059503023516007, 0.04403969283895129, 1412.0, 3.0)},\n",
       "  [<statsmodels.regression.linear_model.RegressionResultsWrapper at 0x7f86a5dabf40>,\n",
       "   <statsmodels.regression.linear_model.RegressionResultsWrapper at 0x7f86a5daa440>,\n",
       "   array([[0., 0., 0., 1., 0., 0., 0.],\n",
       "          [0., 0., 0., 0., 1., 0., 0.],\n",
       "          [0., 0., 0., 0., 0., 1., 0.]])]),\n",
       " 4: ({'ssr_ftest': (2.0431795576310616, 0.08606648832834395, 1409.0, 4),\n",
       "   'ssr_chi2test': (8.224921540726317, 0.08367793784588602, 4),\n",
       "   'lrtest': (8.201159596760135, 0.08448125706072909, 4),\n",
       "   'params_ftest': (2.0431795576310274, 0.08606648832834395, 1409.0, 4.0)},\n",
       "  [<statsmodels.regression.linear_model.RegressionResultsWrapper at 0x7f86a5daa710>,\n",
       "   <statsmodels.regression.linear_model.RegressionResultsWrapper at 0x7f86a5d873d0>,\n",
       "   array([[0., 0., 0., 0., 1., 0., 0., 0., 0.],\n",
       "          [0., 0., 0., 0., 0., 1., 0., 0., 0.],\n",
       "          [0., 0., 0., 0., 0., 0., 1., 0., 0.],\n",
       "          [0., 0., 0., 0., 0., 0., 0., 1., 0.]])]),\n",
       " 5: ({'ssr_ftest': (1.5979749595653496, 0.1575771221290424, 1406.0, 5),\n",
       "   'ssr_chi2test': (8.052384486856687, 0.15337214824595016, 5),\n",
       "   'lrtest': (8.02959115918793, 0.1546123234301146, 5),\n",
       "   'params_ftest': (1.5979749595653714, 0.1575771221290424, 1406.0, 5.0)},\n",
       "  [<statsmodels.regression.linear_model.RegressionResultsWrapper at 0x7f86a5d872e0>,\n",
       "   <statsmodels.regression.linear_model.RegressionResultsWrapper at 0x7f86a5d87880>,\n",
       "   array([[0., 0., 0., 0., 0., 1., 0., 0., 0., 0., 0.],\n",
       "          [0., 0., 0., 0., 0., 0., 1., 0., 0., 0., 0.],\n",
       "          [0., 0., 0., 0., 0., 0., 0., 1., 0., 0., 0.],\n",
       "          [0., 0., 0., 0., 0., 0., 0., 0., 1., 0., 0.],\n",
       "          [0., 0., 0., 0., 0., 0., 0., 0., 0., 1., 0.]])])}"
      ]
     },
     "execution_count": 33,
     "metadata": {},
     "output_type": "execute_result"
    }
   ],
   "source": [
    "grangercausalitytests(df[['Label','sentiment']],maxlag=5)"
   ]
  },
  {
   "attachments": {},
   "cell_type": "markdown",
   "metadata": {},
   "source": [
    "## Conclusion: \n",
    "p-value is most significant at lag=3, reject the null hypothesis.\n",
    "  \n",
    "The sentiment change is useful for predicting future stock labels. And the delay will be about 2 days."
   ]
  },
  {
   "attachments": {},
   "cell_type": "markdown",
   "metadata": {},
   "source": [
    "### (Extra) Granger test in reverse"
   ]
  },
  {
   "cell_type": "code",
   "execution_count": 34,
   "metadata": {},
   "outputs": [
    {
     "name": "stdout",
     "output_type": "stream",
     "text": [
      "\n",
      "Granger Causality\n",
      "number of lags (no zero) 1\n",
      "ssr based F test:         F=0.2232  , p=0.6367  , df_denom=1418, df_num=1\n",
      "ssr based chi2 test:   chi2=0.2237  , p=0.6362  , df=1\n",
      "likelihood ratio test: chi2=0.2237  , p=0.6362  , df=1\n",
      "parameter F test:         F=0.2232  , p=0.6367  , df_denom=1418, df_num=1\n",
      "\n",
      "Granger Causality\n",
      "number of lags (no zero) 2\n",
      "ssr based F test:         F=1.3005  , p=0.2727  , df_denom=1415, df_num=2\n",
      "ssr based chi2 test:   chi2=2.6102  , p=0.2712  , df=2\n",
      "likelihood ratio test: chi2=2.6078  , p=0.2715  , df=2\n",
      "parameter F test:         F=1.3005  , p=0.2727  , df_denom=1415, df_num=2\n",
      "\n",
      "Granger Causality\n",
      "number of lags (no zero) 3\n",
      "ssr based F test:         F=1.0331  , p=0.3769  , df_denom=1412, df_num=3\n",
      "ssr based chi2 test:   chi2=3.1148  , p=0.3743  , df=3\n",
      "likelihood ratio test: chi2=3.1113  , p=0.3748  , df=3\n",
      "parameter F test:         F=1.0331  , p=0.3769  , df_denom=1412, df_num=3\n",
      "\n",
      "Granger Causality\n",
      "number of lags (no zero) 4\n",
      "ssr based F test:         F=0.8552  , p=0.4903  , df_denom=1409, df_num=4\n",
      "ssr based chi2 test:   chi2=3.4426  , p=0.4867  , df=4\n",
      "likelihood ratio test: chi2=3.4385  , p=0.4873  , df=4\n",
      "parameter F test:         F=0.8552  , p=0.4903  , df_denom=1409, df_num=4\n",
      "\n",
      "Granger Causality\n",
      "number of lags (no zero) 5\n",
      "ssr based F test:         F=0.6105  , p=0.6919  , df_denom=1406, df_num=5\n",
      "ssr based chi2 test:   chi2=3.0763  , p=0.6882  , df=5\n",
      "likelihood ratio test: chi2=3.0730  , p=0.6887  , df=5\n",
      "parameter F test:         F=0.6105  , p=0.6919  , df_denom=1406, df_num=5\n",
      "\n",
      "Granger Causality\n",
      "number of lags (no zero) 6\n",
      "ssr based F test:         F=0.5339  , p=0.7828  , df_denom=1403, df_num=6\n",
      "ssr based chi2 test:   chi2=3.2333  , p=0.7790  , df=6\n",
      "likelihood ratio test: chi2=3.2296  , p=0.7795  , df=6\n",
      "parameter F test:         F=0.5339  , p=0.7828  , df_denom=1403, df_num=6\n",
      "\n",
      "Granger Causality\n",
      "number of lags (no zero) 7\n",
      "ssr based F test:         F=0.5040  , p=0.8321  , df_denom=1400, df_num=7\n",
      "ssr based chi2 test:   chi2=3.5658  , p=0.8282  , df=7\n",
      "likelihood ratio test: chi2=3.5614  , p=0.8287  , df=7\n",
      "parameter F test:         F=0.5040  , p=0.8321  , df_denom=1400, df_num=7\n"
     ]
    },
    {
     "data": {
      "text/plain": [
       "{1: ({'ssr_ftest': (0.2232423726304187, 0.6366531292808439, 1418.0, 1),\n",
       "   'ssr_chi2test': (0.2237146766627821, 0.6362239815601125, 1),\n",
       "   'lrtest': (0.22369706828749258, 0.6362372620332071, 1),\n",
       "   'params_ftest': (0.22324237263065264, 0.6366531292807251, 1418.0, 1.0)},\n",
       "  [<statsmodels.regression.linear_model.RegressionResultsWrapper at 0x7f86a5693760>,\n",
       "   <statsmodels.regression.linear_model.RegressionResultsWrapper at 0x7f86a564c100>,\n",
       "   array([[0., 1., 0.]])]),\n",
       " 2: ({'ssr_ftest': (1.3004850200981297, 0.2727250197448701, 1415.0, 2),\n",
       "   'ssr_chi2test': (2.6101607470520767, 0.27115074082864415, 2),\n",
       "   'lrtest': (2.6077647604834056, 0.27147577224905556, 2),\n",
       "   'params_ftest': (1.3004850200982134, 0.27272501974489444, 1415.0, 2.0)},\n",
       "  [<statsmodels.regression.linear_model.RegressionResultsWrapper at 0x7f86a5da98a0>,\n",
       "   <statsmodels.regression.linear_model.RegressionResultsWrapper at 0x7f86a5da9f30>,\n",
       "   array([[0., 0., 1., 0., 0.],\n",
       "          [0., 0., 0., 1., 0.]])]),\n",
       " 3: ({'ssr_ftest': (1.0331313895316063, 0.37689620977988664, 1412.0, 3),\n",
       "   'ssr_chi2test': (3.114759437136011, 0.3742677302928258, 3),\n",
       "   'lrtest': (3.1113459231910383, 0.3747743874653986, 3),\n",
       "   'params_ftest': (1.033131389531656, 0.37689620977988664, 1412.0, 3.0)},\n",
       "  [<statsmodels.regression.linear_model.RegressionResultsWrapper at 0x7f86a5dcc370>,\n",
       "   <statsmodels.regression.linear_model.RegressionResultsWrapper at 0x7f86a5dcca00>,\n",
       "   array([[0., 0., 0., 1., 0., 0., 0.],\n",
       "          [0., 0., 0., 0., 1., 0., 0.],\n",
       "          [0., 0., 0., 0., 0., 1., 0.]])]),\n",
       " 4: ({'ssr_ftest': (0.8551971156060472, 0.49029071897727916, 1409.0, 4),\n",
       "   'ssr_chi2test': (3.4426387790755855, 0.48665367079264765, 4),\n",
       "   'lrtest': (3.4384664892131696, 0.4872961161023245, 4),\n",
       "   'params_ftest': (0.855197115606046, 0.49029071897727916, 1409.0, 4.0)},\n",
       "  [<statsmodels.regression.linear_model.RegressionResultsWrapper at 0x7f86a5dccd90>,\n",
       "   <statsmodels.regression.linear_model.RegressionResultsWrapper at 0x7f86a5dccc70>,\n",
       "   array([[0., 0., 0., 0., 1., 0., 0., 0., 0.],\n",
       "          [0., 0., 0., 0., 0., 1., 0., 0., 0.],\n",
       "          [0., 0., 0., 0., 0., 0., 1., 0., 0.],\n",
       "          [0., 0., 0., 0., 0., 0., 0., 1., 0.]])]),\n",
       " 5: ({'ssr_ftest': (0.6104904043839127, 0.6919082596042863, 1406.0, 5),\n",
       "   'ssr_chi2test': (3.0763332255049938, 0.6882186347336914, 5),\n",
       "   'lrtest': (3.0729986627134167, 0.68873252377764, 5),\n",
       "   'params_ftest': (0.610490404383933, 0.6919082596042863, 1406.0, 5.0)},\n",
       "  [<statsmodels.regression.linear_model.RegressionResultsWrapper at 0x7f86a5dcd030>,\n",
       "   <statsmodels.regression.linear_model.RegressionResultsWrapper at 0x7f86a5dccfd0>,\n",
       "   array([[0., 0., 0., 0., 0., 1., 0., 0., 0., 0., 0.],\n",
       "          [0., 0., 0., 0., 0., 0., 1., 0., 0., 0., 0.],\n",
       "          [0., 0., 0., 0., 0., 0., 0., 1., 0., 0., 0.],\n",
       "          [0., 0., 0., 0., 0., 0., 0., 0., 1., 0., 0.],\n",
       "          [0., 0., 0., 0., 0., 0., 0., 0., 0., 1., 0.]])]),\n",
       " 6: ({'ssr_ftest': (0.53393553428613, 0.7827743096824149, 1403.0, 6),\n",
       "   'ssr_chi2test': (3.2332974335673277, 0.7790471915063973, 6),\n",
       "   'lrtest': (3.2296115842082145, 0.7795252843219103, 6),\n",
       "   'params_ftest': (0.5339355342861444, 0.7827743096823949, 1403.0, 6.0)},\n",
       "  [<statsmodels.regression.linear_model.RegressionResultsWrapper at 0x7f86a5dcd2d0>,\n",
       "   <statsmodels.regression.linear_model.RegressionResultsWrapper at 0x7f86a5dcd270>,\n",
       "   array([[0., 0., 0., 0., 0., 0., 1., 0., 0., 0., 0., 0., 0.],\n",
       "          [0., 0., 0., 0., 0., 0., 0., 1., 0., 0., 0., 0., 0.],\n",
       "          [0., 0., 0., 0., 0., 0., 0., 0., 1., 0., 0., 0., 0.],\n",
       "          [0., 0., 0., 0., 0., 0., 0., 0., 0., 1., 0., 0., 0.],\n",
       "          [0., 0., 0., 0., 0., 0., 0., 0., 0., 0., 1., 0., 0.],\n",
       "          [0., 0., 0., 0., 0., 0., 0., 0., 0., 0., 0., 1., 0.]])]),\n",
       " 7: ({'ssr_ftest': (0.5040051041813114, 0.8320500059886542, 1400.0, 7),\n",
       "   'ssr_chi2test': (3.5658361120827786, 0.8282038006177649, 7),\n",
       "   'lrtest': (3.5613506471563596, 0.8286852183728015, 7),\n",
       "   'params_ftest': (0.504005104181252, 0.8320500059887043, 1400.0, 7.0)},\n",
       "  [<statsmodels.regression.linear_model.RegressionResultsWrapper at 0x7f86a5dcd4b0>,\n",
       "   <statsmodels.regression.linear_model.RegressionResultsWrapper at 0x7f86a5dcd510>,\n",
       "   array([[0., 0., 0., 0., 0., 0., 0., 1., 0., 0., 0., 0., 0., 0., 0.],\n",
       "          [0., 0., 0., 0., 0., 0., 0., 0., 1., 0., 0., 0., 0., 0., 0.],\n",
       "          [0., 0., 0., 0., 0., 0., 0., 0., 0., 1., 0., 0., 0., 0., 0.],\n",
       "          [0., 0., 0., 0., 0., 0., 0., 0., 0., 0., 1., 0., 0., 0., 0.],\n",
       "          [0., 0., 0., 0., 0., 0., 0., 0., 0., 0., 0., 1., 0., 0., 0.],\n",
       "          [0., 0., 0., 0., 0., 0., 0., 0., 0., 0., 0., 0., 1., 0., 0.],\n",
       "          [0., 0., 0., 0., 0., 0., 0., 0., 0., 0., 0., 0., 0., 1., 0.]])])}"
      ]
     },
     "execution_count": 34,
     "metadata": {},
     "output_type": "execute_result"
    }
   ],
   "source": [
    "grangercausalitytests(df[['sentiment',\"Label\"]],maxlag=7)"
   ]
  },
  {
   "attachments": {},
   "cell_type": "markdown",
   "metadata": {},
   "source": [
    "### (Extra) conclusion:\n",
    "since p-value is not significant in all lags, stock labels do not helpful for predict the sentiment change."
   ]
  }
 ],
 "metadata": {
  "kernelspec": {
   "display_name": "Python 3.10.4 ('anly-580')",
   "language": "python",
   "name": "python3"
  },
  "language_info": {
   "codemirror_mode": {
    "name": "ipython",
    "version": 3
   },
   "file_extension": ".py",
   "mimetype": "text/x-python",
   "name": "python",
   "nbconvert_exporter": "python",
   "pygments_lexer": "ipython3",
   "version": "3.10.4"
  },
  "orig_nbformat": 4,
  "vscode": {
   "interpreter": {
    "hash": "69c3b04e245bc9082c225f8c1091c45d82df7048435e683820f870e285759b4a"
   }
  }
 },
 "nbformat": 4,
 "nbformat_minor": 2
}
