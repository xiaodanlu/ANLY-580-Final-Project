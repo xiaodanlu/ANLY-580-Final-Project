{
 "cells": [
  {
   "cell_type": "markdown",
   "metadata": {},
   "source": [
    "#### Random forest model\n",
    "x = twitter sentiment(positive, negative, neutral), stock volume\n",
    "  \n",
    "y = stock price (increase, decrease, no change) (original label)\n",
    "  \n",
    "model accuracy = 53%"
   ]
  },
  {
   "cell_type": "code",
   "execution_count": 110,
   "metadata": {},
   "outputs": [],
   "source": [
    "from sklearn.model_selection import train_test_split\n",
    "from sklearn.ensemble import RandomForestClassifier\n",
    "from sklearn.metrics import confusion_matrix, accuracy_score, classification_report,roc_auc_score,f1_score\n",
    "from sklearn.feature_extraction.text import CountVectorizer\n",
    "from sklearn.preprocessing import LabelBinarizer\n",
    "import pandas as pd"
   ]
  },
  {
   "cell_type": "code",
   "execution_count": 111,
   "metadata": {},
   "outputs": [
    {
     "data": {
      "text/html": [
       "<div>\n",
       "<style scoped>\n",
       "    .dataframe tbody tr th:only-of-type {\n",
       "        vertical-align: middle;\n",
       "    }\n",
       "\n",
       "    .dataframe tbody tr th {\n",
       "        vertical-align: top;\n",
       "    }\n",
       "\n",
       "    .dataframe thead th {\n",
       "        text-align: right;\n",
       "    }\n",
       "</style>\n",
       "<table border=\"1\" class=\"dataframe\">\n",
       "  <thead>\n",
       "    <tr style=\"text-align: right;\">\n",
       "      <th></th>\n",
       "      <th>Date</th>\n",
       "      <th>Tweets_clean_more</th>\n",
       "      <th>polarity</th>\n",
       "      <th>subjectivity</th>\n",
       "      <th>sentiment</th>\n",
       "      <th>Label_delayed_2Days</th>\n",
       "    </tr>\n",
       "  </thead>\n",
       "  <tbody>\n",
       "    <tr>\n",
       "      <th>0</th>\n",
       "      <td>2013-01-10</td>\n",
       "      <td>to super clear i dont wish could i mandat anyt...</td>\n",
       "      <td>0.216667</td>\n",
       "      <td>0.525000</td>\n",
       "      <td>positive</td>\n",
       "      <td>Decrease</td>\n",
       "    </tr>\n",
       "    <tr>\n",
       "      <th>1</th>\n",
       "      <td>2019-01-10</td>\n",
       "      <td>ye get regulatori pushback may avail region go...</td>\n",
       "      <td>0.123333</td>\n",
       "      <td>0.490556</td>\n",
       "      <td>positive</td>\n",
       "      <td>Increase</td>\n",
       "    </tr>\n",
       "    <tr>\n",
       "      <th>2</th>\n",
       "      <td>2020-01-10</td>\n",
       "      <td>dome barrel weld made bar pretti good bar need...</td>\n",
       "      <td>0.411111</td>\n",
       "      <td>0.570988</td>\n",
       "      <td>positive</td>\n",
       "      <td>Decrease</td>\n",
       "    </tr>\n",
       "    <tr>\n",
       "      <th>3</th>\n",
       "      <td>2012-01-11</td>\n",
       "      <td>the exec conf room tesla use call denali i dec...</td>\n",
       "      <td>0.600000</td>\n",
       "      <td>1.000000</td>\n",
       "      <td>positive</td>\n",
       "      <td>Decrease</td>\n",
       "    </tr>\n",
       "    <tr>\n",
       "      <th>4</th>\n",
       "      <td>2016-01-11</td>\n",
       "      <td>sad hear david bowi die he amaz</td>\n",
       "      <td>-0.500000</td>\n",
       "      <td>1.000000</td>\n",
       "      <td>negative</td>\n",
       "      <td>Increase</td>\n",
       "    </tr>\n",
       "  </tbody>\n",
       "</table>\n",
       "</div>"
      ],
      "text/plain": [
       "         Date                                  Tweets_clean_more  polarity  \\\n",
       "0  2013-01-10  to super clear i dont wish could i mandat anyt...  0.216667   \n",
       "1  2019-01-10  ye get regulatori pushback may avail region go...  0.123333   \n",
       "2  2020-01-10  dome barrel weld made bar pretti good bar need...  0.411111   \n",
       "3  2012-01-11  the exec conf room tesla use call denali i dec...  0.600000   \n",
       "4  2016-01-11                    sad hear david bowi die he amaz -0.500000   \n",
       "\n",
       "   subjectivity sentiment Label_delayed_2Days  \n",
       "0      0.525000  positive            Decrease  \n",
       "1      0.490556  positive            Increase  \n",
       "2      0.570988  positive            Decrease  \n",
       "3      1.000000  positive            Decrease  \n",
       "4      1.000000  negative            Increase  "
      ]
     },
     "execution_count": 111,
     "metadata": {},
     "output_type": "execute_result"
    }
   ],
   "source": [
    "df = pd.read_csv('../Data/Combined_Delayed_2Days.csv')\n",
    "#df = df.replace({'positive':1,'negative':-1,'neutral':0,'Increase':1,'Decrease':-1,'No Change':0})\n",
    "df.head()"
   ]
  },
  {
   "cell_type": "code",
   "execution_count": 122,
   "metadata": {},
   "outputs": [],
   "source": [
    "\n",
    "x = df['Tweets_clean_more']\n",
    "y = df['Label_delayed_2Days']\n",
    "\n",
    "x_train,x_test,y_train,y_test = train_test_split(x,y,train_size=0.8,random_state=123)\n",
    "vec = CountVectorizer()\n",
    "vec.fit(x_train)\n",
    "vec.fit(x_test)\n",
    "x_train_features = vec.transform(x_train)\n",
    "x_test_features = vec.transform(x_test)\n"
   ]
  },
  {
   "cell_type": "code",
   "execution_count": 126,
   "metadata": {},
   "outputs": [
    {
     "name": "stdout",
     "output_type": "stream",
     "text": [
      "Accuracy Score: \n",
      "0.5246478873239436\n",
      "--------------------------------------------------------\n",
      "Report: \n",
      "              precision    recall  f1-score   support\n",
      "\n",
      "    Decrease       0.53      0.59      0.55       140\n",
      "    Increase       0.52      0.48      0.50       139\n",
      "   No Change       0.00      0.00      0.00         5\n",
      "\n",
      "    accuracy                           0.52       284\n",
      "   macro avg       0.35      0.36      0.35       284\n",
      "weighted avg       0.52      0.52      0.52       284\n",
      "\n",
      "Confusion Matrix:  [[82 58  0]\n",
      " [72 67  0]\n",
      " [ 2  3  0]]\n",
      "ROC AUC score: 0.522191688357032\n",
      "F1 Score: 0.5246478873239436\n"
     ]
    },
    {
     "name": "stderr",
     "output_type": "stream",
     "text": [
      "/Users/taoyu/opt/anaconda3/envs/anly-580/lib/python3.10/site-packages/sklearn/metrics/_classification.py:1318: UndefinedMetricWarning: Precision and F-score are ill-defined and being set to 0.0 in labels with no predicted samples. Use `zero_division` parameter to control this behavior.\n",
      "  _warn_prf(average, modifier, msg_start, len(result))\n",
      "/Users/taoyu/opt/anaconda3/envs/anly-580/lib/python3.10/site-packages/sklearn/metrics/_classification.py:1318: UndefinedMetricWarning: Precision and F-score are ill-defined and being set to 0.0 in labels with no predicted samples. Use `zero_division` parameter to control this behavior.\n",
      "  _warn_prf(average, modifier, msg_start, len(result))\n",
      "/Users/taoyu/opt/anaconda3/envs/anly-580/lib/python3.10/site-packages/sklearn/metrics/_classification.py:1318: UndefinedMetricWarning: Precision and F-score are ill-defined and being set to 0.0 in labels with no predicted samples. Use `zero_division` parameter to control this behavior.\n",
      "  _warn_prf(average, modifier, msg_start, len(result))\n"
     ]
    }
   ],
   "source": [
    "clf = RandomForestClassifier(n_estimators = 100,random_state=000)\n",
    "clf.fit(x_train_features,y_train.ravel())\n",
    "y_pred = clf.predict(x_test_features)\n",
    "print(\"Accuracy Score: \")\n",
    "print(accuracy_score(y_test,y_pred))\n",
    "print(\"--------------------------------------------------------\")\n",
    "print(\"Report: \")\n",
    "print(classification_report(y_test,y_pred))\n",
    "cm = confusion_matrix(y_test,y_pred)\n",
    "print(\"Confusion Matrix: \",cm)\n",
    "lb = LabelBinarizer()\n",
    "lb.fit(y_test)\n",
    "y_test_lb = lb.transform(y_test)\n",
    "y_pred_lb = lb.transform(y_pred)\n",
    "print(\"ROC AUC score:\", roc_auc_score(y_test_lb,y_pred_lb))\n",
    "print(\"F1 Score:\",f1_score(y_test,y_pred,average=\"micro\"))\n"
   ]
  },
  {
   "cell_type": "code",
   "execution_count": 114,
   "metadata": {},
   "outputs": [
    {
     "name": "stdout",
     "output_type": "stream",
     "text": [
      "Accuracy Score: \n",
      "0.4647887323943662\n",
      "--------------------------------------------------------\n",
      "Report: \n",
      "              precision    recall  f1-score   support\n",
      "\n",
      "    Decrease       0.47      0.52      0.49       140\n",
      "    Increase       0.46      0.42      0.44       139\n",
      "   No Change       0.00      0.00      0.00         5\n",
      "\n",
      "    accuracy                           0.46       284\n",
      "   macro avg       0.31      0.32      0.31       284\n",
      "weighted avg       0.46      0.46      0.46       284\n",
      "\n",
      "Confusion Matrix: \n"
     ]
    },
    {
     "name": "stderr",
     "output_type": "stream",
     "text": [
      "/Users/taoyu/opt/anaconda3/envs/anly-580/lib/python3.10/site-packages/sklearn/metrics/_classification.py:1318: UndefinedMetricWarning: Precision and F-score are ill-defined and being set to 0.0 in labels with no predicted samples. Use `zero_division` parameter to control this behavior.\n",
      "  _warn_prf(average, modifier, msg_start, len(result))\n",
      "/Users/taoyu/opt/anaconda3/envs/anly-580/lib/python3.10/site-packages/sklearn/metrics/_classification.py:1318: UndefinedMetricWarning: Precision and F-score are ill-defined and being set to 0.0 in labels with no predicted samples. Use `zero_division` parameter to control this behavior.\n",
      "  _warn_prf(average, modifier, msg_start, len(result))\n",
      "/Users/taoyu/opt/anaconda3/envs/anly-580/lib/python3.10/site-packages/sklearn/metrics/_classification.py:1318: UndefinedMetricWarning: Precision and F-score are ill-defined and being set to 0.0 in labels with no predicted samples. Use `zero_division` parameter to control this behavior.\n",
      "  _warn_prf(average, modifier, msg_start, len(result))\n"
     ]
    },
    {
     "data": {
      "text/html": [
       "<div>\n",
       "<style scoped>\n",
       "    .dataframe tbody tr th:only-of-type {\n",
       "        vertical-align: middle;\n",
       "    }\n",
       "\n",
       "    .dataframe tbody tr th {\n",
       "        vertical-align: top;\n",
       "    }\n",
       "\n",
       "    .dataframe thead th {\n",
       "        text-align: right;\n",
       "    }\n",
       "</style>\n",
       "<table border=\"1\" class=\"dataframe\">\n",
       "  <thead>\n",
       "    <tr style=\"text-align: right;\">\n",
       "      <th></th>\n",
       "      <th>0</th>\n",
       "      <th>1</th>\n",
       "      <th>2</th>\n",
       "    </tr>\n",
       "  </thead>\n",
       "  <tbody>\n",
       "    <tr>\n",
       "      <th>0</th>\n",
       "      <td>73</td>\n",
       "      <td>67</td>\n",
       "      <td>0</td>\n",
       "    </tr>\n",
       "    <tr>\n",
       "      <th>1</th>\n",
       "      <td>80</td>\n",
       "      <td>59</td>\n",
       "      <td>0</td>\n",
       "    </tr>\n",
       "    <tr>\n",
       "      <th>2</th>\n",
       "      <td>3</td>\n",
       "      <td>2</td>\n",
       "      <td>0</td>\n",
       "    </tr>\n",
       "  </tbody>\n",
       "</table>\n",
       "</div>"
      ],
      "text/plain": [
       "    0   1  2\n",
       "0  73  67  0\n",
       "1  80  59  0\n",
       "2   3   2  0"
      ]
     },
     "metadata": {},
     "output_type": "display_data"
    },
    {
     "name": "stdout",
     "output_type": "stream",
     "text": [
      "ROC AUC score: 0.4822730075381403\n"
     ]
    }
   ],
   "source": [
    "clf = RandomForestClassifier(n_estimators = 50)\n",
    "clf.fit(x_train_features,y_train.ravel())\n",
    "y_pred = clf.predict(x_test_features)\n",
    "print(\"Accuracy Score: \")\n",
    "print(accuracy_score(y_test,y_pred))\n",
    "print(\"--------------------------------------------------------\")\n",
    "print(\"Report: \")\n",
    "print(classification_report(y_test,y_pred))\n",
    "cm = confusion_matrix(y_test,y_pred)\n",
    "cm_df = pd.DataFrame(cm)\n",
    "print(\"Confusion Matrix: \")\n",
    "display(cm_df)\n",
    "lb = LabelBinarizer()\n",
    "lb.fit(y_test)\n",
    "y_test_lb = lb.transform(y_test)\n",
    "y_pred_lb = lb.transform(y_pred)\n",
    "print(\"ROC AUC score:\", roc_auc_score(y_test_lb,y_pred_lb))"
   ]
  },
  {
   "cell_type": "code",
   "execution_count": 121,
   "metadata": {},
   "outputs": [
    {
     "name": "stdout",
     "output_type": "stream",
     "text": [
      "Accuracy Score: \n",
      "0.45422535211267606\n",
      "--------------------------------------------------------\n",
      "Report: \n",
      "              precision    recall  f1-score   support\n",
      "\n",
      "    Decrease       0.46      0.47      0.46       140\n",
      "    Increase       0.45      0.45      0.45       139\n",
      "   No Change       0.00      0.00      0.00         5\n",
      "\n",
      "    accuracy                           0.45       284\n",
      "   macro avg       0.30      0.31      0.31       284\n",
      "weighted avg       0.45      0.45      0.45       284\n",
      "\n",
      "Confusion Matrix:  [[66 74  0]\n",
      " [76 63  0]\n",
      " [ 3  2  0]]\n",
      "ROC AUC score: 0.4753194898924867\n",
      "F1 Score: 0.45422535211267606\n"
     ]
    },
    {
     "name": "stderr",
     "output_type": "stream",
     "text": [
      "/Users/taoyu/opt/anaconda3/envs/anly-580/lib/python3.10/site-packages/sklearn/metrics/_classification.py:1318: UndefinedMetricWarning: Precision and F-score are ill-defined and being set to 0.0 in labels with no predicted samples. Use `zero_division` parameter to control this behavior.\n",
      "  _warn_prf(average, modifier, msg_start, len(result))\n",
      "/Users/taoyu/opt/anaconda3/envs/anly-580/lib/python3.10/site-packages/sklearn/metrics/_classification.py:1318: UndefinedMetricWarning: Precision and F-score are ill-defined and being set to 0.0 in labels with no predicted samples. Use `zero_division` parameter to control this behavior.\n",
      "  _warn_prf(average, modifier, msg_start, len(result))\n",
      "/Users/taoyu/opt/anaconda3/envs/anly-580/lib/python3.10/site-packages/sklearn/metrics/_classification.py:1318: UndefinedMetricWarning: Precision and F-score are ill-defined and being set to 0.0 in labels with no predicted samples. Use `zero_division` parameter to control this behavior.\n",
      "  _warn_prf(average, modifier, msg_start, len(result))\n"
     ]
    }
   ],
   "source": [
    "clf = RandomForestClassifier(n_estimators = 30)\n",
    "clf.fit(x_train_features,y_train.ravel())\n",
    "y_pred = clf.predict(x_test_features)\n",
    "print(\"Accuracy Score: \")\n",
    "print(accuracy_score(y_test,y_pred))\n",
    "print(\"--------------------------------------------------------\")\n",
    "print(\"Report: \")\n",
    "print(classification_report(y_test,y_pred))\n",
    "cm = confusion_matrix(y_test,y_pred)\n",
    "print(\"Confusion Matrix: \",cm)\n",
    "lb = LabelBinarizer()\n",
    "lb.fit(y_test)\n",
    "y_test_lb = lb.transform(y_test)\n",
    "y_pred_lb = lb.transform(y_pred)\n",
    "print(\"ROC AUC score:\", roc_auc_score(y_test_lb,y_pred_lb))\n",
    "print(\"F1 Score:\",f1_score(y_test,y_pred,average=\"micro\"))"
   ]
  },
  {
   "cell_type": "code",
   "execution_count": 107,
   "metadata": {},
   "outputs": [
    {
     "name": "stdout",
     "output_type": "stream",
     "text": [
      "Accuracy Score: \n",
      "0.4964788732394366\n",
      "--------------------------------------------------------\n",
      "Report: \n",
      "              precision    recall  f1-score   support\n",
      "\n",
      "    Decrease       0.50      0.55      0.52       140\n",
      "    Increase       0.50      0.46      0.48       139\n",
      "   No Change       0.00      0.00      0.00         5\n",
      "\n",
      "    accuracy                           0.50       284\n",
      "   macro avg       0.33      0.34      0.33       284\n",
      "weighted avg       0.49      0.50      0.49       284\n",
      "\n",
      "Confusion Matrix: \n"
     ]
    },
    {
     "name": "stderr",
     "output_type": "stream",
     "text": [
      "/Users/taoyu/opt/anaconda3/envs/anly-580/lib/python3.10/site-packages/sklearn/metrics/_classification.py:1318: UndefinedMetricWarning: Precision and F-score are ill-defined and being set to 0.0 in labels with no predicted samples. Use `zero_division` parameter to control this behavior.\n",
      "  _warn_prf(average, modifier, msg_start, len(result))\n",
      "/Users/taoyu/opt/anaconda3/envs/anly-580/lib/python3.10/site-packages/sklearn/metrics/_classification.py:1318: UndefinedMetricWarning: Precision and F-score are ill-defined and being set to 0.0 in labels with no predicted samples. Use `zero_division` parameter to control this behavior.\n",
      "  _warn_prf(average, modifier, msg_start, len(result))\n",
      "/Users/taoyu/opt/anaconda3/envs/anly-580/lib/python3.10/site-packages/sklearn/metrics/_classification.py:1318: UndefinedMetricWarning: Precision and F-score are ill-defined and being set to 0.0 in labels with no predicted samples. Use `zero_division` parameter to control this behavior.\n",
      "  _warn_prf(average, modifier, msg_start, len(result))\n"
     ]
    },
    {
     "data": {
      "text/html": [
       "<div>\n",
       "<style scoped>\n",
       "    .dataframe tbody tr th:only-of-type {\n",
       "        vertical-align: middle;\n",
       "    }\n",
       "\n",
       "    .dataframe tbody tr th {\n",
       "        vertical-align: top;\n",
       "    }\n",
       "\n",
       "    .dataframe thead th {\n",
       "        text-align: right;\n",
       "    }\n",
       "</style>\n",
       "<table border=\"1\" class=\"dataframe\">\n",
       "  <thead>\n",
       "    <tr style=\"text-align: right;\">\n",
       "      <th></th>\n",
       "      <th>0</th>\n",
       "      <th>1</th>\n",
       "      <th>2</th>\n",
       "    </tr>\n",
       "  </thead>\n",
       "  <tbody>\n",
       "    <tr>\n",
       "      <th>0</th>\n",
       "      <td>77</td>\n",
       "      <td>63</td>\n",
       "      <td>0</td>\n",
       "    </tr>\n",
       "    <tr>\n",
       "      <th>1</th>\n",
       "      <td>75</td>\n",
       "      <td>64</td>\n",
       "      <td>0</td>\n",
       "    </tr>\n",
       "    <tr>\n",
       "      <th>2</th>\n",
       "      <td>3</td>\n",
       "      <td>2</td>\n",
       "      <td>0</td>\n",
       "    </tr>\n",
       "  </tbody>\n",
       "</table>\n",
       "</div>"
      ],
      "text/plain": [
       "    0   1  2\n",
       "0  77  63  0\n",
       "1  75  64  0\n",
       "2   3   2  0"
      ]
     },
     "metadata": {},
     "output_type": "display_data"
    },
    {
     "name": "stdout",
     "output_type": "stream",
     "text": [
      "ROC AUC score: 0.5034148543234378\n"
     ]
    }
   ],
   "source": [
    "clf = RandomForestClassifier(n_estimators = 150)\n",
    "clf.fit(x_train_features,y_train.ravel())\n",
    "y_pred = clf.predict(x_test_features)\n",
    "print(\"Accuracy Score: \")\n",
    "print(accuracy_score(y_test,y_pred))\n",
    "print(\"--------------------------------------------------------\")\n",
    "print(\"Report: \")\n",
    "print(classification_report(y_test,y_pred))\n",
    "cm = confusion_matrix(y_test,y_pred)\n",
    "cm_df = pd.DataFrame(cm)\n",
    "print(\"Confusion Matrix: \")\n",
    "display(cm_df)\n",
    "lb = LabelBinarizer()\n",
    "lb.fit(y_test)\n",
    "y_test_lb = lb.transform(y_test)\n",
    "y_pred_lb = lb.transform(y_pred)\n",
    "print(\"ROC AUC score:\", roc_auc_score(y_test_lb,y_pred_lb))"
   ]
  }
 ],
 "metadata": {
  "kernelspec": {
   "display_name": "Python 3.10.4 ('anly-580')",
   "language": "python",
   "name": "python3"
  },
  "language_info": {
   "codemirror_mode": {
    "name": "ipython",
    "version": 3
   },
   "file_extension": ".py",
   "mimetype": "text/x-python",
   "name": "python",
   "nbconvert_exporter": "python",
   "pygments_lexer": "ipython3",
   "version": "3.10.4"
  },
  "orig_nbformat": 4,
  "vscode": {
   "interpreter": {
    "hash": "69c3b04e245bc9082c225f8c1091c45d82df7048435e683820f870e285759b4a"
   }
  }
 },
 "nbformat": 4,
 "nbformat_minor": 2
}
